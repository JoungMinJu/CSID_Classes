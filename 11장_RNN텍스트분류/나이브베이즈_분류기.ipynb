{
  "nbformat": 4,
  "nbformat_minor": 0,
  "metadata": {
    "colab": {
      "name": "나이브베이즈 분류기.ipynb",
      "provenance": [],
      "authorship_tag": "ABX9TyPvdidLQfTDwKqOHcSA+zMZ",
      "include_colab_link": true
    },
    "kernelspec": {
      "name": "python3",
      "display_name": "Python 3"
    },
    "language_info": {
      "name": "python"
    }
  },
  "cells": [
    {
      "cell_type": "markdown",
      "metadata": {
        "id": "view-in-github",
        "colab_type": "text"
      },
      "source": [
        "<a href=\"https://colab.research.google.com/github/JoungMinJu/lab_study/blob/main/11%EC%9E%A5_RNN%ED%85%8D%EC%8A%A4%ED%8A%B8%EB%B6%84%EB%A5%98/%EB%82%98%EC%9D%B4%EB%B8%8C%EB%B2%A0%EC%9D%B4%EC%A6%88_%EB%B6%84%EB%A5%98%EA%B8%B0.ipynb\" target=\"_parent\"><img src=\"https://colab.research.google.com/assets/colab-badge.svg\" alt=\"Open In Colab\"/></a>"
      ]
    },
    {
      "cell_type": "code",
      "metadata": {
        "colab": {
          "base_uri": "https://localhost:8080/"
        },
        "id": "CFhD27MtDQz8",
        "outputId": "936d2395-0adf-4345-9e34-ca1faba3d389"
      },
      "source": [
        "from sklearn.datasets import fetch_20newsgroups\n",
        "newsdata=fetch_20newsgroups(subset='train')\n",
        "print(newsdata.keys()) #어떤 속성으로 구성되어있는지 출력\n",
        "\n",
        "#subset에 all 넣으면 전체 데이터. 위는 train데이터만 가져옴\n"
      ],
      "execution_count": 1,
      "outputs": [
        {
          "output_type": "stream",
          "text": [
            "Downloading 20news dataset. This may take a few minutes.\n",
            "Downloading dataset from https://ndownloader.figshare.com/files/5975967 (14 MB)\n"
          ],
          "name": "stderr"
        },
        {
          "output_type": "stream",
          "text": [
            "dict_keys(['data', 'filenames', 'target_names', 'target', 'DESCR'])\n"
          ],
          "name": "stdout"
        }
      ]
    },
    {
      "cell_type": "code",
      "metadata": {
        "colab": {
          "base_uri": "https://localhost:8080/"
        },
        "id": "YjTpvgpvDsC3",
        "outputId": "417211f6-ea6e-4781-fe07-9afd22ce9f91"
      },
      "source": [
        "#훈련용 샘플의 개수 파악\n",
        "\n",
        "\n",
        "print (len(newsdata.data), len(newsdata.filenames), len(newsdata.target_names), len(newsdata.target))\n",
        "\n",
        "#총 11,314개. 그리고 target_names는 이 데이터의 20개의 카테고리의 이름을 담고 있다.\n"
      ],
      "execution_count": 2,
      "outputs": [
        {
          "output_type": "stream",
          "text": [
            "11314 11314 20 11314\n"
          ],
          "name": "stdout"
        }
      ]
    },
    {
      "cell_type": "code",
      "metadata": {
        "colab": {
          "base_uri": "https://localhost:8080/"
        },
        "id": "Io8DVsz6D8Ty",
        "outputId": "066eeec7-108e-43fb-bc73-d0b21b7efe42"
      },
      "source": [
        "#어떤 카테고리들로 구성되어있는가\n",
        "print(newsdata.target_names)"
      ],
      "execution_count": 3,
      "outputs": [
        {
          "output_type": "stream",
          "text": [
            "['alt.atheism', 'comp.graphics', 'comp.os.ms-windows.misc', 'comp.sys.ibm.pc.hardware', 'comp.sys.mac.hardware', 'comp.windows.x', 'misc.forsale', 'rec.autos', 'rec.motorcycles', 'rec.sport.baseball', 'rec.sport.hockey', 'sci.crypt', 'sci.electronics', 'sci.med', 'sci.space', 'soc.religion.christian', 'talk.politics.guns', 'talk.politics.mideast', 'talk.politics.misc', 'talk.religion.misc']\n"
          ],
          "name": "stdout"
        }
      ]
    },
    {
      "cell_type": "code",
      "metadata": {
        "colab": {
          "base_uri": "https://localhost:8080/"
        },
        "id": "aBT7uPowEBIi",
        "outputId": "20d91d58-36ca-4dc1-bcdf-ca2ab807b99f"
      },
      "source": [
        "#첫번째 샘플은 몇 번 카테고리인가\n",
        "print(newsdata.target[0])\n",
        "\n",
        "#해당 카테고리의 제목은 무엇인가\n",
        "print(newsdata.target_names[7])"
      ],
      "execution_count": 4,
      "outputs": [
        {
          "output_type": "stream",
          "text": [
            "7\n",
            "rec.autos\n"
          ],
          "name": "stdout"
        }
      ]
    },
    {
      "cell_type": "code",
      "metadata": {
        "colab": {
          "base_uri": "https://localhost:8080/"
        },
        "id": "CMy6b4-mEKyQ",
        "outputId": "0f921580-7a98-42c4-fed1-b9510ae98761"
      },
      "source": [
        "print(newsdata.data[0])\n",
        "\n",
        "#글을 보니 스포츠카에 관한 글 같은데 이는 7번 레이블에 속하고 7번은 rec.autos 카테고리를 의미하는구나\n"
      ],
      "execution_count": 5,
      "outputs": [
        {
          "output_type": "stream",
          "text": [
            "From: lerxst@wam.umd.edu (where's my thing)\n",
            "Subject: WHAT car is this!?\n",
            "Nntp-Posting-Host: rac3.wam.umd.edu\n",
            "Organization: University of Maryland, College Park\n",
            "Lines: 15\n",
            "\n",
            " I was wondering if anyone out there could enlighten me on this car I saw\n",
            "the other day. It was a 2-door sports car, looked to be from the late 60s/\n",
            "early 70s. It was called a Bricklin. The doors were really small. In addition,\n",
            "the front bumper was separate from the rest of the body. This is \n",
            "all I know. If anyone can tellme a model name, engine specs, years\n",
            "of production, where this car is made, history, or whatever info you\n",
            "have on this funky looking car, please e-mail.\n",
            "\n",
            "Thanks,\n",
            "- IL\n",
            "   ---- brought to you by your neighborhood Lerxst ----\n",
            "\n",
            "\n",
            "\n",
            "\n",
            "\n"
          ],
          "name": "stdout"
        }
      ]
    },
    {
      "cell_type": "code",
      "metadata": {
        "id": "j0jJZjVqETpS"
      },
      "source": [
        ""
      ],
      "execution_count": null,
      "outputs": []
    },
    {
      "cell_type": "markdown",
      "metadata": {
        "id": "0-P-uetXEUI5"
      },
      "source": [
        "나이브 베이즈 분류\n"
      ]
    },
    {
      "cell_type": "code",
      "metadata": {
        "id": "mprt6YTtEU7Q"
      },
      "source": [
        "#전처리 진행\n",
        "#토큰화가 전혀 되어있지 않으므로 나이브 베이즈 분류를 위해 데이터를 BoW로 만들어주저야한다.\n",
        "#나이브 베이즈 분류기에서 토큰화 이전의 단어의 순서는 중요하지 않기 때문에! 오직 빈도수만 고려하면 된다.\n",
        "\n",
        "from sklearn.feature_extraction.text import CountVectorizer\n",
        "from sklearn.feature_extraction.text import TfidfTransformer\n",
        "from sklearn.naive_bayes import MultinomialNB # 다항분포 나이브 베이즈 모델\n",
        "from sklearn.metrics import accuracy_score #정확도 계산"
      ],
      "execution_count": 6,
      "outputs": []
    },
    {
      "cell_type": "code",
      "metadata": {
        "colab": {
          "base_uri": "https://localhost:8080/"
        },
        "id": "E2PRqIDyEsWS",
        "outputId": "a92b3f4a-5e19-4c02-e29d-85d7fd2b2c75"
      },
      "source": [
        "dtmvector = CountVectorizer()\n",
        "X_train_dtm = dtmvector.fit_transform(newsdata.data)\n",
        "print(X_train_dtm.shape)\n",
        "#자동으로 BoW로 만드는 CountVectorizer를 통해 자동으로 DTM이 만들어졌다.\n",
        "\n",
        "#11314개는 훈련용 샘플의 개수이고 DTM 관점에서는 문서의 수가 된다.\n",
        "#130107은 전체 훈련 데이터에 등장한 단어의 수를 의미\n",
        "\n",
        "#물론 DTM을 그대로 나이브베이즈 분류기에 사용해도 디지만 TF-IDF로 바꿀거다. 근데 이게 무조건 성능의 개선을 도출하진 않음"
      ],
      "execution_count": 8,
      "outputs": [
        {
          "output_type": "stream",
          "text": [
            "(11314, 130107)\n"
          ],
          "name": "stdout"
        }
      ]
    },
    {
      "cell_type": "code",
      "metadata": {
        "colab": {
          "base_uri": "https://localhost:8080/"
        },
        "id": "tB8ErnKbFCIr",
        "outputId": "7e0c96dd-94eb-4990-849b-f56f0a566ff5"
      },
      "source": [
        "tfidf_transformer = TfidfTransformer()\n",
        "tfidfv = tfidf_transformer.fit_transform(X_train_dtm)\n",
        "print(tfidfv.shape)"
      ],
      "execution_count": 9,
      "outputs": [
        {
          "output_type": "stream",
          "text": [
            "(11314, 130107)\n"
          ],
          "name": "stdout"
        }
      ]
    },
    {
      "cell_type": "code",
      "metadata": {
        "colab": {
          "base_uri": "https://localhost:8080/"
        },
        "id": "qjLij4LrFD1T",
        "outputId": "5912e316-2db7-429e-d25f-8a0384ab4081"
      },
      "source": [
        "mod = MultinomialNB()#나이브 베이즈 모델\n",
        "mod.fit(tfidfv, newsdata.target)\n",
        "\n",
        "#모델의 입력으로 TF-IDF 행렬과 11,314개의 훈련 데이터에 대한 레이블이 적혀있는 newsdata.target이 들어간다.\n",
        "MultinomialNB(alpha=1.0, class_prior=None, fit_prior=True)\n",
        "#alpha=1.0은 라플라스 스무딩이 적용되엉ㅆ음을 의미"
      ],
      "execution_count": 11,
      "outputs": [
        {
          "output_type": "execute_result",
          "data": {
            "text/plain": [
              "MultinomialNB(alpha=1.0, class_prior=None, fit_prior=True)"
            ]
          },
          "metadata": {
            "tags": []
          },
          "execution_count": 11
        }
      ]
    },
    {
      "cell_type": "code",
      "metadata": {
        "colab": {
          "base_uri": "https://localhost:8080/"
        },
        "id": "KETQPbH9FU1i",
        "outputId": "b61bc261-a078-4f7e-e0fd-09a9b7db8df5"
      },
      "source": [
        "newsdata_test = fetch_20newsgroups(subset='test', shuffle=True) #테스트 데이터 갖고오기\n",
        "X_test_dtm = dtmvector.transform(newsdata_test.data) #테스트 데이터를 DTM으로 변환\n",
        "tfidfv_test = tfidf_transformer.transform(X_test_dtm) #DTM을 TF-IDF 행렬로 변환\n",
        "\n",
        "predicted = mod.predict(tfidfv_test) #테스트 데이터에 대한 예측\n",
        "print(\"정확도:\", accuracy_score(newsdata_test.target, predicted)) #예측값과 실제값 비교"
      ],
      "execution_count": 12,
      "outputs": [
        {
          "output_type": "stream",
          "text": [
            "정확도: 0.7738980350504514\n"
          ],
          "name": "stdout"
        }
      ]
    },
    {
      "cell_type": "code",
      "metadata": {
        "id": "lldqfzLoFGsB"
      },
      "source": [
        ""
      ],
      "execution_count": null,
      "outputs": []
    }
  ]
}