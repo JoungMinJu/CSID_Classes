{
  "nbformat": 4,
  "nbformat_minor": 0,
  "metadata": {
    "colab": {
      "name": "워드 임베딩의 평균.ipynb",
      "provenance": [],
      "authorship_tag": "ABX9TyPdCIU52NzWcwP+b5orgAg8",
      "include_colab_link": true
    },
    "kernelspec": {
      "name": "python3",
      "display_name": "Python 3"
    },
    "language_info": {
      "name": "python"
    }
  },
  "cells": [
    {
      "cell_type": "markdown",
      "metadata": {
        "id": "view-in-github",
        "colab_type": "text"
      },
      "source": [
        "<a href=\"https://colab.research.google.com/github/JoungMinJu/lab_study/blob/main/%EC%9B%8C%EB%93%9C_%EC%9E%84%EB%B2%A0%EB%94%A9%EC%9D%98_%ED%8F%89%EA%B7%A0.ipynb\" target=\"_parent\"><img src=\"https://colab.research.google.com/assets/colab-badge.svg\" alt=\"Open In Colab\"/></a>"
      ]
    },
    {
      "cell_type": "code",
      "metadata": {
        "id": "AGl4yy5IdKjB"
      },
      "source": [
        ""
      ],
      "execution_count": null,
      "outputs": []
    },
    {
      "cell_type": "markdown",
      "metadata": {
        "id": "lkp5OvPtdMQs"
      },
      "source": [
        "앞서 특정 문장 내의 단어들의 임베딩 벡터 들의 평균이 그 문장의 벡터가 될 수 있음을 설명했다.\n",
        "\n",
        "여기에서는 임베딩이 잘 된 상황에서는 단어 벡터들의 평균만으로 텍스트 분류를 수행할 수 있음을 보이고, 워드 임베딩의 중요성을 이해해 볼 것이다.\n",
        "\n",
        "\n",
        "영화사이트 IMDB 영화 리뷰 데이터는 리뷰가 긍정 1 부정 0으로 레이블링한 데이터로 25,000개의 훈련데이터와 테스트데이터 25,000개로 구성되었음\n"
      ]
    },
    {
      "cell_type": "code",
      "metadata": {
        "id": "WpZhYR1XdhbN"
      },
      "source": [
        "import numpy as np\n",
        "from tensorflow.keras.preprocessing.sequence import pad_sequences\n",
        "from tensorflow.keras.models import Sequential, load_model\n",
        "from tensorflow.keras.layers import Dense, Embedding, GlobalAveragePooling1D\n",
        "from tensorflow.keras.callbacks import EarlyStopping, ModelCheckpoint\n",
        "from tensorflow.keras.datasets import imdb"
      ],
      "execution_count": 2,
      "outputs": []
    },
    {
      "cell_type": "code",
      "metadata": {
        "colab": {
          "base_uri": "https://localhost:8080/"
        },
        "id": "AkBSfQMzdz7I",
        "outputId": "816c6fc0-7869-4705-f22d-10721e079ddd"
      },
      "source": [
        "vocab_size = 20000\n",
        "\n",
        "(x_train, y_train), (x_test, y_test) = imdb.load_data(num_words=vocab_size)\n",
        "print('훈련용 리뷰 개수 :',len(x_train))\n",
        "print('테스트용 리뷰 개수 :',len(x_test))\n",
        "\n",
        "\n",
        "#num_words 사용하면 이 데이터에서 등장 빈도 순위로 몇 번째에 해당하는 단어까지 사용할 것인지를 지정할 수 있음\n",
        "#\n"
      ],
      "execution_count": 3,
      "outputs": [
        {
          "output_type": "stream",
          "text": [
            "Downloading data from https://storage.googleapis.com/tensorflow/tf-keras-datasets/imdb.npz\n",
            "17465344/17464789 [==============================] - 0s 0us/step\n"
          ],
          "name": "stdout"
        },
        {
          "output_type": "stream",
          "text": [
            "<string>:6: VisibleDeprecationWarning: Creating an ndarray from ragged nested sequences (which is a list-or-tuple of lists-or-tuples-or ndarrays with different lengths or shapes) is deprecated. If you meant to do this, you must specify 'dtype=object' when creating the ndarray\n",
            "/usr/local/lib/python3.7/dist-packages/tensorflow/python/keras/datasets/imdb.py:155: VisibleDeprecationWarning: Creating an ndarray from ragged nested sequences (which is a list-or-tuple of lists-or-tuples-or ndarrays with different lengths or shapes) is deprecated. If you meant to do this, you must specify 'dtype=object' when creating the ndarray\n",
            "  x_train, y_train = np.array(xs[:idx]), np.array(labels[:idx])\n"
          ],
          "name": "stderr"
        },
        {
          "output_type": "stream",
          "text": [
            "훈련용 리뷰 개수 : 25000\n",
            "테스트용 리뷰 개수 : 25000\n"
          ],
          "name": "stdout"
        },
        {
          "output_type": "stream",
          "text": [
            "/usr/local/lib/python3.7/dist-packages/tensorflow/python/keras/datasets/imdb.py:156: VisibleDeprecationWarning: Creating an ndarray from ragged nested sequences (which is a list-or-tuple of lists-or-tuples-or ndarrays with different lengths or shapes) is deprecated. If you meant to do this, you must specify 'dtype=object' when creating the ndarray\n",
            "  x_test, y_test = np.array(xs[idx:]), np.array(labels[idx:])\n"
          ],
          "name": "stderr"
        }
      ]
    },
    {
      "cell_type": "code",
      "metadata": {
        "colab": {
          "base_uri": "https://localhost:8080/"
        },
        "id": "vJNxa6pRd-gf",
        "outputId": "3d3e9678-3293-4fc9-fcb7-e821991acc9f"
      },
      "source": [
        "#이 데이터는 이미 정수 인코딩까지의 전처리가 진행된 상태\n",
        "\n",
        "print(x_train[0])"
      ],
      "execution_count": 4,
      "outputs": [
        {
          "output_type": "stream",
          "text": [
            "[1, 14, 22, 16, 43, 530, 973, 1622, 1385, 65, 458, 4468, 66, 3941, 4, 173, 36, 256, 5, 25, 100, 43, 838, 112, 50, 670, 2, 9, 35, 480, 284, 5, 150, 4, 172, 112, 167, 2, 336, 385, 39, 4, 172, 4536, 1111, 17, 546, 38, 13, 447, 4, 192, 50, 16, 6, 147, 2025, 19, 14, 22, 4, 1920, 4613, 469, 4, 22, 71, 87, 12, 16, 43, 530, 38, 76, 15, 13, 1247, 4, 22, 17, 515, 17, 12, 16, 626, 18, 19193, 5, 62, 386, 12, 8, 316, 8, 106, 5, 4, 2223, 5244, 16, 480, 66, 3785, 33, 4, 130, 12, 16, 38, 619, 5, 25, 124, 51, 36, 135, 48, 25, 1415, 33, 6, 22, 12, 215, 28, 77, 52, 5, 14, 407, 16, 82, 10311, 8, 4, 107, 117, 5952, 15, 256, 4, 2, 7, 3766, 5, 723, 36, 71, 43, 530, 476, 26, 400, 317, 46, 7, 4, 12118, 1029, 13, 104, 88, 4, 381, 15, 297, 98, 32, 2071, 56, 26, 141, 6, 194, 7486, 18, 4, 226, 22, 21, 134, 476, 26, 480, 5, 144, 30, 5535, 18, 51, 36, 28, 224, 92, 25, 104, 4, 226, 65, 16, 38, 1334, 88, 12, 16, 283, 5, 16, 4472, 113, 103, 32, 15, 16, 5345, 19, 178, 32]\n"
          ],
          "name": "stdout"
        }
      ]
    },
    {
      "cell_type": "code",
      "metadata": {
        "colab": {
          "base_uri": "https://localhost:8080/"
        },
        "id": "XBaswLrSeDPf",
        "outputId": "dfb2b3d7-8400-4226-b6a8-2cf6ea26ea23"
      },
      "source": [
        "print(y_train[0])"
      ],
      "execution_count": 5,
      "outputs": [
        {
          "output_type": "stream",
          "text": [
            "1\n"
          ],
          "name": "stdout"
        }
      ]
    },
    {
      "cell_type": "code",
      "metadata": {
        "colab": {
          "base_uri": "https://localhost:8080/"
        },
        "id": "1gWvSjL2eFd-",
        "outputId": "d054ad11-ff15-4c68-fb9f-0234a2011a2f"
      },
      "source": [
        "print('훈련용 리뷰의 평균 길이: {}'.format(np.mean(list(map(len, x_train)), dtype=int)))\n",
        "print('테스트용 리뷰의 평균 길이: {}'.format(np.mean(list(map(len, x_test)), dtype=int)))"
      ],
      "execution_count": 8,
      "outputs": [
        {
          "output_type": "stream",
          "text": [
            "훈련용 리뷰의 평균 길이: 238\n",
            "테스트용 리뷰의 평균 길이: 230\n"
          ],
          "name": "stdout"
        }
      ]
    },
    {
      "cell_type": "code",
      "metadata": {
        "colab": {
          "base_uri": "https://localhost:8080/"
        },
        "id": "G9typpkneGv-",
        "outputId": "6ddb5545-78df-4bad-b5cf-0e13a30eec1f"
      },
      "source": [
        "#데이터 패딩\n",
        "max_len = 400\n",
        "\n",
        "x_train = pad_sequences(x_train, maxlen=max_len)\n",
        "x_test = pad_sequences(x_test, maxlen=max_len)\n",
        "print('x_train의 크기(shape) :', x_train.shape)\n",
        "print('x_test의 크기(shape) :', x_test.shape)"
      ],
      "execution_count": 9,
      "outputs": [
        {
          "output_type": "stream",
          "text": [
            "x_train의 크기(shape) : (25000, 400)\n",
            "x_test의 크기(shape) : (25000, 400)\n"
          ],
          "name": "stdout"
        }
      ]
    },
    {
      "cell_type": "code",
      "metadata": {
        "id": "63o5pJW0eMHh"
      },
      "source": [
        "#모델 설계하기\n",
        "\n",
        "#임베딩 벡터를 평균으로 사용하는 모델을 설계\n",
        "#GlobalAveragePooling1D()는 입력으로 들어오는 모든 벡터들의 평균을 구하는 역할을 한다.\n",
        "#따라서 Embedding()다음에  Global...()을 추가하면 해당 문장의 모든 단어 벡터들의 평균 벡터를 구하게 됨\n",
        "\n",
        "#이진분류 수행해야하므로 그 후에는 시그모이드 함수를 활성화 함수로 사용하는 뉴런 한개를 배치한다.\n",
        "\n",
        "model=Sequential()\n",
        "model.add(Embedding(vocab_size,50, input_length=max_len))\n",
        "model.add(GlobalAveragePooling1D())\n",
        "model.add(Dense(1, activation='sigmoid'))\n"
      ],
      "execution_count": 10,
      "outputs": []
    },
    {
      "cell_type": "code",
      "metadata": {
        "id": "1mzkcmL_eqhE"
      },
      "source": [
        "es=EarlyStopping(monitor='val_loss', mode='min', verbose=1, patience=4)\n",
        "mc=ModelCheckpoint('embedding_average_model.h5',monitor='val_acc', mode='max',verbose=1,save_best_only=True)"
      ],
      "execution_count": 13,
      "outputs": []
    },
    {
      "cell_type": "code",
      "metadata": {
        "colab": {
          "base_uri": "https://localhost:8080/"
        },
        "id": "6473FfToe2v-",
        "outputId": "1cee315d-5b0c-48ad-ad97-65c5a66e94a0"
      },
      "source": [
        "#훈련데이터의 20%를 검증 데이터로 사용하고 총 10회 학습\n",
        "model.compile(loss='binary_crossentropy', optimizer='adam', metrics=['acc'])\n",
        "model.fit(x_train, y_train, batch_size=32, epochs=10, callbacks=[es, mc], validation_split=0.2)"
      ],
      "execution_count": 14,
      "outputs": [
        {
          "output_type": "stream",
          "text": [
            "Epoch 1/10\n",
            "625/625 [==============================] - 11s 17ms/step - loss: 0.6351 - acc: 0.7150 - val_loss: 0.5377 - val_acc: 0.8084\n",
            "\n",
            "Epoch 00001: val_acc improved from -inf to 0.80840, saving model to embedding_average_model.h5\n",
            "Epoch 2/10\n",
            "625/625 [==============================] - 11s 18ms/step - loss: 0.4492 - acc: 0.8493 - val_loss: 0.3971 - val_acc: 0.8648\n",
            "\n",
            "Epoch 00002: val_acc improved from 0.80840 to 0.86480, saving model to embedding_average_model.h5\n",
            "Epoch 3/10\n",
            "625/625 [==============================] - 11s 18ms/step - loss: 0.3357 - acc: 0.8862 - val_loss: 0.3354 - val_acc: 0.8762\n",
            "\n",
            "Epoch 00003: val_acc improved from 0.86480 to 0.87620, saving model to embedding_average_model.h5\n",
            "Epoch 4/10\n",
            "625/625 [==============================] - 11s 18ms/step - loss: 0.2764 - acc: 0.9050 - val_loss: 0.3052 - val_acc: 0.8848\n",
            "\n",
            "Epoch 00004: val_acc improved from 0.87620 to 0.88480, saving model to embedding_average_model.h5\n",
            "Epoch 5/10\n",
            "625/625 [==============================] - 11s 17ms/step - loss: 0.2374 - acc: 0.9198 - val_loss: 0.2884 - val_acc: 0.8886\n",
            "\n",
            "Epoch 00005: val_acc improved from 0.88480 to 0.88860, saving model to embedding_average_model.h5\n",
            "Epoch 6/10\n",
            "625/625 [==============================] - 11s 17ms/step - loss: 0.2087 - acc: 0.9298 - val_loss: 0.2785 - val_acc: 0.8918\n",
            "\n",
            "Epoch 00006: val_acc improved from 0.88860 to 0.89180, saving model to embedding_average_model.h5\n",
            "Epoch 7/10\n",
            "625/625 [==============================] - 11s 18ms/step - loss: 0.1844 - acc: 0.9394 - val_loss: 0.2733 - val_acc: 0.8932\n",
            "\n",
            "Epoch 00007: val_acc improved from 0.89180 to 0.89320, saving model to embedding_average_model.h5\n",
            "Epoch 8/10\n",
            "625/625 [==============================] - 11s 17ms/step - loss: 0.1646 - acc: 0.9456 - val_loss: 0.2732 - val_acc: 0.8930\n",
            "\n",
            "Epoch 00008: val_acc did not improve from 0.89320\n",
            "Epoch 9/10\n",
            "625/625 [==============================] - 11s 17ms/step - loss: 0.1469 - acc: 0.9524 - val_loss: 0.2715 - val_acc: 0.8944\n",
            "\n",
            "Epoch 00009: val_acc improved from 0.89320 to 0.89440, saving model to embedding_average_model.h5\n",
            "Epoch 10/10\n",
            "625/625 [==============================] - 11s 18ms/step - loss: 0.1317 - acc: 0.9582 - val_loss: 0.2740 - val_acc: 0.8954\n",
            "\n",
            "Epoch 00010: val_acc improved from 0.89440 to 0.89540, saving model to embedding_average_model.h5\n"
          ],
          "name": "stdout"
        },
        {
          "output_type": "execute_result",
          "data": {
            "text/plain": [
              "<tensorflow.python.keras.callbacks.History at 0x7fb021b36c50>"
            ]
          },
          "metadata": {
            "tags": []
          },
          "execution_count": 14
        }
      ]
    },
    {
      "cell_type": "code",
      "metadata": {
        "colab": {
          "base_uri": "https://localhost:8080/"
        },
        "id": "MXQatM9GfAN_",
        "outputId": "862f3ff3-3992-454e-fd88-7c04334cdfa9"
      },
      "source": [
        "#테스트 데이터에 대해서 평가\n",
        "loaded_model = load_model('embedding_average_model.h5')\n",
        "print(\"\\n 테스트 정확도: %.4f\" % (loaded_model.evaluate(x_test, y_test)[1]))"
      ],
      "execution_count": 15,
      "outputs": [
        {
          "output_type": "stream",
          "text": [
            "782/782 [==============================] - 2s 3ms/step - loss: 0.2865 - acc: 0.8874\n",
            "\n",
            " 테스트 정확도: 0.8874\n"
          ],
          "name": "stdout"
        }
      ]
    },
    {
      "cell_type": "code",
      "metadata": {
        "id": "l6RJ7_bgfEFA"
      },
      "source": [
        "#별다른 신경망을 추가하지 않고도 단어 벡터의 평균마으로도 88.76%라는 높은 정확도를 얻어냄"
      ],
      "execution_count": 16,
      "outputs": []
    }
  ]
}