{
  "nbformat": 4,
  "nbformat_minor": 0,
  "metadata": {
    "colab": {
      "name": "데이터전처리.ipynb",
      "provenance": [],
      "authorship_tag": "ABX9TyNdT6upjKKXhYfzkrTyoQIr",
      "include_colab_link": true
    },
    "kernelspec": {
      "name": "python3",
      "display_name": "Python 3"
    },
    "language_info": {
      "name": "python"
    }
  },
  "cells": [
    {
      "cell_type": "markdown",
      "metadata": {
        "id": "view-in-github",
        "colab_type": "text"
      },
      "source": [
        "<a href=\"https://colab.research.google.com/github/JoungMinJu/machine_learning/blob/main/1%EC%9E%A5/%EB%8D%B0%EC%9D%B4%ED%84%B0%EC%A0%84%EC%B2%98%EB%A6%AC.ipynb\" target=\"_parent\"><img src=\"https://colab.research.google.com/assets/colab-badge.svg\" alt=\"Open In Colab\"/></a>"
      ]
    },
    {
      "cell_type": "code",
      "metadata": {
        "id": "3XicUyKZcLRv"
      },
      "source": [
        "fish_length = [25.4, 26.3, 26.5, 29.0, 29.0, 29.7, 29.7, 30.0, 30.0, 30.7, 31.0, 31.0, \n",
        "                31.5, 32.0, 32.0, 32.0, 33.0, 33.0, 33.5, 33.5, 34.0, 34.0, 34.5, 35.0, \n",
        "                35.0, 35.0, 35.0, 36.0, 36.0, 37.0, 38.5, 38.5, 39.5, 41.0, 41.0, 9.8, \n",
        "                10.5, 10.6, 11.0, 11.2, 11.3, 11.8, 11.8, 12.0, 12.2, 12.4, 13.0, 14.3, 15.0]\n",
        "fish_weight = [242.0, 290.0, 340.0, 363.0, 430.0, 450.0, 500.0, 390.0, 450.0, 500.0, 475.0, 500.0, \n",
        "                500.0, 340.0, 600.0, 600.0, 700.0, 700.0, 610.0, 650.0, 575.0, 685.0, 620.0, 680.0, \n",
        "                700.0, 725.0, 720.0, 714.0, 850.0, 1000.0, 920.0, 955.0, 925.0, 975.0, 950.0, 6.7, \n",
        "                7.5, 7.0, 9.7, 9.8, 8.7, 10.0, 9.9, 9.8, 12.2, 13.4, 12.2, 19.7, 19.9]"
      ],
      "execution_count": 1,
      "outputs": []
    },
    {
      "cell_type": "code",
      "metadata": {
        "id": "JMl5HP6TcTp2"
      },
      "source": [
        "import numpy as np"
      ],
      "execution_count": 2,
      "outputs": []
    },
    {
      "cell_type": "code",
      "metadata": {
        "colab": {
          "base_uri": "https://localhost:8080/"
        },
        "id": "Cwmyy_O8cXCd",
        "outputId": "e03e5aed-6b70-4c3e-b30f-5848476fb4fb"
      },
      "source": [
        "#예시\n",
        "np.column_stack(([1,2,3],[4,5,6]))"
      ],
      "execution_count": 3,
      "outputs": [
        {
          "output_type": "execute_result",
          "data": {
            "text/plain": [
              "array([[1, 4],\n",
              "       [2, 5],\n",
              "       [3, 6]])"
            ]
          },
          "metadata": {
            "tags": []
          },
          "execution_count": 3
        }
      ]
    },
    {
      "cell_type": "code",
      "metadata": {
        "id": "XjIxnJqKcdh-"
      },
      "source": [
        "fish_data=np.column_stack((fish_length, fish_weight))"
      ],
      "execution_count": 4,
      "outputs": []
    },
    {
      "cell_type": "code",
      "metadata": {
        "colab": {
          "base_uri": "https://localhost:8080/"
        },
        "id": "crsAcvPDchtw",
        "outputId": "d76b94a0-f0ec-4194-9427-85b31a1d0425"
      },
      "source": [
        "print(fish_data[:5])"
      ],
      "execution_count": 5,
      "outputs": [
        {
          "output_type": "stream",
          "text": [
            "[[ 25.4 242. ]\n",
            " [ 26.3 290. ]\n",
            " [ 26.5 340. ]\n",
            " [ 29.  363. ]\n",
            " [ 29.  430. ]]\n"
          ],
          "name": "stdout"
        }
      ]
    },
    {
      "cell_type": "code",
      "metadata": {
        "id": "u2v9XZbQcjV2"
      },
      "source": [
        "fish_target=np.concatenate((np.ones(35), np.zeros(14)))"
      ],
      "execution_count": 7,
      "outputs": []
    },
    {
      "cell_type": "code",
      "metadata": {
        "id": "q79rgovrct9C"
      },
      "source": [
        "from sklearn.model_selection import train_test_split\n",
        "#트레인테스트스플릿하기!!!!!!!!!!!!!!!!!!!!!!\n",
        "\n",
        "train_input, test_input, train_target, test_target=train_test_split(fish_data, fish_target, random_state=42)"
      ],
      "execution_count": 8,
      "outputs": []
    },
    {
      "cell_type": "code",
      "metadata": {
        "colab": {
          "base_uri": "https://localhost:8080/"
        },
        "id": "2ft6_ri5c8Gw",
        "outputId": "bdf16e54-abf7-44d3-c8f9-45daf2de58a3"
      },
      "source": [
        "print(train_input.shape, test_input.shape)"
      ],
      "execution_count": 9,
      "outputs": [
        {
          "output_type": "stream",
          "text": [
            "(36, 2) (13, 2)\n"
          ],
          "name": "stdout"
        }
      ]
    },
    {
      "cell_type": "code",
      "metadata": {
        "id": "s4wTYZ0ddRXe"
      },
      "source": [
        "train_input, test_input, train_target, test_target=train_test_split(fish_data, fish_target, stratify=fish_target, random_state=42)"
      ],
      "execution_count": 11,
      "outputs": []
    },
    {
      "cell_type": "code",
      "metadata": {
        "id": "yY3zUJCJdcEg"
      },
      "source": [
        "#stratify=fish_target은 클래스 비율에 맞게 데이터를 나눈다는 것. 훈련데이터가 작거나 특정 클래스의 샘플 개수가 적을 때 유용하다"
      ],
      "execution_count": null,
      "outputs": []
    },
    {
      "cell_type": "code",
      "metadata": {
        "colab": {
          "base_uri": "https://localhost:8080/"
        },
        "id": "oKKteCr0dk2v",
        "outputId": "8927c1bf-dbbb-447a-c36c-844a0d054d0a"
      },
      "source": [
        "from sklearn.neighbors import KNeighborsClassifier\n",
        "kn=KNeighborsClassifier()\n",
        "kn.fit(train_input, train_target)\n",
        "kn.score(test_input, test_target)"
      ],
      "execution_count": 12,
      "outputs": [
        {
          "output_type": "execute_result",
          "data": {
            "text/plain": [
              "1.0"
            ]
          },
          "metadata": {
            "tags": []
          },
          "execution_count": 12
        }
      ]
    },
    {
      "cell_type": "code",
      "metadata": {
        "colab": {
          "base_uri": "https://localhost:8080/",
          "height": 265
        },
        "id": "1J9WHyP5dwor",
        "outputId": "528d4195-8e81-4189-8466-f8ed031f0cd4"
      },
      "source": [
        "import matplotlib.pyplot as plt\n",
        "plt.scatter(train_input[:,0],train_input[:,1])\n",
        "plt.scatter(25,150, marker='^')\n",
        "plt.show()\n",
        "\n",
        "#임의의 데이터를 분류해보자 !! 일단 scatter에서 보여주자 위치를 "
      ],
      "execution_count": 13,
      "outputs": [
        {
          "output_type": "display_data",
          "data": {
            "image/png": "[encoded data removed]",
            "text/plain": [
              "<Figure size 432x288 with 1 Axes>"
            ]
          },
          "metadata": {
            "tags": [],
            "needs_background": "light"
          }
        }
      ]
    },
    {
      "cell_type": "code",
      "metadata": {
        "id": "y8nkYOwseDNw"
      },
      "source": [
        "distances, indexes= kn.kneighbors([[25,150]])\n",
        "#이웃까지의 거리와 이웃 샘플의 인덱스를 반환한다!"
      ],
      "execution_count": 16,
      "outputs": []
    },
    {
      "cell_type": "code",
      "metadata": {
        "colab": {
          "base_uri": "https://localhost:8080/",
          "height": 265
        },
        "id": "N0V-NIE9eIrr",
        "outputId": "aeb20d08-e79f-4d34-afca-660694573e6e"
      },
      "source": [
        "plt.scatter(train_input[:,0],train_input[:,1])\n",
        "plt.scatter(25,150, marker='^')\n",
        "plt.scatter(train_input[indexes, 0], train_input[indexes, 1], marker='D')\n",
        "plt.show()\n",
        "#샘플 추출이 편향적이게 됐음이 확인된다. "
      ],
      "execution_count": 17,
      "outputs": [
        {
          "output_type": "display_data",
          "data": {
            "image/png": "[encoded data removed]",
            "text/plain": [
              "<Figure size 432x288 with 1 Axes>"
            ]
          },
          "metadata": {
            "tags": [],
            "needs_background": "light"
          }
        }
      ]
    },
    {
      "cell_type": "code",
      "metadata": {
        "colab": {
          "base_uri": "https://localhost:8080/",
          "height": 265
        },
        "id": "qnPymKQIeb41",
        "outputId": "fc68998b-07a2-4682-994b-9e133e4602b5"
      },
      "source": [
        "#이유는 X축은 범위가 좁고 y축은 범위가 넓기 때문이다. \n",
        "#따라서 x축의 범위를 동일하게 맞춰줘야함 ㅠㅠ xlim()사용\n",
        "plt.scatter(train_input[:,0],train_input[:,1])\n",
        "plt.scatter(25,150, marker='^')\n",
        "plt.scatter(train_input[indexes, 0], train_input[indexes, 1], marker='D')\n",
        "plt.xlim((0,1000))\n",
        "plt.show()\n",
        "\n",
        "#둘의 범위를 동이라헥 맞추니 생선의 무게인 y축만 고려대상이된다.\n",
        "#위처럼 특성의 값 범위가 매우 다른 것을 두 특성의 스케일이 다르다고 한다. 따라서 이를 맞춰주는 과정(전처리)가 필요"
      ],
      "execution_count": 18,
      "outputs": [
        {
          "output_type": "display_data",
          "data": {
            "image/png": "[encoded data removed]",
            "text/plain": [
              "<Figure size 432x288 with 1 Axes>"
            ]
          },
          "metadata": {
            "tags": [],
            "needs_background": "light"
          }
        }
      ]
    },
    {
      "cell_type": "code",
      "metadata": {
        "id": "d1VBcfkifF7x"
      },
      "source": [
        "mean=np.mean(train_input, axis=0)\n",
        "std=np.std(train_input, axis=0)\n",
        "\n",
        "#train_input은 (36,2) 크기의 배열이다. 특성마다 값의 스케일이 다르므로 평균과 표준편차는 각 특성별로 게싼해야한다.\n",
        "#그래서 axis=0임. 행을 따라 열의 통계값을 계산하기위해!!!!!!!!!!!!!!!!!\n",
        "#axis=1dlaus  각 행의 통계값을 계산하는 것\n"
      ],
      "execution_count": 19,
      "outputs": []
    },
    {
      "cell_type": "code",
      "metadata": {
        "id": "MJ6TV5Xjfc2b"
      },
      "source": [
        "train_scaled=(train_input-mean)/std\n",
        "#넘파이 배열이라서 가능한 브로드캐스팅"
      ],
      "execution_count": 20,
      "outputs": []
    },
    {
      "cell_type": "code",
      "metadata": {
        "colab": {
          "base_uri": "https://localhost:8080/",
          "height": 265
        },
        "id": "UEOYSlHffffO",
        "outputId": "b35e52e3-88ee-4ec4-b997-6eac225080d1"
      },
      "source": [
        "new=([25,150]-mean)/std\n",
        "plt.scatter(train_scaled[:,0],train_scaled[:,1])\n",
        "plt.scatter(new[0], new[1], marker='^')\n",
        "plt.show()"
      ],
      "execution_count": 23,
      "outputs": [
        {
          "output_type": "display_data",
          "data": {
            "image/png": "[encoded data removed]",
            "text/plain": [
              "<Figure size 432x288 with 1 Axes>"
            ]
          },
          "metadata": {
            "tags": [],
            "needs_background": "light"
          }
        }
      ]
    },
    {
      "cell_type": "code",
      "metadata": {
        "colab": {
          "base_uri": "https://localhost:8080/"
        },
        "id": "EZVmL0B-f2K8",
        "outputId": "87a13115-e921-429f-ef43-8e1e2ed989cd"
      },
      "source": [
        "kn.fit(train_scaled, train_target)"
      ],
      "execution_count": 24,
      "outputs": [
        {
          "output_type": "execute_result",
          "data": {
            "text/plain": [
              "KNeighborsClassifier(algorithm='auto', leaf_size=30, metric='minkowski',\n",
              "                     metric_params=None, n_jobs=None, n_neighbors=5, p=2,\n",
              "                     weights='uniform')"
            ]
          },
          "metadata": {
            "tags": []
          },
          "execution_count": 24
        }
      ]
    },
    {
      "cell_type": "code",
      "metadata": {
        "id": "8hIRvNZjfKgH"
      },
      "source": [
        "test_scaled=(test_input-mean)/std"
      ],
      "execution_count": 25,
      "outputs": []
    },
    {
      "cell_type": "code",
      "metadata": {
        "colab": {
          "base_uri": "https://localhost:8080/"
        },
        "id": "AGon3ChDe4yU",
        "outputId": "a11680a2-0243-479f-82b8-b14022b27f5d"
      },
      "source": [
        "kn.score(test_scaled, test_target)"
      ],
      "execution_count": 26,
      "outputs": [
        {
          "output_type": "execute_result",
          "data": {
            "text/plain": [
              "1.0"
            ]
          },
          "metadata": {
            "tags": []
          },
          "execution_count": 26
        }
      ]
    },
    {
      "cell_type": "code",
      "metadata": {
        "id": "46gOXjmXgKm4"
      },
      "source": [
        "#스케일을 조정하는 방법은 표준점수말고도 더 있는데 대부분의 경우 표준점수로 충분하다. "
      ],
      "execution_count": null,
      "outputs": []
    }
  ]
}