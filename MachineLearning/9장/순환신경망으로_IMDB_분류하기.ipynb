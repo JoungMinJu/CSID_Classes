{
  "nbformat": 4,
  "nbformat_minor": 0,
  "metadata": {
    "colab": {
      "name": "순환신경망으로 IMDB 분류하기.ipynb",
      "provenance": [],
      "collapsed_sections": [],
      "authorship_tag": "ABX9TyPjr67ybUNopU5yibbs0p3F",
      "include_colab_link": true
    },
    "kernelspec": {
      "name": "python3",
      "display_name": "Python 3"
    },
    "language_info": {
      "name": "python"
    }
  },
  "cells": [
    {
      "cell_type": "markdown",
      "metadata": {
        "id": "view-in-github",
        "colab_type": "text"
      },
      "source": [
        "<a href=\"https://colab.research.google.com/github/JoungMinJu/machine_learning/blob/main/9%EC%9E%A5/%EC%88%9C%ED%99%98%EC%8B%A0%EA%B2%BD%EB%A7%9D%EC%9C%BC%EB%A1%9C_IMDB_%EB%B6%84%EB%A5%98%ED%95%98%EA%B8%B0.ipynb\" target=\"_parent\"><img src=\"https://colab.research.google.com/assets/colab-badge.svg\" alt=\"Open In Colab\"/></a>"
      ]
    },
    {
      "cell_type": "code",
      "metadata": {
        "id": "G2bD3SRivHwz"
      },
      "source": [
        ""
      ],
      "execution_count": null,
      "outputs": []
    },
    {
      "cell_type": "markdown",
      "metadata": {
        "id": "iXGLnagtvSj4"
      },
      "source": [
        "IMDB는 인터넷 영화 데이터베이스에서 수집한 리뷰를 감상평에 따라 긍정과 부정으로 분류해노은 데이터셋이빈다.\n",
        "\n",
        "텍스트 자체를 신경망에 전달하지는 않고 컴퓨터에서 처리하는 것은 어떤 숫자 데이터다.\n",
        "\n",
        "이미지는 정수 픽셀값으로 이루어져있어서 합성곱 신경망에서 이미지 다룰 때 특별한 변환을 하지 않는데 텍스트 데이터의 경우 단어를 숫자로 바꾼다. 일반적인 것은 단어마다 고유한 정수를 붙이는 것.\n",
        "\n",
        "\n",
        "분리된 단어를 하나의 토큰이라하고 하나의 샘플은 여러개의 토큰으로 구성. 하나의 토큰이 하나의 타임스탬프\n",
        "\n"
      ]
    },
    {
      "cell_type": "code",
      "metadata": {
        "colab": {
          "base_uri": "https://localhost:8080/"
        },
        "id": "njfcRwV5vtJ1",
        "outputId": "e670314d-9114-4517-f2ad-1695060dc320"
      },
      "source": [
        "#토큰에 할당하는 정수 중 몇개는 특정한 용도로 예약이 되어있다.\n",
        "#0은 패딩 1은 문장의 시작 2는 어휘사전이 없는 토큰\n",
        "\n",
        "#텐서플로에 이미 정수로 바꾼 데이터를 임포트 하겠음\n",
        "#자주쓰는500개만 가져오겠다\n",
        "from tensorflow.keras.datasets import imdb\n",
        "(train_input, train_target), (test_input, test_target)=imdb.load_data(num_words=500)"
      ],
      "execution_count": 1,
      "outputs": [
        {
          "output_type": "stream",
          "text": [
            "Downloading data from https://storage.googleapis.com/tensorflow/tf-keras-datasets/imdb.npz\n",
            "17465344/17464789 [==============================] - 0s 0us/step\n"
          ],
          "name": "stdout"
        },
        {
          "output_type": "stream",
          "text": [
            "<string>:6: VisibleDeprecationWarning: Creating an ndarray from ragged nested sequences (which is a list-or-tuple of lists-or-tuples-or ndarrays with different lengths or shapes) is deprecated. If you meant to do this, you must specify 'dtype=object' when creating the ndarray\n",
            "/usr/local/lib/python3.7/dist-packages/tensorflow/python/keras/datasets/imdb.py:155: VisibleDeprecationWarning: Creating an ndarray from ragged nested sequences (which is a list-or-tuple of lists-or-tuples-or ndarrays with different lengths or shapes) is deprecated. If you meant to do this, you must specify 'dtype=object' when creating the ndarray\n",
            "  x_train, y_train = np.array(xs[:idx]), np.array(labels[:idx])\n",
            "/usr/local/lib/python3.7/dist-packages/tensorflow/python/keras/datasets/imdb.py:156: VisibleDeprecationWarning: Creating an ndarray from ragged nested sequences (which is a list-or-tuple of lists-or-tuples-or ndarrays with different lengths or shapes) is deprecated. If you meant to do this, you must specify 'dtype=object' when creating the ndarray\n",
            "  x_test, y_test = np.array(xs[idx:]), np.array(labels[idx:])\n"
          ],
          "name": "stderr"
        }
      ]
    },
    {
      "cell_type": "code",
      "metadata": {
        "colab": {
          "base_uri": "https://localhost:8080/"
        },
        "id": "skDPamHawCIA",
        "outputId": "034468bc-9e4e-4430-9bdb-cee0e8e3d0ac"
      },
      "source": [
        "print(train_input.shape, test_input.shape)\n",
        "\n",
        "#데이터는 개별 리뷰를 담은 파이썬 리스트 객체로 이루어진 넘파이 밸열!\n",
        "# 넘파이 배열은 정수나 실수 외에도 파이썬 객체를 담을 수 있다.\n",
        "\n"
      ],
      "execution_count": 2,
      "outputs": [
        {
          "output_type": "stream",
          "text": [
            "(25000,) (25000,)\n"
          ],
          "name": "stdout"
        }
      ]
    },
    {
      "cell_type": "code",
      "metadata": {
        "colab": {
          "base_uri": "https://localhost:8080/"
        },
        "id": "ITLCfExhwNts",
        "outputId": "df8e4201-2556-47a1-9e10-16743082b3ec"
      },
      "source": [
        "#첫 번쨰 리뷰의 길이 출력\n",
        "print(len(train_input[0]))\n",
        "\n",
        "#218개의 토큰으로 이루어져있구나\n"
      ],
      "execution_count": 3,
      "outputs": [
        {
          "output_type": "stream",
          "text": [
            "218\n"
          ],
          "name": "stdout"
        }
      ]
    },
    {
      "cell_type": "code",
      "metadata": {
        "colab": {
          "base_uri": "https://localhost:8080/"
        },
        "id": "Mx7MubxUwSUQ",
        "outputId": "7faf9d4d-ac76-474f-cf8f-e4f89ac2d537"
      },
      "source": [
        "#내용\n",
        "print(train_input[0])"
      ],
      "execution_count": 4,
      "outputs": [
        {
          "output_type": "stream",
          "text": [
            "[1, 14, 22, 16, 43, 2, 2, 2, 2, 65, 458, 2, 66, 2, 4, 173, 36, 256, 5, 25, 100, 43, 2, 112, 50, 2, 2, 9, 35, 480, 284, 5, 150, 4, 172, 112, 167, 2, 336, 385, 39, 4, 172, 2, 2, 17, 2, 38, 13, 447, 4, 192, 50, 16, 6, 147, 2, 19, 14, 22, 4, 2, 2, 469, 4, 22, 71, 87, 12, 16, 43, 2, 38, 76, 15, 13, 2, 4, 22, 17, 2, 17, 12, 16, 2, 18, 2, 5, 62, 386, 12, 8, 316, 8, 106, 5, 4, 2, 2, 16, 480, 66, 2, 33, 4, 130, 12, 16, 38, 2, 5, 25, 124, 51, 36, 135, 48, 25, 2, 33, 6, 22, 12, 215, 28, 77, 52, 5, 14, 407, 16, 82, 2, 8, 4, 107, 117, 2, 15, 256, 4, 2, 7, 2, 5, 2, 36, 71, 43, 2, 476, 26, 400, 317, 46, 7, 4, 2, 2, 13, 104, 88, 4, 381, 15, 297, 98, 32, 2, 56, 26, 141, 6, 194, 2, 18, 4, 226, 22, 21, 134, 476, 26, 480, 5, 144, 30, 2, 18, 51, 36, 28, 224, 92, 25, 104, 4, 226, 65, 16, 38, 2, 88, 12, 16, 283, 5, 16, 2, 113, 103, 32, 15, 16, 2, 19, 178, 32]\n"
          ],
          "name": "stdout"
        }
      ]
    },
    {
      "cell_type": "code",
      "metadata": {
        "colab": {
          "base_uri": "https://localhost:8080/"
        },
        "id": "xMai6_nVwWM8",
        "outputId": "e698e7b5-7499-4294-c2fd-8d41804a14bf"
      },
      "source": [
        "print(train_target[:20])\n",
        "#0은 부정 1은 긍정"
      ],
      "execution_count": 5,
      "outputs": [
        {
          "output_type": "stream",
          "text": [
            "[1 0 0 1 0 0 1 0 1 0 1 0 0 0 0 0 1 1 0 1]\n"
          ],
          "name": "stdout"
        }
      ]
    },
    {
      "cell_type": "code",
      "metadata": {
        "id": "PCbPKelhwbyX"
      },
      "source": [
        "from sklearn.model_selection import train_test_split\n",
        "train_input, val_input, train_target, val_target=train_test_split(train_input, train_target, test_size=0.2, random_state=42)"
      ],
      "execution_count": 6,
      "outputs": []
    },
    {
      "cell_type": "code",
      "metadata": {
        "id": "w_j2YPrBwk1o"
      },
      "source": [
        "#가장 짧은 리뷰 가장 긴 리뷰 파악해보기\n",
        "import numpy as np\n",
        "lengths=np.array([len(x) for x in train_input])"
      ],
      "execution_count": 7,
      "outputs": []
    },
    {
      "cell_type": "code",
      "metadata": {
        "colab": {
          "base_uri": "https://localhost:8080/"
        },
        "id": "UfjQBK7cwyeX",
        "outputId": "f2efed06-b0f7-46c3-dc03-f37c9ded27de"
      },
      "source": [
        "print(np.mean(lengths), np.median(lengths))"
      ],
      "execution_count": 9,
      "outputs": [
        {
          "output_type": "stream",
          "text": [
            "239.00925 178.0\n"
          ],
          "name": "stdout"
        }
      ]
    },
    {
      "cell_type": "code",
      "metadata": {
        "colab": {
          "base_uri": "https://localhost:8080/",
          "height": 279
        },
        "id": "vsEcc6a3w2Sd",
        "outputId": "a5ebf1d2-6288-43bb-a809-b63b3e818679"
      },
      "source": [
        "#히스토그램\n",
        "import matplotlib.pyplot as plt\n",
        "plt.hist(lengths)\n",
        "plt.xlabel('length')\n",
        "plt.ylabel('frequency')\n",
        "plt.show()"
      ],
      "execution_count": 10,
      "outputs": [
        {
          "output_type": "display_data",
          "data": {
            "image/png": "[encoded data removed]",
            "text/plain": [
              "<Figure size 432x288 with 1 Axes>"
            ]
          },
          "metadata": {
            "tags": [],
            "needs_background": "light"
          }
        }
      ]
    },
    {
      "cell_type": "code",
      "metadata": {
        "id": "-1PFDNWKw__e"
      },
      "source": [
        "#대부분 짧아서 중간값보다 짧은 100개의 단어만 사용할게요\n",
        "#이런 리뷰들의 길이를 100에 맞추기위해 패딩을 사용한다.\n",
        "\n",
        "from tensorflow.keras.preprocessing.sequence import pad_sequences\n",
        "train_seq=pad_sequences(train_input, maxlen=100)"
      ],
      "execution_count": 11,
      "outputs": []
    },
    {
      "cell_type": "code",
      "metadata": {
        "id": "t2sF9LT4ye2j"
      },
      "source": [
        "#pad_sequencs()는 기본으로maxlen보다 긴 시퀀스의 앞부분을 자른다. 보통 뒤에 내용이 더 유용하리라 기대하기 때문에\n",
        "#뒷부분을 자르고싶ㅇ면truncating을 기본값 pre가 아닌 post로 바꾸면된다.\n",
        "\n",
        "\n",
        "#검증세트도 변환\n",
        "val_seq=pad_sequences(val_input, maxlen=100)"
      ],
      "execution_count": 12,
      "outputs": []
    },
    {
      "cell_type": "code",
      "metadata": {
        "id": "chBfCKR9ywO9"
      },
      "source": [
        "#순환 신경망 만들기\n",
        "\n",
        "#가장 간단한 SimpleRNN클래스 사용!!!!"
      ],
      "execution_count": 13,
      "outputs": []
    },
    {
      "cell_type": "code",
      "metadata": {
        "id": "EZ6lhb91y1VG"
      },
      "source": [
        "#IMDB는 이진분류임로 마지막 출력층은 한개의 뉴런을 가지고 시그모이드 활성화 함수를 사용해야한다.\n",
        "\n",
        "from tensorflow import keras\n",
        "model=keras.Sequential()\n",
        "model.add(keras.layers.SimpleRNN(8,input_shape=(100,500)))\n",
        "model.add(keras.layers.Dense(1, activation='sigmoid'))\n",
        "#이벽차원이 (100,500)\n",
        "#순환층 당연하게 활성화 함수 사용! 기본값은 tanh(하이퍼볼릭 탄젠트함수)\n",
        "#(100,500)에서 100은 개수, 500은??\n",
        "#train_seq vla_seq는 토큰을 정수로 변환한 이 데이터를 신경망에 주입하면 큰 정수가 큰 활성화 출력을 만들어낸다.\n",
        "#분명 이 정수 사이에는 어떠 ㄴ관련이 없는데도\n",
        "#정수값의 크기 속성을 없애고 각 정수를 고유하게 표현하는 방법은 원핫인코딩\n",
        "\n",
        "\n",
        "#imdb.load_data()에서 500개만 사용하기로 지정해서 고유한 단어느 모두 400개임. 훈련데이터에 포함될 수 있는 정수값은 0에서 499\n",
        "#따라서 이 범위를 원핫인코딩으로 표현하려면 배열의 길이가 500이어야한다.\n",
        "\n"
      ],
      "execution_count": 15,
      "outputs": []
    },
    {
      "cell_type": "code",
      "metadata": {
        "id": "CwhGUMBD01bT"
      },
      "source": [
        "#원핫인코딩을 위한 유틸리티\n",
        "train_oh=keras.utils.to_categorical(train_seq)"
      ],
      "execution_count": 16,
      "outputs": []
    },
    {
      "cell_type": "code",
      "metadata": {
        "colab": {
          "base_uri": "https://localhost:8080/"
        },
        "id": "df3WbJ33zKKU",
        "outputId": "4c32ace2-3903-4efa-df27-c273d97132bd"
      },
      "source": [
        "print(train_oh.shape)\n",
        "#정수하나마다 500차원의 배배열로 변경\n",
        "#(20000,100)->(20000,100,500)"
      ],
      "execution_count": 17,
      "outputs": [
        {
          "output_type": "stream",
          "text": [
            "(20000, 100, 500)\n"
          ],
          "name": "stdout"
        }
      ]
    },
    {
      "cell_type": "code",
      "metadata": {
        "id": "2Rn_6LqW1FuM"
      },
      "source": [
        "val_oh=keras.utils.to_categorical(val_seq)"
      ],
      "execution_count": 20,
      "outputs": []
    },
    {
      "cell_type": "code",
      "metadata": {
        "colab": {
          "base_uri": "https://localhost:8080/"
        },
        "id": "IM7mmJVE1NaU",
        "outputId": "cdcf76db-1076-4b42-eb75-af7ec935e9a8"
      },
      "source": [
        "model.summary()\n",
        "\n",
        "#SimpleRNN에 전달할 샘플의 크기는(100,500)이지만 순환층은 마지막 타임스텝의 은닉상태만 출력한다. 따라서 출력크기가 순환층의 뉴런 개수와 동일한 8이 된다.\n",
        "#순환층에 사용된 모델 파라미터 개수를 게산해보면 입력토큰은 500차원의 원핫인코딩배열\n",
        "#이 배열이 순환층의 뉴런 8개와 완전 연결되므로 총 500*8=4000개의 가중치가 있음. \n",
        "#순환층의 은닉상태는 다시 다음 타임스탭에 사용되므로 또 다른 가중치와 곱해진ㄷ\n",
        "#이 ㄴ은닉상태도 순환층의 뉴런과 완전히 연결되므로 8(은닉상태크기)*8(뉴런개수)=64개의 가중치가 필요\n",
        "#뉴런마다 하나의 절편도 있으므로 모두 4000+64+8=4072개의 모델 파라미터가 필요하다\n"
      ],
      "execution_count": 23,
      "outputs": [
        {
          "output_type": "stream",
          "text": [
            "Model: \"sequential_1\"\n",
            "_________________________________________________________________\n",
            "Layer (type)                 Output Shape              Param #   \n",
            "=================================================================\n",
            "simple_rnn_1 (SimpleRNN)     (None, 8)                 4072      \n",
            "_________________________________________________________________\n",
            "dense_1 (Dense)              (None, 1)                 9         \n",
            "=================================================================\n",
            "Total params: 4,081\n",
            "Trainable params: 4,081\n",
            "Non-trainable params: 0\n",
            "_________________________________________________________________\n"
          ],
          "name": "stdout"
        }
      ]
    },
    {
      "cell_type": "code",
      "metadata": {
        "colab": {
          "base_uri": "https://localhost:8080/"
        },
        "id": "8aw59N8H1Oz_",
        "outputId": "4e386308-0087-4d7f-d54a-fa4a4c49b0d0"
      },
      "source": [
        "#순환신경망 훈련\n",
        "\n",
        "#학습률을 0.0001로 지정했음\n",
        "\n",
        "rmsprop=keras.optimizers.RMSprop(learning_rate=1e-4)\n",
        "model.compile(optimizer=rmsprop, loss='binary_crossentropy',metrics=['accuracy'])\n",
        "checkpoint_cb=keras.callbacks.ModelCheckpoint('best-simplernn-model.h5')\n",
        "early_stopping_cb=keras.callbacks.EarlyStopping(patience=3, restore_best_weights=True)\n",
        "history=model.fit(train_oh, train_target, epochs=100, batch_size=64, validation_data=(val_oh, val_target),callbacks=[checkpoint_cb, early_stopping_cb])"
      ],
      "execution_count": 26,
      "outputs": [
        {
          "output_type": "stream",
          "text": [
            "Epoch 1/100\n",
            "313/313 [==============================] - 14s 39ms/step - loss: 0.6984 - accuracy: 0.4976 - val_loss: 0.6949 - val_accuracy: 0.5028\n",
            "Epoch 2/100\n",
            "313/313 [==============================] - 11s 37ms/step - loss: 0.6943 - accuracy: 0.5031 - val_loss: 0.6934 - val_accuracy: 0.5036\n",
            "Epoch 3/100\n",
            "313/313 [==============================] - 11s 37ms/step - loss: 0.6926 - accuracy: 0.5124 - val_loss: 0.6921 - val_accuracy: 0.5136\n",
            "Epoch 4/100\n",
            "313/313 [==============================] - 12s 37ms/step - loss: 0.6913 - accuracy: 0.5214 - val_loss: 0.6913 - val_accuracy: 0.5188\n",
            "Epoch 5/100\n",
            "313/313 [==============================] - 12s 37ms/step - loss: 0.6900 - accuracy: 0.5342 - val_loss: 0.6902 - val_accuracy: 0.5278\n",
            "Epoch 6/100\n",
            "313/313 [==============================] - 12s 37ms/step - loss: 0.6886 - accuracy: 0.5425 - val_loss: 0.6893 - val_accuracy: 0.5346\n",
            "Epoch 7/100\n",
            "313/313 [==============================] - 11s 37ms/step - loss: 0.6870 - accuracy: 0.5488 - val_loss: 0.6885 - val_accuracy: 0.5362\n",
            "Epoch 8/100\n",
            "313/313 [==============================] - 11s 36ms/step - loss: 0.6854 - accuracy: 0.5555 - val_loss: 0.6877 - val_accuracy: 0.5394\n",
            "Epoch 9/100\n",
            "313/313 [==============================] - 11s 36ms/step - loss: 0.6838 - accuracy: 0.5599 - val_loss: 0.6871 - val_accuracy: 0.5424\n",
            "Epoch 10/100\n",
            "313/313 [==============================] - 11s 36ms/step - loss: 0.6821 - accuracy: 0.5654 - val_loss: 0.6864 - val_accuracy: 0.5446\n",
            "Epoch 11/100\n",
            "313/313 [==============================] - 12s 37ms/step - loss: 0.6802 - accuracy: 0.5708 - val_loss: 0.6859 - val_accuracy: 0.5464\n",
            "Epoch 12/100\n",
            "313/313 [==============================] - 11s 37ms/step - loss: 0.6783 - accuracy: 0.5744 - val_loss: 0.6849 - val_accuracy: 0.5462\n",
            "Epoch 13/100\n",
            "313/313 [==============================] - 11s 37ms/step - loss: 0.6758 - accuracy: 0.5821 - val_loss: 0.6830 - val_accuracy: 0.5548\n",
            "Epoch 14/100\n",
            "313/313 [==============================] - 11s 37ms/step - loss: 0.6702 - accuracy: 0.6001 - val_loss: 0.6745 - val_accuracy: 0.5868\n",
            "Epoch 15/100\n",
            "313/313 [==============================] - 11s 36ms/step - loss: 0.6571 - accuracy: 0.6348 - val_loss: 0.6591 - val_accuracy: 0.6248\n",
            "Epoch 16/100\n",
            "313/313 [==============================] - 11s 37ms/step - loss: 0.6402 - accuracy: 0.6622 - val_loss: 0.6431 - val_accuracy: 0.6558\n",
            "Epoch 17/100\n",
            "313/313 [==============================] - 11s 37ms/step - loss: 0.6214 - accuracy: 0.6900 - val_loss: 0.6245 - val_accuracy: 0.6854\n",
            "Epoch 18/100\n",
            "313/313 [==============================] - 11s 37ms/step - loss: 0.6019 - accuracy: 0.7094 - val_loss: 0.6081 - val_accuracy: 0.6994\n",
            "Epoch 19/100\n",
            "313/313 [==============================] - 11s 37ms/step - loss: 0.5835 - accuracy: 0.7280 - val_loss: 0.5907 - val_accuracy: 0.7090\n",
            "Epoch 20/100\n",
            "313/313 [==============================] - 11s 36ms/step - loss: 0.5666 - accuracy: 0.7398 - val_loss: 0.5747 - val_accuracy: 0.7228\n",
            "Epoch 21/100\n",
            "313/313 [==============================] - 12s 37ms/step - loss: 0.5506 - accuracy: 0.7513 - val_loss: 0.5590 - val_accuracy: 0.7436\n",
            "Epoch 22/100\n",
            "313/313 [==============================] - 11s 37ms/step - loss: 0.5359 - accuracy: 0.7599 - val_loss: 0.5445 - val_accuracy: 0.7508\n",
            "Epoch 23/100\n",
            "313/313 [==============================] - 11s 37ms/step - loss: 0.5221 - accuracy: 0.7683 - val_loss: 0.5341 - val_accuracy: 0.7548\n",
            "Epoch 24/100\n",
            "313/313 [==============================] - 12s 37ms/step - loss: 0.5095 - accuracy: 0.7764 - val_loss: 0.5235 - val_accuracy: 0.7618\n",
            "Epoch 25/100\n",
            "313/313 [==============================] - 12s 37ms/step - loss: 0.4982 - accuracy: 0.7815 - val_loss: 0.5110 - val_accuracy: 0.7704\n",
            "Epoch 26/100\n",
            "313/313 [==============================] - 12s 37ms/step - loss: 0.4878 - accuracy: 0.7849 - val_loss: 0.5017 - val_accuracy: 0.7716\n",
            "Epoch 27/100\n",
            "313/313 [==============================] - 12s 37ms/step - loss: 0.4782 - accuracy: 0.7902 - val_loss: 0.5016 - val_accuracy: 0.7686\n",
            "Epoch 28/100\n",
            "313/313 [==============================] - 11s 37ms/step - loss: 0.4704 - accuracy: 0.7929 - val_loss: 0.4874 - val_accuracy: 0.7784\n",
            "Epoch 29/100\n",
            "313/313 [==============================] - 11s 37ms/step - loss: 0.4623 - accuracy: 0.7977 - val_loss: 0.4813 - val_accuracy: 0.7820\n",
            "Epoch 30/100\n",
            "313/313 [==============================] - 12s 37ms/step - loss: 0.4556 - accuracy: 0.8019 - val_loss: 0.4772 - val_accuracy: 0.7822\n",
            "Epoch 31/100\n",
            "313/313 [==============================] - 12s 37ms/step - loss: 0.4494 - accuracy: 0.8048 - val_loss: 0.4724 - val_accuracy: 0.7838\n",
            "Epoch 32/100\n",
            "313/313 [==============================] - 12s 37ms/step - loss: 0.4436 - accuracy: 0.8074 - val_loss: 0.4679 - val_accuracy: 0.7870\n",
            "Epoch 33/100\n",
            "313/313 [==============================] - 12s 37ms/step - loss: 0.4387 - accuracy: 0.8105 - val_loss: 0.4687 - val_accuracy: 0.7848\n",
            "Epoch 34/100\n",
            "313/313 [==============================] - 12s 37ms/step - loss: 0.4344 - accuracy: 0.8127 - val_loss: 0.4627 - val_accuracy: 0.7888\n",
            "Epoch 35/100\n",
            "313/313 [==============================] - 12s 37ms/step - loss: 0.4301 - accuracy: 0.8133 - val_loss: 0.4628 - val_accuracy: 0.7842\n",
            "Epoch 36/100\n",
            "313/313 [==============================] - 12s 37ms/step - loss: 0.4268 - accuracy: 0.8147 - val_loss: 0.4589 - val_accuracy: 0.7894\n",
            "Epoch 37/100\n",
            "313/313 [==============================] - 12s 37ms/step - loss: 0.4233 - accuracy: 0.8160 - val_loss: 0.4586 - val_accuracy: 0.7888\n",
            "Epoch 38/100\n",
            "313/313 [==============================] - 12s 37ms/step - loss: 0.4203 - accuracy: 0.8191 - val_loss: 0.4597 - val_accuracy: 0.7884\n",
            "Epoch 39/100\n",
            "313/313 [==============================] - 12s 38ms/step - loss: 0.4175 - accuracy: 0.8188 - val_loss: 0.4558 - val_accuracy: 0.7914\n",
            "Epoch 40/100\n",
            "313/313 [==============================] - 12s 37ms/step - loss: 0.4154 - accuracy: 0.8195 - val_loss: 0.4541 - val_accuracy: 0.7918\n",
            "Epoch 41/100\n",
            "313/313 [==============================] - 12s 37ms/step - loss: 0.4123 - accuracy: 0.8212 - val_loss: 0.4554 - val_accuracy: 0.7910\n",
            "Epoch 42/100\n",
            "313/313 [==============================] - 12s 37ms/step - loss: 0.4105 - accuracy: 0.8223 - val_loss: 0.4606 - val_accuracy: 0.7882\n",
            "Epoch 43/100\n",
            "313/313 [==============================] - 12s 37ms/step - loss: 0.4082 - accuracy: 0.8235 - val_loss: 0.4543 - val_accuracy: 0.7916\n"
          ],
          "name": "stdout"
        }
      ]
    },
    {
      "cell_type": "code",
      "metadata": {
        "colab": {
          "base_uri": "https://localhost:8080/",
          "height": 279
        },
        "id": "Kk4JIcOo4_qb",
        "outputId": "2b534979-8a5b-4cba-c519-3b924d3c2212"
      },
      "source": [
        "#훈련손실과 검증손실\n",
        "plt.plot(history.history['loss'])\n",
        "plt.plot(history.history['val_loss'])\n",
        "plt.xlabel('epoch')\n",
        "plt.ylabel(\"loss\")\n",
        "plt.legend(['train','val'])\n",
        "plt.show()"
      ],
      "execution_count": 28,
      "outputs": [
        {
          "output_type": "display_data",
          "data": {
            "image/png": "[encoded data removed]",
            "text/plain": [
              "<Figure size 432x288 with 1 Axes>"
            ]
          },
          "metadata": {
            "tags": [],
            "needs_background": "light"
          }
        }
      ]
    },
    {
      "cell_type": "code",
      "metadata": {
        "id": "E8Cu1K9i1Kzb"
      },
      "source": [
        "#원핫 인코딩의 단점은 입력데이터가 엄청 커진다는 것!"
      ],
      "execution_count": null,
      "outputs": []
    },
    {
      "cell_type": "code",
      "metadata": {
        "id": "c_Zu7-PA5VZG"
      },
      "source": [
        "#순환신경망에서 텍스트처리할떄 즐겨 사용하는 방식ㅇ이 단어임베딩\n",
        "#각 단어를 고정된 크기의 실수벡터로 바꾸어주는 것\n",
        "\n",
        "#단어임베딩의 장점은 입력으로 정수데이터 받는다는 것이고 메모리를 훨씬 효율적으로 사용할 수 있따.\n",
        "#훨씬 작은 크기로도 단어를 잘 표현할 수 있음\n",
        "#(100,)->(100,20)"
      ],
      "execution_count": 29,
      "outputs": []
    },
    {
      "cell_type": "code",
      "metadata": {
        "id": "XnbpFc5b5snh"
      },
      "source": [
        "model2=keras.Sequential()\n",
        "model2.add(keras.layers.Embedding(500,16, input_length=100))\n",
        "model2.add(keras.layers.SimpleRNN(8))\n",
        "model2.add(keras.layers.Dense(1,activation='sigmoid'))\n",
        "\n",
        "#임베딩에서 500은 어휘사전의 크기 16은 임베딩 벡터의 크기 세번쨰는입력 시퀀스의 길이"
      ],
      "execution_count": 30,
      "outputs": []
    },
    {
      "cell_type": "code",
      "metadata": {
        "colab": {
          "base_uri": "https://localhost:8080/"
        },
        "id": "iaCgUNmt6VoI",
        "outputId": "cc9493b6-be94-491b-fcd8-fb95f89b4022"
      },
      "source": [
        "model.summary()\n"
      ],
      "execution_count": 31,
      "outputs": [
        {
          "output_type": "stream",
          "text": [
            "Model: \"sequential_1\"\n",
            "_________________________________________________________________\n",
            "Layer (type)                 Output Shape              Param #   \n",
            "=================================================================\n",
            "simple_rnn_1 (SimpleRNN)     (None, 8)                 4072      \n",
            "_________________________________________________________________\n",
            "dense_1 (Dense)              (None, 1)                 9         \n",
            "=================================================================\n",
            "Total params: 4,081\n",
            "Trainable params: 4,081\n",
            "Non-trainable params: 0\n",
            "_________________________________________________________________\n"
          ],
          "name": "stdout"
        }
      ]
    },
    {
      "cell_type": "code",
      "metadata": {
        "colab": {
          "base_uri": "https://localhost:8080/"
        },
        "id": "idaRiRvG67rF",
        "outputId": "9016374b-4b60-414c-b9d2-6b3b8f0cd5f5"
      },
      "source": [
        "#모델 \n",
        "rmsprop=keras.optimizers.RMSprop(learning_rate=1e-4)\n",
        "model.compile(optimizer=rmsprop, loss='binary_crossentropy',metrics=['accuracy'])\n",
        "checkpoint_cb=keras.callbacks.ModelCheckpoint('best-embedding-model.h5')\n",
        "early_stopping_cb=keras.callbacks.EarlyStopping(patience=3, restore_best_weights=True)\n",
        "history=model.fit(train_oh, train_target, epochs=100, batch_size=64, validation_data=(val_oh, val_target),callbacks=[checkpoint_cb, early_stopping_cb])\n"
      ],
      "execution_count": 32,
      "outputs": [
        {
          "output_type": "stream",
          "text": [
            "Epoch 1/100\n",
            "313/313 [==============================] - 13s 38ms/step - loss: 0.4127 - accuracy: 0.8220 - val_loss: 0.4544 - val_accuracy: 0.7904\n",
            "Epoch 2/100\n",
            "313/313 [==============================] - 11s 37ms/step - loss: 0.4102 - accuracy: 0.8230 - val_loss: 0.4548 - val_accuracy: 0.7892\n",
            "Epoch 3/100\n",
            "313/313 [==============================] - 12s 37ms/step - loss: 0.4078 - accuracy: 0.8235 - val_loss: 0.4623 - val_accuracy: 0.7888\n",
            "Epoch 4/100\n",
            "313/313 [==============================] - 12s 37ms/step - loss: 0.4065 - accuracy: 0.8238 - val_loss: 0.4534 - val_accuracy: 0.7936\n",
            "Epoch 5/100\n",
            "313/313 [==============================] - 11s 37ms/step - loss: 0.4040 - accuracy: 0.8273 - val_loss: 0.4550 - val_accuracy: 0.7894\n",
            "Epoch 6/100\n",
            "313/313 [==============================] - 11s 37ms/step - loss: 0.4024 - accuracy: 0.8248 - val_loss: 0.4529 - val_accuracy: 0.7940\n",
            "Epoch 7/100\n",
            "313/313 [==============================] - 12s 37ms/step - loss: 0.4008 - accuracy: 0.8271 - val_loss: 0.4540 - val_accuracy: 0.7910\n",
            "Epoch 8/100\n",
            "313/313 [==============================] - 12s 37ms/step - loss: 0.3992 - accuracy: 0.8264 - val_loss: 0.4545 - val_accuracy: 0.7934\n",
            "Epoch 9/100\n",
            "313/313 [==============================] - 12s 37ms/step - loss: 0.3976 - accuracy: 0.8286 - val_loss: 0.4544 - val_accuracy: 0.7966\n"
          ],
          "name": "stdout"
        }
      ]
    },
    {
      "cell_type": "code",
      "metadata": {
        "colab": {
          "base_uri": "https://localhost:8080/",
          "height": 279
        },
        "id": "7deyxTwb7OUB",
        "outputId": "d711749b-2db3-4c2a-bdeb-d78167b35716"
      },
      "source": [
        "#훈련손실과 검증손실\n",
        "plt.plot(history.history['loss'])\n",
        "plt.plot(history.history['val_loss'])\n",
        "plt.xlabel('epoch')\n",
        "plt.ylabel(\"loss\")\n",
        "plt.legend(['train','val'])\n",
        "plt.show()"
      ],
      "execution_count": 33,
      "outputs": [
        {
          "output_type": "display_data",
          "data": {
            "image/png": "[encoded data removed]",
            "text/plain": [
              "<Figure size 432x288 with 1 Axes>"
            ]
          },
          "metadata": {
            "tags": [],
            "needs_background": "light"
          }
        }
      ]
    }
  ]
}