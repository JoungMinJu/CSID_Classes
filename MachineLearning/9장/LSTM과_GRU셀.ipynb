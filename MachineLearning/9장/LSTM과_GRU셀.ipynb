{
  "nbformat": 4,
  "nbformat_minor": 0,
  "metadata": {
    "colab": {
      "name": "LSTM과 GRU셀.ipynb",
      "provenance": [],
      "collapsed_sections": [],
      "authorship_tag": "ABX9TyP2wW0SgUxpzGDQpbAqj6kj",
      "include_colab_link": true
    },
    "kernelspec": {
      "name": "python3",
      "display_name": "Python 3"
    },
    "language_info": {
      "name": "python"
    }
  },
  "cells": [
    {
      "cell_type": "markdown",
      "metadata": {
        "id": "view-in-github",
        "colab_type": "text"
      },
      "source": [
        "<a href=\"https://colab.research.google.com/github/JoungMinJu/machine_learning/blob/main/9%EC%9E%A5/LSTM%EA%B3%BC_GRU%EC%85%80.ipynb\" target=\"_parent\"><img src=\"https://colab.research.google.com/assets/colab-badge.svg\" alt=\"Open In Colab\"/></a>"
      ]
    },
    {
      "cell_type": "code",
      "metadata": {
        "id": "CyIGnExl8h-M"
      },
      "source": [
        ""
      ],
      "execution_count": null,
      "outputs": []
    },
    {
      "cell_type": "markdown",
      "metadata": {
        "id": "OP-k8GP08mnE"
      },
      "source": [
        "고급 순환층인 LSTM과 GRU.\n",
        "이런 층들은 simpleRNN보다 계산이 복잡하지만 성능이 뛰어나서 순환 신경망에 많이 채택되고 있따. 일반적으로 기본 순환층은 긴 시퀀스를 학습하기 어렵다. 시퀀스가 길 수록 순환되는 은닉상태에 담긴 정보가 점차 희석되기 때문. 따라서 멀리 떨어져있는 단어 정보를 인식하는데 어려울 수 있따. 이를 위해 LSTM과 GRU셀이 발명되었따.\n"
      ]
    },
    {
      "cell_type": "code",
      "metadata": {
        "id": "1s1Q2rx-81zZ"
      },
      "source": [
        ""
      ],
      "execution_count": null,
      "outputs": []
    },
    {
      "cell_type": "markdown",
      "metadata": {
        "id": "rpe16vWe82kw"
      },
      "source": [
        "LSTM은 단기기억을 오래 기억하기 위해 고안되었다.LSTM은 구조가 복잡다. 근데 기본개념은 동일함\n",
        "\n",
        "LSTM에는 입려과 가중치를 곱하고 절편을 더해 활성화 함수를 통과시키는 구조를 여러개 가지고 있다. 이런 계산 결과는 다음 타임스텝에 재사용된다. \n",
        "\n",
        "먼저 은닉상태\n",
        "은닉상태는 입력과 이전 타임스텝의 은닉상태를 가중치에 곱한 후 활성화 함수를 통과시켜 다음 은닉 상태를 만든다. 이때 기본 순환층과는 달리 시그모이드 활성화 함수를 사용한다. 또 tanh 활성화 함수를 통과한 어떤 값과 곱해져서 은닉 상태를 만든다. \n",
        "\n",
        "LSTM에는 순환되는 상태가 두개이다. 은닉상태 말고 셀 상태라고 부르는 값이 또 있음. 은닉 상태와 달리 셀 상태는 다음 층으로 전달되지 않고 LSTM셀에서 순환만 되는 값이다. \n",
        "\n",
        "입력과 은닉상태에 곱해지는 가중치가 다르다. 이 두 작은 셀은 각기 다른 기능을 위해 훈련된다. 그리고 여기에 두개의 작은 셀이 더 추가되어 셀 상태를 만드는데 기여한다. \n",
        "\n",
        "입력과 은닉상태를 각기 다른 가중치에 곱한 다음 하나는 시그모이드 함수를 통과시키고 다른 하나는 tanh 함수를  통과시킨다. 그 다음 두 결과를 곱한 후 이전 셀 상태와 더한다. 이 결과가 최종적인 다음 셀 상태가 된다. \n",
        "\n",
        "삭제게이트는 셀 상태에 있는 정보를 제거하는 역할\n",
        "입력 게이트는 새로운 정보를 셀 상태에 추가하는 역할\n",
        "출력 게이트는 이 셀상태가 다음 은닉상태로 출력되는 역할\n",
        "\n",
        "\n"
      ]
    },
    {
      "cell_type": "code",
      "metadata": {
        "colab": {
          "base_uri": "https://localhost:8080/"
        },
        "id": "LK3jDY3_FrdE",
        "outputId": "27f3875e-1709-46eb-ce0c-1875c20a5fb0"
      },
      "source": [
        "from tensorflow.keras.datasets import imdb\n",
        "from sklearn.model_selection import train_test_split\n",
        "(train_input, train_target), (test_input, test_target)=imdb.load_data(num_words=500)\n",
        "train_input, val_input, train_target, val_target=train_test_split(train_input, train_target, test_size=0.2, random_state=42)"
      ],
      "execution_count": 1,
      "outputs": [
        {
          "output_type": "stream",
          "text": [
            "Downloading data from https://storage.googleapis.com/tensorflow/tf-keras-datasets/imdb.npz\n",
            "17465344/17464789 [==============================] - 0s 0us/step\n"
          ],
          "name": "stdout"
        },
        {
          "output_type": "stream",
          "text": [
            "<string>:6: VisibleDeprecationWarning: Creating an ndarray from ragged nested sequences (which is a list-or-tuple of lists-or-tuples-or ndarrays with different lengths or shapes) is deprecated. If you meant to do this, you must specify 'dtype=object' when creating the ndarray\n",
            "/usr/local/lib/python3.7/dist-packages/tensorflow/python/keras/datasets/imdb.py:155: VisibleDeprecationWarning: Creating an ndarray from ragged nested sequences (which is a list-or-tuple of lists-or-tuples-or ndarrays with different lengths or shapes) is deprecated. If you meant to do this, you must specify 'dtype=object' when creating the ndarray\n",
            "  x_train, y_train = np.array(xs[:idx]), np.array(labels[:idx])\n",
            "/usr/local/lib/python3.7/dist-packages/tensorflow/python/keras/datasets/imdb.py:156: VisibleDeprecationWarning: Creating an ndarray from ragged nested sequences (which is a list-or-tuple of lists-or-tuples-or ndarrays with different lengths or shapes) is deprecated. If you meant to do this, you must specify 'dtype=object' when creating the ndarray\n",
            "  x_test, y_test = np.array(xs[idx:]), np.array(labels[idx:])\n"
          ],
          "name": "stderr"
        }
      ]
    },
    {
      "cell_type": "code",
      "metadata": {
        "id": "Xok3at8uGJZg"
      },
      "source": [
        "#각 샘플의 길이를 100에 맞춘다.(부족하면 패딩 추가)"
      ],
      "execution_count": 2,
      "outputs": []
    },
    {
      "cell_type": "code",
      "metadata": {
        "id": "ZKz3CLzEF9Ro"
      },
      "source": [
        "from tensorflow.keras.preprocessing.sequence import pad_sequences\n",
        "train_seq=pad_sequences(train_input, maxlen=100)\n",
        "val_seq=pad_sequences(val_input, maxlen=100)\n"
      ],
      "execution_count": 3,
      "outputs": []
    },
    {
      "cell_type": "code",
      "metadata": {
        "id": "Gm5XuAJUGzhb"
      },
      "source": [
        "from tensorflow import keras\n",
        "model=keras.Sequential()\n",
        "model.add(keras.layers.Embedding(500,16, input_length=100))\n",
        "model.add(keras.layers.LSTM(8))\n",
        "model.add(keras.layers.Dense(1, activation='sigmoid'))\n",
        "\n",
        "#걍 simpleRNN을 LSTM으로 바꾼 수준"
      ],
      "execution_count": 6,
      "outputs": []
    },
    {
      "cell_type": "code",
      "metadata": {
        "colab": {
          "base_uri": "https://localhost:8080/"
        },
        "id": "LL4734wqG7bf",
        "outputId": "fbd78c4d-d25d-4987-bc48-f16056056989"
      },
      "source": [
        "model.summary()\n",
        "\n",
        "#LSTM은 작은 셀이 네개 있으므로 파라미터가 4배 증가하여(simplernn대비) 모델 파라미터의 개수가 800개가 되었다.\n"
      ],
      "execution_count": 7,
      "outputs": [
        {
          "output_type": "stream",
          "text": [
            "Model: \"sequential_1\"\n",
            "_________________________________________________________________\n",
            "Layer (type)                 Output Shape              Param #   \n",
            "=================================================================\n",
            "embedding (Embedding)        (None, 100, 16)           8000      \n",
            "_________________________________________________________________\n",
            "lstm (LSTM)                  (None, 8)                 800       \n",
            "_________________________________________________________________\n",
            "dense (Dense)                (None, 1)                 9         \n",
            "=================================================================\n",
            "Total params: 8,809\n",
            "Trainable params: 8,809\n",
            "Non-trainable params: 0\n",
            "_________________________________________________________________\n"
          ],
          "name": "stdout"
        }
      ]
    },
    {
      "cell_type": "code",
      "metadata": {
        "colab": {
          "base_uri": "https://localhost:8080/"
        },
        "id": "qlmPIzYbHN_B",
        "outputId": "42e45a6f-56ac-4585-c83d-7c7e4ea0658b"
      },
      "source": [
        "#모델 컴파일 및 훈련\n",
        "rmsprop=keras.optimizers.RMSprop(learning_rate=1e-4)\n",
        "model.compile(optimizer=rmsprop, loss='binary_crossentropy', metrics=['accuracy'])\n",
        "checkpoint_cb=keras.callbacks.ModelCheckpoint('best-lstm-model.h5')\n",
        "early_stopping_cb=keras.callbacks.EarlyStopping(patience=3, restore_best_weights=True)\n",
        "history=model.fit(train_seq, train_target, epochs=100, batch_size=64, validation_data=(val_seq, val_target), callbacks=[checkpoint_cb, early_stopping_cb])\n",
        "\n",
        "#크기는 64개 에포크 횟수는 100임"
      ],
      "execution_count": 9,
      "outputs": [
        {
          "output_type": "stream",
          "text": [
            "Epoch 1/100\n",
            "313/313 [==============================] - 14s 38ms/step - loss: 0.6919 - accuracy: 0.5638 - val_loss: 0.6908 - val_accuracy: 0.5982\n",
            "Epoch 2/100\n",
            "313/313 [==============================] - 11s 36ms/step - loss: 0.6881 - accuracy: 0.6328 - val_loss: 0.6851 - val_accuracy: 0.6538\n",
            "Epoch 3/100\n",
            "313/313 [==============================] - 11s 36ms/step - loss: 0.6762 - accuracy: 0.6802 - val_loss: 0.6623 - val_accuracy: 0.7058\n",
            "Epoch 4/100\n",
            "313/313 [==============================] - 11s 36ms/step - loss: 0.6262 - accuracy: 0.7302 - val_loss: 0.5969 - val_accuracy: 0.7260\n",
            "Epoch 5/100\n",
            "313/313 [==============================] - 11s 36ms/step - loss: 0.5797 - accuracy: 0.7329 - val_loss: 0.5678 - val_accuracy: 0.7444\n",
            "Epoch 6/100\n",
            "313/313 [==============================] - 11s 36ms/step - loss: 0.5504 - accuracy: 0.7494 - val_loss: 0.5411 - val_accuracy: 0.7582\n",
            "Epoch 7/100\n",
            "313/313 [==============================] - 11s 37ms/step - loss: 0.5231 - accuracy: 0.7682 - val_loss: 0.5178 - val_accuracy: 0.7696\n",
            "Epoch 8/100\n",
            "313/313 [==============================] - 12s 37ms/step - loss: 0.5002 - accuracy: 0.7832 - val_loss: 0.5013 - val_accuracy: 0.7794\n",
            "Epoch 9/100\n",
            "313/313 [==============================] - 11s 36ms/step - loss: 0.4822 - accuracy: 0.7895 - val_loss: 0.4849 - val_accuracy: 0.7858\n",
            "Epoch 10/100\n",
            "313/313 [==============================] - 11s 36ms/step - loss: 0.4690 - accuracy: 0.7969 - val_loss: 0.4746 - val_accuracy: 0.7868\n",
            "Epoch 11/100\n",
            "313/313 [==============================] - 11s 36ms/step - loss: 0.4591 - accuracy: 0.7987 - val_loss: 0.4690 - val_accuracy: 0.7896\n",
            "Epoch 12/100\n",
            "313/313 [==============================] - 11s 36ms/step - loss: 0.4508 - accuracy: 0.8025 - val_loss: 0.4651 - val_accuracy: 0.7892\n",
            "Epoch 13/100\n",
            "313/313 [==============================] - 11s 36ms/step - loss: 0.4445 - accuracy: 0.8048 - val_loss: 0.4562 - val_accuracy: 0.7914\n",
            "Epoch 14/100\n",
            "313/313 [==============================] - 11s 36ms/step - loss: 0.4385 - accuracy: 0.8064 - val_loss: 0.4530 - val_accuracy: 0.7900\n",
            "Epoch 15/100\n",
            "313/313 [==============================] - 11s 36ms/step - loss: 0.4347 - accuracy: 0.8085 - val_loss: 0.4545 - val_accuracy: 0.7944\n",
            "Epoch 16/100\n",
            "313/313 [==============================] - 11s 36ms/step - loss: 0.4308 - accuracy: 0.8098 - val_loss: 0.4482 - val_accuracy: 0.7976\n",
            "Epoch 17/100\n",
            "313/313 [==============================] - 11s 36ms/step - loss: 0.4275 - accuracy: 0.8112 - val_loss: 0.4443 - val_accuracy: 0.7964\n",
            "Epoch 18/100\n",
            "313/313 [==============================] - 11s 36ms/step - loss: 0.4250 - accuracy: 0.8120 - val_loss: 0.4451 - val_accuracy: 0.7910\n",
            "Epoch 19/100\n",
            "313/313 [==============================] - 11s 36ms/step - loss: 0.4223 - accuracy: 0.8120 - val_loss: 0.4429 - val_accuracy: 0.7966\n",
            "Epoch 20/100\n",
            "313/313 [==============================] - 11s 36ms/step - loss: 0.4204 - accuracy: 0.8137 - val_loss: 0.4395 - val_accuracy: 0.7946\n",
            "Epoch 21/100\n",
            "313/313 [==============================] - 11s 36ms/step - loss: 0.4187 - accuracy: 0.8144 - val_loss: 0.4390 - val_accuracy: 0.7932\n",
            "Epoch 22/100\n",
            "313/313 [==============================] - 11s 36ms/step - loss: 0.4168 - accuracy: 0.8133 - val_loss: 0.4393 - val_accuracy: 0.7986\n",
            "Epoch 23/100\n",
            "313/313 [==============================] - 11s 36ms/step - loss: 0.4157 - accuracy: 0.8158 - val_loss: 0.4381 - val_accuracy: 0.7922\n",
            "Epoch 24/100\n",
            "313/313 [==============================] - 11s 36ms/step - loss: 0.4146 - accuracy: 0.8156 - val_loss: 0.4397 - val_accuracy: 0.8002\n",
            "Epoch 25/100\n",
            "313/313 [==============================] - 11s 36ms/step - loss: 0.4132 - accuracy: 0.8143 - val_loss: 0.4353 - val_accuracy: 0.7986\n",
            "Epoch 26/100\n",
            "313/313 [==============================] - 11s 36ms/step - loss: 0.4122 - accuracy: 0.8164 - val_loss: 0.4357 - val_accuracy: 0.7934\n",
            "Epoch 27/100\n",
            "313/313 [==============================] - 11s 36ms/step - loss: 0.4114 - accuracy: 0.8151 - val_loss: 0.4344 - val_accuracy: 0.8000\n",
            "Epoch 28/100\n",
            "313/313 [==============================] - 11s 36ms/step - loss: 0.4097 - accuracy: 0.8173 - val_loss: 0.4358 - val_accuracy: 0.8004\n",
            "Epoch 29/100\n",
            "313/313 [==============================] - 11s 36ms/step - loss: 0.4094 - accuracy: 0.8176 - val_loss: 0.4339 - val_accuracy: 0.7976\n",
            "Epoch 30/100\n",
            "313/313 [==============================] - 11s 36ms/step - loss: 0.4083 - accuracy: 0.8172 - val_loss: 0.4412 - val_accuracy: 0.8004\n",
            "Epoch 31/100\n",
            "313/313 [==============================] - 11s 36ms/step - loss: 0.4075 - accuracy: 0.8175 - val_loss: 0.4335 - val_accuracy: 0.8024\n",
            "Epoch 32/100\n",
            "313/313 [==============================] - 11s 36ms/step - loss: 0.4072 - accuracy: 0.8170 - val_loss: 0.4343 - val_accuracy: 0.7976\n",
            "Epoch 33/100\n",
            "313/313 [==============================] - 11s 36ms/step - loss: 0.4060 - accuracy: 0.8182 - val_loss: 0.4329 - val_accuracy: 0.8022\n",
            "Epoch 34/100\n",
            "313/313 [==============================] - 11s 36ms/step - loss: 0.4053 - accuracy: 0.8183 - val_loss: 0.4331 - val_accuracy: 0.7974\n",
            "Epoch 35/100\n",
            "313/313 [==============================] - 11s 36ms/step - loss: 0.4047 - accuracy: 0.8181 - val_loss: 0.4331 - val_accuracy: 0.8000\n",
            "Epoch 36/100\n",
            "313/313 [==============================] - 11s 36ms/step - loss: 0.4037 - accuracy: 0.8202 - val_loss: 0.4335 - val_accuracy: 0.7980\n"
          ],
          "name": "stdout"
        }
      ]
    },
    {
      "cell_type": "code",
      "metadata": {
        "colab": {
          "base_uri": "https://localhost:8080/",
          "height": 279
        },
        "id": "iIigSTjDHoKB",
        "outputId": "1e95ff93-dd8e-4c5d-f349-d88b5c7e860a"
      },
      "source": [
        "#훈련손실과 검증손실 그래프 그리기\n",
        "import matplotlib.pyplot as plt\n",
        "plt.plot(history.history['loss'])\n",
        "plt.plot(history.history['val_loss'])\n",
        "plt.xlabel('epochs')\n",
        "plt.ylabel('loss')\n",
        "plt.legend(['train','val'])\n",
        "plt.show()\n",
        "\n",
        "\n",
        "#기본 순환층보다 LSTM이 과대적합을 억제하면서 훈련을 잘 수행한 것으로 보인다.\n",
        "#하지만 경우에 따라서는 과대적합을 더 강하게 제어할 필요가 있따. \n"
      ],
      "execution_count": 11,
      "outputs": [
        {
          "output_type": "display_data",
          "data": {
            "image/png": "[encoded data removed]",
            "text/plain": [
              "<Figure size 432x288 with 1 Axes>"
            ]
          },
          "metadata": {
            "tags": [],
            "needs_background": "light"
          }
        }
      ]
    },
    {
      "cell_type": "markdown",
      "metadata": {
        "id": "MhF9QLzpI0NO"
      },
      "source": [
        "과대적합 강하게 제어하기 위해 순환층에 드롭아웃 적용하기\n"
      ]
    },
    {
      "cell_type": "code",
      "metadata": {
        "id": "iIP4gcurIXNQ"
      },
      "source": [
        "#완전연결 신경망과 합성곱 신경망에 Dropout 클래스 사용해 드롭아웃 적용한 것을 착안\n",
        "#순환층은 자체적으로 드롭아웃 기능을 제공한다.\n",
        "\n",
        "#LSTM과 SimpleRNN모두 드롭아웃 매개변수와 recurrent_dropout 매개변수를 가지고 있다.\n",
        "#드롭아웃 매개변수는 셀의 입력에 드롭아웃을 적용하고 recurrent_dropout은 순환되는 은닉상태에 드롭아웃을 적용한다.\n",
        "#하지만 기술적인 문제로 인해 recurrent_dropoutㄹ을 사용하면 GPU을 사용하여 모델을 훈련하지 못한다. 이때문에 모델의 훈련속도가 크게 느려진다.\n",
        "#그래서 dropout만을 사용해볼 것임.\n",
        "\n",
        "model2=keras.Sequential()\n",
        "model2.add(keras.layers.Embedding(500,16,input_length=100))\n",
        "model2.add(keras.layers.LSTM(8,dropout=0.3))\n",
        "model2.add(keras.layers.Dense(1, activation='sigmoid'))\n"
      ],
      "execution_count": 12,
      "outputs": []
    },
    {
      "cell_type": "code",
      "metadata": {
        "colab": {
          "base_uri": "https://localhost:8080/"
        },
        "id": "2jCz2PrdJ1AV",
        "outputId": "28b5a7ad-85d7-495f-faeb-07d210dc2557"
      },
      "source": [
        "#훈련\n",
        "rmsprop=keras.optimizers.RMSprop(learning_rate=1e-4)\n",
        "model2.compile(optimizer=rmsprop, loss='binary_crossentropy', metrics=['accuracy'])\n",
        "checkpoint_cb=keras.callbacks.ModelCheckpoint('best-lstm-model.h5')\n",
        "early_stopping_cb=keras.callbacks.EarlyStopping(patience=3, restore_best_weights=True)\n",
        "history=model2.fit(train_seq, train_target, epochs=100, batch_size=64, validation_data=(val_seq, val_target), callbacks=[checkpoint_cb, early_stopping_cb])\n",
        "\n"
      ],
      "execution_count": 13,
      "outputs": [
        {
          "output_type": "stream",
          "text": [
            "Epoch 1/100\n",
            "313/313 [==============================] - 12s 34ms/step - loss: 0.4053 - accuracy: 0.8182 - val_loss: 0.4321 - val_accuracy: 0.8006\n",
            "Epoch 2/100\n",
            "313/313 [==============================] - 10s 33ms/step - loss: 0.4046 - accuracy: 0.8191 - val_loss: 0.4325 - val_accuracy: 0.7996\n",
            "Epoch 3/100\n",
            "313/313 [==============================] - 10s 34ms/step - loss: 0.4037 - accuracy: 0.8196 - val_loss: 0.4316 - val_accuracy: 0.8018\n",
            "Epoch 4/100\n",
            "313/313 [==============================] - 10s 33ms/step - loss: 0.4031 - accuracy: 0.8192 - val_loss: 0.4332 - val_accuracy: 0.8038\n",
            "Epoch 5/100\n",
            "313/313 [==============================] - 11s 35ms/step - loss: 0.4027 - accuracy: 0.8198 - val_loss: 0.4391 - val_accuracy: 0.8004\n",
            "Epoch 6/100\n",
            "313/313 [==============================] - 10s 33ms/step - loss: 0.4018 - accuracy: 0.8193 - val_loss: 0.4317 - val_accuracy: 0.8044\n"
          ],
          "name": "stdout"
        }
      ]
    },
    {
      "cell_type": "code",
      "metadata": {
        "colab": {
          "base_uri": "https://localhost:8080/",
          "height": 279
        },
        "id": "RBcrX1qZKBqh",
        "outputId": "daec266f-bd17-4f03-aa6d-88ca393377eb"
      },
      "source": [
        "#훈련손실과 검증손실 그래프 그리기\n",
        "import matplotlib.pyplot as plt\n",
        "plt.plot(history.history['loss'])\n",
        "plt.plot(history.history['val_loss'])\n",
        "plt.xlabel('epochs')\n",
        "plt.ylabel('loss')\n",
        "plt.legend(['train','val'])\n",
        "plt.show()\n",
        "\n"
      ],
      "execution_count": 14,
      "outputs": [
        {
          "output_type": "display_data",
          "data": {
            "image/png": "[encoded data removed]",
            "text/plain": [
              "<Figure size 432x288 with 1 Axes>"
            ]
          },
          "metadata": {
            "tags": [],
            "needs_background": "light"
          }
        }
      ]
    },
    {
      "cell_type": "markdown",
      "metadata": {
        "id": "tqB7xpecKwXI"
      },
      "source": [
        "순환층 여러개 쌓아보기!\n",
        "근데 순환층의 은닉상태는 샘플의 마지막 타임스텝에 대한 은니상태만 다음 층ㅇ으로 전달한다. 근데 순환층을 쌓게 되면 모든순환층에 순차 데이터가 필요하다. 따라서 앞쪽의 순환층이 모든 타입스탭에 대한 은닉상태를 출력해야한다. "
      ]
    },
    {
      "cell_type": "code",
      "metadata": {
        "id": "m15Qek2NK7EC"
      },
      "source": [
        "#케라스의 순환층에서 모든 타입스탭의 은닉상태를 출력하려면 마지막을 제외한 다른 모든 순환층에서 return_sequences 매개변수를 True로 지정하면 된다.\n",
        "model3=keras.Sequential()\n",
        "model3.add(keras.layers.Embedding(500,16,input_length=100))\n",
        "model3.add(keras.layers.LSTM(8,dropout=0.3,return_sequences=True))\n",
        "model3.add(keras.layers.LSTM(8,dropout=0.3))\n",
        "model3.add(keras.layers.Dense(1, activation='sigmoid'))\n",
        "\n",
        "#2개의 층을 쌓았다\n"
      ],
      "execution_count": 16,
      "outputs": []
    },
    {
      "cell_type": "code",
      "metadata": {
        "colab": {
          "base_uri": "https://localhost:8080/"
        },
        "id": "bbk4d6zpLYYJ",
        "outputId": "b6d44253-2aa4-4e32-a7b3-7fdf088c8b0f"
      },
      "source": [
        "model.summary()\n"
      ],
      "execution_count": 17,
      "outputs": [
        {
          "output_type": "stream",
          "text": [
            "Model: \"sequential_1\"\n",
            "_________________________________________________________________\n",
            "Layer (type)                 Output Shape              Param #   \n",
            "=================================================================\n",
            "embedding (Embedding)        (None, 100, 16)           8000      \n",
            "_________________________________________________________________\n",
            "lstm (LSTM)                  (None, 8)                 800       \n",
            "_________________________________________________________________\n",
            "dense (Dense)                (None, 1)                 9         \n",
            "=================================================================\n",
            "Total params: 8,809\n",
            "Trainable params: 8,809\n",
            "Non-trainable params: 0\n",
            "_________________________________________________________________\n"
          ],
          "name": "stdout"
        }
      ]
    },
    {
      "cell_type": "markdown",
      "metadata": {
        "id": "src6k9ZiLezb"
      },
      "source": [
        "첫번쨰 LSTM층이 모든 타입스탭(100개)의 은닉상태를 출력하므로 출력크기가 저런데\n",
        "LSTM 층의 출력 크기는 마지막 타입스탭의 은닉상태만 출력하므로 (None,8)임.\n"
      ]
    },
    {
      "cell_type": "code",
      "metadata": {
        "colab": {
          "base_uri": "https://localhost:8080/"
        },
        "id": "kT8vOkeoLajK",
        "outputId": "775a8201-7aed-4944-f36a-1cc47ea94f99"
      },
      "source": [
        "rmsprop=keras.optimizers.RMSprop(learning_rate=1e-4)\n",
        "model3.compile(optimizer=rmsprop, loss='binary_crossentropy', metrics=['accuracy'])\n",
        "checkpoint_cb=keras.callbacks.ModelCheckpoint('best-2rnn-model.h5')\n",
        "early_stopping_cb=keras.callbacks.EarlyStopping(patience=3, restore_best_weights=True)\n",
        "history=model3.fit(train_seq, train_target, epochs=100, batch_size=64, validation_data=(val_seq, val_target), callbacks=[checkpoint_cb, early_stopping_cb])\n"
      ],
      "execution_count": 19,
      "outputs": [
        {
          "output_type": "stream",
          "text": [
            "Epoch 1/100\n",
            "313/313 [==============================] - 25s 71ms/step - loss: 0.6929 - accuracy: 0.5217 - val_loss: 0.6926 - val_accuracy: 0.5592\n",
            "Epoch 2/100\n",
            "313/313 [==============================] - 21s 68ms/step - loss: 0.6917 - accuracy: 0.5624 - val_loss: 0.6906 - val_accuracy: 0.6170\n",
            "Epoch 3/100\n",
            "313/313 [==============================] - 21s 68ms/step - loss: 0.6872 - accuracy: 0.6191 - val_loss: 0.6830 - val_accuracy: 0.6364\n",
            "Epoch 4/100\n",
            "313/313 [==============================] - 21s 67ms/step - loss: 0.6669 - accuracy: 0.6467 - val_loss: 0.6457 - val_accuracy: 0.6678\n",
            "Epoch 5/100\n",
            "313/313 [==============================] - 21s 67ms/step - loss: 0.6057 - accuracy: 0.6967 - val_loss: 0.5767 - val_accuracy: 0.7208\n",
            "Epoch 6/100\n",
            "313/313 [==============================] - 21s 67ms/step - loss: 0.5537 - accuracy: 0.7315 - val_loss: 0.5409 - val_accuracy: 0.7372\n",
            "Epoch 7/100\n",
            "313/313 [==============================] - 21s 68ms/step - loss: 0.5295 - accuracy: 0.7405 - val_loss: 0.5177 - val_accuracy: 0.7472\n",
            "Epoch 8/100\n",
            "313/313 [==============================] - 21s 68ms/step - loss: 0.5096 - accuracy: 0.7534 - val_loss: 0.5008 - val_accuracy: 0.7592\n",
            "Epoch 9/100\n",
            "313/313 [==============================] - 21s 67ms/step - loss: 0.4962 - accuracy: 0.7630 - val_loss: 0.4881 - val_accuracy: 0.7626\n",
            "Epoch 10/100\n",
            "313/313 [==============================] - 21s 67ms/step - loss: 0.4843 - accuracy: 0.7718 - val_loss: 0.4770 - val_accuracy: 0.7734\n",
            "Epoch 11/100\n",
            "313/313 [==============================] - 21s 67ms/step - loss: 0.4740 - accuracy: 0.7792 - val_loss: 0.4691 - val_accuracy: 0.7806\n",
            "Epoch 12/100\n",
            "313/313 [==============================] - 21s 67ms/step - loss: 0.4677 - accuracy: 0.7821 - val_loss: 0.4656 - val_accuracy: 0.7794\n",
            "Epoch 13/100\n",
            "313/313 [==============================] - 21s 68ms/step - loss: 0.4624 - accuracy: 0.7845 - val_loss: 0.4584 - val_accuracy: 0.7838\n",
            "Epoch 14/100\n",
            "313/313 [==============================] - 21s 69ms/step - loss: 0.4568 - accuracy: 0.7876 - val_loss: 0.4555 - val_accuracy: 0.7858\n",
            "Epoch 15/100\n",
            "313/313 [==============================] - 22s 69ms/step - loss: 0.4540 - accuracy: 0.7890 - val_loss: 0.4563 - val_accuracy: 0.7856\n",
            "Epoch 16/100\n",
            "313/313 [==============================] - 22s 70ms/step - loss: 0.4499 - accuracy: 0.7882 - val_loss: 0.4509 - val_accuracy: 0.7888\n",
            "Epoch 17/100\n",
            "313/313 [==============================] - 22s 70ms/step - loss: 0.4462 - accuracy: 0.7940 - val_loss: 0.4488 - val_accuracy: 0.7880\n",
            "Epoch 18/100\n",
            "313/313 [==============================] - 22s 70ms/step - loss: 0.4452 - accuracy: 0.7951 - val_loss: 0.4471 - val_accuracy: 0.7904\n",
            "Epoch 19/100\n",
            "313/313 [==============================] - 22s 69ms/step - loss: 0.4398 - accuracy: 0.7990 - val_loss: 0.4495 - val_accuracy: 0.7892\n",
            "Epoch 20/100\n",
            "313/313 [==============================] - 22s 69ms/step - loss: 0.4412 - accuracy: 0.7955 - val_loss: 0.4449 - val_accuracy: 0.7912\n",
            "Epoch 21/100\n",
            "313/313 [==============================] - 22s 69ms/step - loss: 0.4404 - accuracy: 0.7954 - val_loss: 0.4438 - val_accuracy: 0.7924\n",
            "Epoch 22/100\n",
            "313/313 [==============================] - 22s 69ms/step - loss: 0.4381 - accuracy: 0.7973 - val_loss: 0.4446 - val_accuracy: 0.7946\n",
            "Epoch 23/100\n",
            "313/313 [==============================] - 21s 68ms/step - loss: 0.4381 - accuracy: 0.7977 - val_loss: 0.4428 - val_accuracy: 0.7950\n",
            "Epoch 24/100\n",
            "313/313 [==============================] - 22s 69ms/step - loss: 0.4380 - accuracy: 0.7989 - val_loss: 0.4432 - val_accuracy: 0.7902\n",
            "Epoch 25/100\n",
            "313/313 [==============================] - 22s 69ms/step - loss: 0.4340 - accuracy: 0.8005 - val_loss: 0.4416 - val_accuracy: 0.7950\n",
            "Epoch 26/100\n",
            "313/313 [==============================] - 22s 69ms/step - loss: 0.4345 - accuracy: 0.7989 - val_loss: 0.4404 - val_accuracy: 0.7934\n",
            "Epoch 27/100\n",
            "313/313 [==============================] - 22s 69ms/step - loss: 0.4335 - accuracy: 0.7986 - val_loss: 0.4410 - val_accuracy: 0.7986\n",
            "Epoch 28/100\n",
            "313/313 [==============================] - 22s 70ms/step - loss: 0.4333 - accuracy: 0.8004 - val_loss: 0.4426 - val_accuracy: 0.7960\n",
            "Epoch 29/100\n",
            "313/313 [==============================] - 22s 71ms/step - loss: 0.4307 - accuracy: 0.8000 - val_loss: 0.4406 - val_accuracy: 0.7898\n"
          ],
          "name": "stdout"
        }
      ]
    },
    {
      "cell_type": "code",
      "metadata": {
        "colab": {
          "base_uri": "https://localhost:8080/",
          "height": 279
        },
        "id": "6IYsypIRL93N",
        "outputId": "1fdfed12-9c42-4e77-b0b3-188b753124e5"
      },
      "source": [
        "import matplotlib.pyplot as plt\n",
        "plt.plot(history.history['loss'])\n",
        "plt.plot(history.history['val_loss'])\n",
        "plt.xlabel('epochs')\n",
        "plt.ylabel('loss')\n",
        "plt.legend(['train','val'])\n",
        "plt.show()\n"
      ],
      "execution_count": 20,
      "outputs": [
        {
          "output_type": "display_data",
          "data": {
            "image/png": "[encoded data removed]",
            "text/plain": [
              "<Figure size 432x288 with 1 Axes>"
            ]
          },
          "metadata": {
            "tags": [],
            "needs_background": "light"
          }
        }
      ]
    },
    {
      "cell_type": "markdown",
      "metadata": {
        "id": "FoOpCM_kMAqQ"
      },
      "source": [
        "GRU 구조\n",
        "셀상태를 계산하지 않고 은닉상태 하나만 포함하고 있다.\n",
        "\n",
        "GRU 셀에는 은닉상태와 입력에 가중치를 곱하고 절편을 더하는 작은 셀이 3개 들어있다. 2개는 시그모이드 활성화 함수를 사용하고 하나는 tanh를 사용한다. 여기에서도 은닉상태와 입력에 곱해지는 가중치를 합쳐서 나타내겠다.\n",
        "\n",
        "GRU는 LSTM보다 가중치가 적어서 계산량이 적지만 LSTM 못지 않은 좋은 성능을 나타낸다. \n",
        "\n"
      ]
    },
    {
      "cell_type": "code",
      "metadata": {
        "id": "bpF0PuKIMY4m"
      },
      "source": [
        "model4=keras.Sequential()\n",
        "model4.add(keras.layers.Embedding(500,16,input_length=100))\n",
        "model4.add(keras.layers.GRU(8))\n",
        "model4.add(keras.layers.Dense(1, activation='sigmoid'))"
      ],
      "execution_count": 21,
      "outputs": []
    },
    {
      "cell_type": "code",
      "metadata": {
        "colab": {
          "base_uri": "https://localhost:8080/"
        },
        "id": "0--u9TrJMmSi",
        "outputId": "f9635825-d153-4d5e-8b07-bc57f0e6b90f"
      },
      "source": [
        "model4.summary()"
      ],
      "execution_count": 22,
      "outputs": [
        {
          "output_type": "stream",
          "text": [
            "Model: \"sequential_5\"\n",
            "_________________________________________________________________\n",
            "Layer (type)                 Output Shape              Param #   \n",
            "=================================================================\n",
            "embedding_4 (Embedding)      (None, 100, 16)           8000      \n",
            "_________________________________________________________________\n",
            "gru (GRU)                    (None, 8)                 624       \n",
            "_________________________________________________________________\n",
            "dense_4 (Dense)              (None, 1)                 9         \n",
            "=================================================================\n",
            "Total params: 8,633\n",
            "Trainable params: 8,633\n",
            "Non-trainable params: 0\n",
            "_________________________________________________________________\n"
          ],
          "name": "stdout"
        }
      ]
    },
    {
      "cell_type": "code",
      "metadata": {
        "id": "1L3fggGkMneW"
      },
      "source": [
        ""
      ],
      "execution_count": null,
      "outputs": []
    }
  ]
}