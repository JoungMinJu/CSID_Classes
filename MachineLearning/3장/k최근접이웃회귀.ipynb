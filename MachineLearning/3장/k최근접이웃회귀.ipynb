{
  "nbformat": 4,
  "nbformat_minor": 0,
  "metadata": {
    "colab": {
      "name": "k최근접이웃회귀.ipynb",
      "provenance": [],
      "authorship_tag": "ABX9TyP9dKtGgHV5eDuou3pwDg6t",
      "include_colab_link": true
    },
    "kernelspec": {
      "name": "python3",
      "display_name": "Python 3"
    },
    "language_info": {
      "name": "python"
    }
  },
  "cells": [
    {
      "cell_type": "markdown",
      "metadata": {
        "id": "view-in-github",
        "colab_type": "text"
      },
      "source": [
        "<a href=\"https://colab.research.google.com/github/JoungMinJu/machine_learning/blob/main/3%EC%9E%A5/k%EC%B5%9C%EA%B7%BC%EC%A0%91%EC%9D%B4%EC%9B%83%ED%9A%8C%EA%B7%80.ipynb\" target=\"_parent\"><img src=\"https://colab.research.google.com/assets/colab-badge.svg\" alt=\"Open In Colab\"/></a>"
      ]
    },
    {
      "cell_type": "markdown",
      "metadata": {
        "id": "Vqf2wS7hgxCa"
      },
      "source": [
        "회귀는 두 변수 사이의 상관관계를 분석하는 방법이라한다."
      ]
    },
    {
      "cell_type": "code",
      "metadata": {
        "id": "c4mbTIFbg39r"
      },
      "source": [
        "#k최근접이웃회귀도 예측하려는 샘플에 가장 가까운 k개 샘플을 선택해서 그 수치들의 평균을 구한다."
      ],
      "execution_count": null,
      "outputs": []
    },
    {
      "cell_type": "code",
      "metadata": {
        "id": "OkMkRvWUhHhg"
      },
      "source": [
        "import numpy as np\n",
        "perch_length = np.array([8.4, 13.7, 15.0, 16.2, 17.4, 18.0, 18.7, 19.0, 19.6, 20.0, 21.0,\n",
        "       21.0, 21.0, 21.3, 22.0, 22.0, 22.0, 22.0, 22.0, 22.5, 22.5, 22.7,\n",
        "       23.0, 23.5, 24.0, 24.0, 24.6, 25.0, 25.6, 26.5, 27.3, 27.5, 27.5,\n",
        "       27.5, 28.0, 28.7, 30.0, 32.8, 34.5, 35.0, 36.5, 36.0, 37.0, 37.0,\n",
        "       39.0, 39.0, 39.0, 40.0, 40.0, 40.0, 40.0, 42.0, 43.0, 43.0, 43.5,\n",
        "       44.0])\n",
        "perch_weight = np.array([5.9, 32.0, 40.0, 51.5, 70.0, 100.0, 78.0, 80.0, 85.0, 85.0, 110.0,\n",
        "       115.0, 125.0, 130.0, 120.0, 120.0, 130.0, 135.0, 110.0, 130.0,\n",
        "       150.0, 145.0, 150.0, 170.0, 225.0, 145.0, 188.0, 180.0, 197.0,\n",
        "       218.0, 300.0, 260.0, 265.0, 250.0, 250.0, 300.0, 320.0, 514.0,\n",
        "       556.0, 840.0, 685.0, 700.0, 700.0, 690.0, 900.0, 650.0, 820.0,\n",
        "       850.0, 900.0, 1015.0, 820.0, 1100.0, 1000.0, 1100.0, 1000.0,\n",
        "       1000.0])"
      ],
      "execution_count": null,
      "outputs": []
    },
    {
      "cell_type": "code",
      "metadata": {
        "colab": {
          "base_uri": "https://localhost:8080/",
          "height": 265
        },
        "id": "I7NahCIchRkK",
        "outputId": "d678ae0e-8cb3-429e-ef79-637363c14292"
      },
      "source": [
        "import matplotlib.pyplot as plt\n",
        "plt.scatter(perch_length, perch_weight)\n",
        "plt.show()"
      ],
      "execution_count": null,
      "outputs": [
        {
          "output_type": "display_data",
          "data": {
            "image/png": "[encoded data removed]",
            "text/plain": [
              "<Figure size 432x288 with 1 Axes>"
            ]
          },
          "metadata": {
            "tags": [],
            "needs_background": "light"
          }
        }
      ]
    },
    {
      "cell_type": "code",
      "metadata": {
        "id": "Lx9bI-Hhhm6j"
      },
      "source": [
        "from sklearn.model_selection import train_test_split\n",
        "train_input, test_input, train_target, test_target=train_test_split(perch_length, perch_weight, random_state=42)"
      ],
      "execution_count": null,
      "outputs": []
    },
    {
      "cell_type": "code",
      "metadata": {
        "colab": {
          "base_uri": "https://localhost:8080/"
        },
        "id": "U_0Mo5v7h0UY",
        "outputId": "a2610795-e4b3-46f2-d6cf-5f162924c074"
      },
      "source": [
        "#사이킷런에 사용할 훈련세트는 2차원 배열이어야한다. 근데 perch_length가 1차원 배열이라 train_test_split으로 한 것도 1차원\n",
        "#특성을 한개만 사용하므로 (농어의 길이: 특성, 타겟: 무게)\n",
        "#2차원 배열을 수동으로 만들어야한\n",
        "train_input=train_input.reshape(-1,1) # -1은 나머지 원소 개수로 모두 채우라는 것 1은 두번쨰 크기를 1로 하는 것\n",
        "test_input=test_input.reshape(-1,1)\n",
        "print(train_input.shape, test_input.shape)"
      ],
      "execution_count": null,
      "outputs": [
        {
          "output_type": "stream",
          "text": [
            "(42, 1) (14, 1)\n"
          ],
          "name": "stdout"
        }
      ]
    },
    {
      "cell_type": "code",
      "metadata": {
        "colab": {
          "base_uri": "https://localhost:8080/"
        },
        "id": "7eg6P-CkijBh",
        "outputId": "bb249ada-80f1-4234-fd17-80bbad42174d"
      },
      "source": [
        "from sklearn.neighbors import KNeighborsRegressor\n",
        "knr=KNeighborsRegressor()\n",
        "knr.fit(train_input, train_target)"
      ],
      "execution_count": null,
      "outputs": [
        {
          "output_type": "execute_result",
          "data": {
            "text/plain": [
              "KNeighborsRegressor(algorithm='auto', leaf_size=30, metric='minkowski',\n",
              "                    metric_params=None, n_jobs=None, n_neighbors=5, p=2,\n",
              "                    weights='uniform')"
            ]
          },
          "metadata": {
            "tags": []
          },
          "execution_count": 7
        }
      ]
    },
    {
      "cell_type": "code",
      "metadata": {
        "colab": {
          "base_uri": "https://localhost:8080/"
        },
        "id": "GoJoGEfejXtn",
        "outputId": "46ccbd92-d0d2-4128-e8e8-90af4dd9f8d9"
      },
      "source": [
        "print(knr.score(test_input, test_target))\n",
        "#이 점수가 벼 ㄹ의미가 없는게, 회귀에서 정확한 정답을 맞추는 개수의 비율은 중요하지 않음\n",
        "#왜냐면 회귀에서 정확한 점수를 맞추는 것은 불가능하기 때문이다. 그래서 회귀는 결정계수를 이용하여 평가한다.\n"
      ],
      "execution_count": null,
      "outputs": [
        {
          "output_type": "stream",
          "text": [
            "0.9928094061010639\n"
          ],
          "name": "stdout"
        }
      ]
    },
    {
      "cell_type": "code",
      "metadata": {
        "colab": {
          "base_uri": "https://localhost:8080/"
        },
        "id": "eF-hG8qXjnDD",
        "outputId": "ee4b3099-6dea-4c24-b79b-b2faeef53d5d"
      },
      "source": [
        "from sklearn.metrics import mean_absolute_error #타깃과 예측의 절댓값 오차를 평균하여 반환한다.\n",
        "\n",
        "test_prediction = knr.predict(test_input)\n",
        "mae=mean_absolute_error(test_target, test_prediction)\n",
        "print(mae)"
      ],
      "execution_count": null,
      "outputs": [
        {
          "output_type": "stream",
          "text": [
            "19.157142857142862\n"
          ],
          "name": "stdout"
        }
      ]
    },
    {
      "cell_type": "code",
      "metadata": {
        "colab": {
          "base_uri": "https://localhost:8080/"
        },
        "id": "QQqlmAD4kFg8",
        "outputId": "84322732-af81-43f3-bc5d-a3a3faa44fc8"
      },
      "source": [
        "print(knr.score(train_input, train_target))"
      ],
      "execution_count": null,
      "outputs": [
        {
          "output_type": "stream",
          "text": [
            "0.9698823289099255\n"
          ],
          "name": "stdout"
        }
      ]
    },
    {
      "cell_type": "code",
      "metadata": {
        "colab": {
          "base_uri": "https://localhost:8080/"
        },
        "id": "J5XtGww5kKvK",
        "outputId": "9ba96851-96f3-405d-b621-b5a67f0c53a7"
      },
      "source": [
        "#훈련세트에서 점수 높은데 테스트세트에서 점수 낮으면 과대적합되었다는 것. \n",
        "#두 점수가 모두 낮거나 테스트 세트의 점수가 더 높으면 과소적합 되어있는 것.\n",
        "\n",
        "#위의 모델은 과소적합입니다! 훈련세트보다 테스트 점수가 높기 때문입니도\n",
        "#그럼 문제를 조금 더 복잡하게 만들면된다. k의 개수를 줄이면 된다. 이러면 국지적인 패턴에 민감해지고\n",
        "#이웃의 개수를 늘리면 데이터 전반에 있는 일반적인 패턴을 따를 것이다. 기본값은 k=5\n",
        "\n",
        "knr.n_neighbors=3\n",
        "\n",
        "knr.fit(train_input, train_target)\n",
        "print(knr.score(train_input, train_target))"
      ],
      "execution_count": null,
      "outputs": [
        {
          "output_type": "stream",
          "text": [
            "0.9804899950518966\n"
          ],
          "name": "stdout"
        }
      ]
    },
    {
      "cell_type": "code",
      "metadata": {
        "colab": {
          "base_uri": "https://localhost:8080/"
        },
        "id": "p9jMQRsNm3jt",
        "outputId": "06d4a73f-0c5c-4181-bead-f1309d912e1e"
      },
      "source": [
        "print(knr.score(test_input, test_target))"
      ],
      "execution_count": null,
      "outputs": [
        {
          "output_type": "stream",
          "text": [
            "0.974645996398761\n"
          ],
          "name": "stdout"
        }
      ]
    },
    {
      "cell_type": "code",
      "metadata": {
        "id": "rq1B8_g3m5co"
      },
      "source": [
        "#두 점수의 차이가 크지 않으니 적합함을 확인할 수 있다."
      ],
      "execution_count": null,
      "outputs": []
    }
  ]
}