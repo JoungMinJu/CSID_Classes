{
 "cells": [
  {
   "cell_type": "markdown",
   "metadata": {},
   "source": [
    "## 1. 다음의 함수는 어떤 기능을 하는지 예를 들어 설명하시오\n",
    " np.max, np.min\n",
    " \n",
    " > 넘파이로 구현된 다차원 데이터의 최댓값(max), 최솟값(min)을 구하는데 사용된다."
   ]
  },
  {
   "cell_type": "code",
   "execution_count": 201,
   "metadata": {
    "scrolled": true
   },
   "outputs": [
    {
     "name": "stdout",
     "output_type": "stream",
     "text": [
      "[[ 1  2  3  4]\n",
      " [ 5  6  7  8]\n",
      " [ 9 10 11 12]]\n"
     ]
    }
   ],
   "source": [
    "import numpy as np\n",
    "arr=np.array([[1,2,3,4],\n",
    "        [5,6,7,8,],\n",
    "        [9,10,11,12]])\n",
    "print(arr)"
   ]
  },
  {
   "cell_type": "code",
   "execution_count": 202,
   "metadata": {},
   "outputs": [
    {
     "name": "stdout",
     "output_type": "stream",
     "text": [
      "전체의 최솟값 1\n",
      "각 행의 최솟값 [1 5 9]\n",
      "각 열의 최솟값 [1 2 3 4]\n"
     ]
    }
   ],
   "source": [
    "#np.min\n",
    "\n",
    "print(\"전체의 최솟값\", np.min(arr))\n",
    "print(\"각 행의 최솟값\", np.min(arr, axis=1))\n",
    "print(\"각 열의 최솟값\",np.min(arr,axis=0))"
   ]
  },
  {
   "cell_type": "code",
   "execution_count": 203,
   "metadata": {},
   "outputs": [
    {
     "name": "stdout",
     "output_type": "stream",
     "text": [
      "전체의 최댓값 12\n",
      "각 행의 최댓값 [ 4  8 12]\n",
      "각 열의 최댓값 [ 9 10 11 12]\n"
     ]
    }
   ],
   "source": [
    "#np.max\n",
    "\n",
    "print(\"전체의 최댓값\", np.max(arr))\n",
    "print(\"각 행의 최댓값\", np.max(arr, axis=1))\n",
    "print(\"각 열의 최댓값\",np.max(arr,axis=0))"
   ]
  },
  {
   "cell_type": "markdown",
   "metadata": {},
   "source": [
    "np.argmax, np.argmin\n",
    ">최솟값(argmin), 최댓값(argmax)에 해당하는 index값을 반환한다"
   ]
  },
  {
   "cell_type": "code",
   "execution_count": 204,
   "metadata": {},
   "outputs": [
    {
     "name": "stdout",
     "output_type": "stream",
     "text": [
      "[[ 1  2  3  4]\n",
      " [ 5  6  7  8]\n",
      " [ 9 10 11 12]]\n"
     ]
    }
   ],
   "source": [
    "import numpy as np\n",
    "arr=np.array([[1,2,3,4],\n",
    "        [5,6,7,8,],\n",
    "        [9,10,11,12]])\n",
    "print(arr)"
   ]
  },
  {
   "cell_type": "code",
   "execution_count": 205,
   "metadata": {},
   "outputs": [
    {
     "name": "stdout",
     "output_type": "stream",
     "text": [
      "전체의 최솟값 인덱스 0\n",
      "각 행의 최솟값 인덱스 [0 0 0]\n",
      "각 열의 최솟값 인덱스 [0 0 0 0]\n"
     ]
    }
   ],
   "source": [
    "#np.min\n",
    "\n",
    "print(\"전체의 최솟값 인덱스\", np.argmin(arr))\n",
    "print(\"각 행의 최솟값 인덱스\", np.argmin(arr, axis=1))\n",
    "#[0,0,0]의 뜻은 각 행의 0번째 인덱스가 최솟값을 갖는다는 것\n",
    "print(\"각 열의 최솟값 인덱스\",np.argmin(arr,axis=0))"
   ]
  },
  {
   "cell_type": "code",
   "execution_count": 206,
   "metadata": {},
   "outputs": [
    {
     "name": "stdout",
     "output_type": "stream",
     "text": [
      "전체의 최댓값 인덱스 11\n",
      "각 행의 최댓값 인덱스 [3 3 3]\n",
      "각 열의 최댓값 인덱스 [2 2 2 2]\n"
     ]
    }
   ],
   "source": [
    "#np.max\n",
    "\n",
    "print(\"전체의 최댓값 인덱스\", np.argmax(arr))\n",
    "print(\"각 행의 최댓값 인덱스\", np.argmax(arr, axis=1))\n",
    "print(\"각 열의 최댓값 인덱스\",np.argmax(arr,axis=0))"
   ]
  },
  {
   "cell_type": "code",
   "execution_count": 207,
   "metadata": {},
   "outputs": [
    {
     "name": "stdout",
     "output_type": "stream",
     "text": [
      "최댓값 인덱스 1\n",
      "최솟값 인덱스 4\n"
     ]
    }
   ],
   "source": [
    "#추가 예제\n",
    "arr2=np.array([1,10,9,4,0])\n",
    "print(\"최댓값 인덱스\",np.argmax(arr2))\n",
    "print(\"최솟값 인덱스\",np.argmin(arr2))"
   ]
  },
  {
   "cell_type": "markdown",
   "metadata": {},
   "source": [
    "np.append\n",
    "> 어레이의 끝에 요소를 추가하는 것<br>\n",
    "> 첫 번쨰 파라미터=대상 array, 두 번쨰 파라미터 = 추가할 값<br>\n"
   ]
  },
  {
   "cell_type": "code",
   "execution_count": 208,
   "metadata": {},
   "outputs": [
    {
     "name": "stdout",
     "output_type": "stream",
     "text": [
      "[1 2 3 4]\n"
     ]
    }
   ],
   "source": [
    "import numpy as np\n",
    "\n",
    "arr1=np.array([1,2,3])\n",
    "arr2=np.array(4)\n",
    "arr3=np.append(arr1,arr2)\n",
    "print(arr3)"
   ]
  },
  {
   "cell_type": "code",
   "execution_count": 209,
   "metadata": {},
   "outputs": [
    {
     "name": "stdout",
     "output_type": "stream",
     "text": [
      "[ 1  2  3  9 10 11]\n"
     ]
    }
   ],
   "source": [
    "arr4=np.array([1,2,3])\n",
    "arr5=np.array([9,10,11])\n",
    "arr6=np.append(arr4,arr5)\n",
    "print(arr6)"
   ]
  },
  {
   "cell_type": "code",
   "execution_count": 210,
   "metadata": {},
   "outputs": [
    {
     "name": "stdout",
     "output_type": "stream",
     "text": [
      "[[ 1  2  3]\n",
      " [ 9 10 11]]\n"
     ]
    }
   ],
   "source": [
    "arr4=np.array([[1,2,3]])\n",
    "arr5=np.array([[9,10,11]])\n",
    "arr6=np.append(arr4,arr5,axis=0)\n",
    "print(arr6)"
   ]
  },
  {
   "cell_type": "markdown",
   "metadata": {},
   "source": [
    "## 2. Code1을 보고 아래의 조건을 만족하도록 BLANK를 채워 완성하세요. \n",
    "\n",
    "BLANK1: np.random.rand를 이용하여 -5에서 5 사이의 범위에서 균일한 확률로 샘플을 생성하는 코드를 작성하세요. 만들어지는 ndarray의 shape는 NxD입니다.\n",
    "<br><br>\n",
    "BLANK2 : for문 없이 기준점 z로부터 위에서 생성한 샘플들까지의 거리를 계산하는 코드를 작성하세요\n",
    "<br><br>\n",
    "BLANK3 : 그림 (a)를 생성하는 코드를 작성합니다. 전체 샘플은 회색 점, 기준 점은 빨간 x, 일정 거리 이상의 샘플은 cyan으로 하이라이트하고, 가장 멀리 떨어진 점은 파란색으로 한번 더 하이라이트합니다."
   ]
  },
  {
   "cell_type": "code",
   "execution_count": 211,
   "metadata": {},
   "outputs": [],
   "source": [
    "import numpy as np\n",
    "import numpy.matlib\n",
    "import math\n",
    "import matplotlib.pyplot as plt\n",
    "\n",
    "# 벡터의 차원\n",
    "D = 2\n",
    "# 랜덤으로 설정한 기준점\n",
    "z = np.random.randn(D)\n",
    "\n",
    "# 생성할 샘플의 개수\n",
    "N = 100\n",
    "# 기준이 되는 거리\n",
    "d_star = 2\n",
    "\n",
    "# BLANK1\n",
    "arr=(np.random.rand(N,D)*10)-5\n",
    "# BLANK2\n",
    "Z=np.matlib.repmat(z.reshape(1,D),N,1)\n",
    "dist=np.sqrt(np.sum((arr-Z)**2, axis=1))"
   ]
  },
  {
   "cell_type": "code",
   "execution_count": 212,
   "metadata": {},
   "outputs": [
    {
     "data": {
      "image/png": "[encoded data removed]",
      "text/plain": [
       "<Figure size 432x288 with 1 Axes>"
      ]
     },
     "metadata": {
      "needs_background": "light"
     },
     "output_type": "display_data"
    }
   ],
   "source": [
    "dist_max = np.max(dist)\n",
    "id_max = np.argmax(dist)\n",
    "id_long = np.where(dist >= d_star)\n",
    "\n",
    "theta = np.linspace(0,2*math.pi,100)\n",
    "#0~2*math.pi까지 100개의 수 배열\n",
    "\n",
    "x1 = d_star*np.cos(theta) + z[0]\n",
    "x2 = d_star*np.sin(theta) + z[1]\n",
    "\n",
    "plt.figure()\n",
    "ax = plt.subplot(1,1,1)\n",
    "# BLANK3\n",
    "plt.plot(x1,x2)\n",
    "plt.scatter(arr[id_max,0],arr[id_max,1],s=50,facecolor='blue')\n",
    "plt.scatter(arr[id_long,0],arr[id_long,1],s=30,facecolor='cyan')\n",
    "plt.scatter(arr[:,0],arr[:,1],facecolor='gray',s=4)\n",
    "plt.scatter(z[0],z[1],facecolor='red',marker='x')\n",
    "\n",
    "\n",
    "ax.set_aspect('equal')\n",
    "#플롯의 가로세로 비율을 정사각형으로 만드는 코드\n"
   ]
  },
  {
   "cell_type": "markdown",
   "metadata": {},
   "source": [
    "## 3. Code2를 보고 아래의 조건을 만족하도록 BLANK를 채워 완성하시오. \n",
    "거리를 구한 두 방식의 시간을 비교하는 코드입니다. \n",
    "<br>\n",
    "BLANK1: n번쨰 샘플과 기준점 사이의 거리를 구하는 부분입니다. 벡터의 차원 D를 수정하더라도 오류없이 작동해야합니다. for문을 사용하지 않고 작성하세요\n",
    "<br><br>\n",
    "BLANK2 : 전체 샘플과 기준점 사이의 거리를 구하기 위해 np.matlib.repmat을 사용하는 부분입니다 벡터의 차원 D를 수정하더라도 오류 없이 작동해야합니다."
   ]
  },
  {
   "cell_type": "code",
   "execution_count": 213,
   "metadata": {},
   "outputs": [
    {
     "name": "stdout",
     "output_type": "stream",
     "text": [
      "Elapsed time is 0.002159 seconds.\n",
      "Elapsed time is 0.002900 seconds.\n",
      "Elapsed time is 0.002547 seconds.\n",
      "Elapsed time is 0.000132 seconds.\n",
      "Elapsed time is 0.027357 seconds.\n",
      "Elapsed time is 0.000756 seconds.\n",
      "Elapsed time is 0.258155 seconds.\n",
      "Elapsed time is 0.003622 seconds.\n",
      "Elapsed time is 2.577693 seconds.\n",
      "Elapsed time is 0.021022 seconds.\n",
      "Elapsed time is 26.390902 seconds.\n",
      "Elapsed time is 0.205027 seconds.\n"
     ]
    }
   ],
   "source": [
    "import numpy as np\n",
    "import numpy.matlib\n",
    "import matplotlib.pyplot as plt\n",
    "from pytictoc import TicToc\n",
    "# 벡터의 차원\n",
    "D = 5\n",
    "\n",
    "# 랜덤으로 설정한 기준점\n",
    "z = np.random.randn(D)\n",
    "\n",
    "# 생성할 샘플의 개수\n",
    "Nset = np.array([10, 100, 1000, 10000, 100000, 1000000])\n",
    "\n",
    "t = TicToc()\n",
    "t1 = []\n",
    "t2 = []\n",
    "\n",
    "for N in Nset:\n",
    "    X = np.random.rand(N, D)\n",
    "    \n",
    "    t.tic()\n",
    "    dist1 = np.zeros(N)\n",
    "    for n in range(0, N):\n",
    "        # BLANK1\n",
    "        dist1[n]=np.sqrt(np.sum((X[n,:]-z)**2))\n",
    "    t.toc()\n",
    "    t1 = np.append(t1, t.tocvalue())\n",
    "    \n",
    "    t.tic()\n",
    "    # BLANK2\n",
    "    Z=np.matlib.repmat(z.reshape(1,D),N,1)\n",
    "    dist2 = np.sqrt(np.sum((X - Z)**2, axis = 1))\n",
    "    t.toc()\n",
    "    t2 = np.append(t2, t.tocvalue())\n",
    "    \n",
    "    "
   ]
  },
  {
   "cell_type": "code",
   "execution_count": 214,
   "metadata": {},
   "outputs": [
    {
     "data": {
      "image/png": "[encoded data removed]",
      "text/plain": [
       "<Figure size 432x288 with 1 Axes>"
      ]
     },
     "metadata": {
      "needs_background": "light"
     },
     "output_type": "display_data"
    }
   ],
   "source": [
    "plt.figure()\n",
    "plt.plot(Nset, 1e3*t1)\n",
    "plt.plot(Nset, 1e3*t2)\n",
    "plt.xlabel(\"number of samples\")\n",
    "plt.ylabel(\"computation time [ms]\")\n",
    "plt.xscale(\"log\")\n",
    "plt.yscale(\"log\")"
   ]
  },
  {
   "cell_type": "code",
   "execution_count": null,
   "metadata": {},
   "outputs": [],
   "source": []
  }
 ],
 "metadata": {
  "kernelspec": {
   "display_name": "Python 3",
   "language": "python",
   "name": "python3"
  },
  "language_info": {
   "codemirror_mode": {
    "name": "ipython",
    "version": 3
   },
   "file_extension": ".py",
   "mimetype": "text/x-python",
   "name": "python",
   "nbconvert_exporter": "python",
   "pygments_lexer": "ipython3",
   "version": "3.8.5"
  }
 },
 "nbformat": 4,
 "nbformat_minor": 4
}
