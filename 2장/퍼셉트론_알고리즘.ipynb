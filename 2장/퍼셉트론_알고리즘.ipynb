{
  "nbformat": 4,
  "nbformat_minor": 0,
  "metadata": {
    "colab": {
      "name": "퍼셉트론 알고리즘.ipynb",
      "provenance": [],
      "collapsed_sections": [],
      "authorship_tag": "ABX9TyMuj3tZM7QR4YELgVIw2U7e",
      "include_colab_link": true
    },
    "kernelspec": {
      "name": "python3",
      "display_name": "Python 3"
    },
    "language_info": {
      "name": "python"
    }
  },
  "cells": [
    {
      "cell_type": "markdown",
      "metadata": {
        "id": "view-in-github",
        "colab_type": "text"
      },
      "source": [
        "<a href=\"https://colab.research.google.com/github/JoungMinJu/lab_study/blob/main/2%EC%9E%A5/%ED%8D%BC%EC%85%89%ED%8A%B8%EB%A1%A0_%EC%95%8C%EA%B3%A0%EB%A6%AC%EC%A6%98.ipynb\" target=\"_parent\"><img src=\"https://colab.research.google.com/assets/colab-badge.svg\" alt=\"Open In Colab\"/></a>"
      ]
    },
    {
      "cell_type": "code",
      "metadata": {
        "id": "Q1AjIj4KHFDY"
      },
      "source": [
        ""
      ],
      "execution_count": null,
      "outputs": []
    },
    {
      "cell_type": "markdown",
      "metadata": {
        "id": "FL9t3jUDHXmi"
      },
      "source": [
        "퍼셉트론은 다수의 신호를 입력으로 받아 하나의 신호를 출력.\n",
        "퍼셉트론 신호도 흐름을 만들고 정보를 앞으로 전달한다. 하지만 흐ㄴ른다 안흐른다 두 가지의 값을 가질 수 있다. 1은 흐른다 0은 안흐른다.\n",
        "\n",
        "\n"
      ]
    },
    {
      "cell_type": "code",
      "metadata": {
        "id": "pmCGF0HSIEMN"
      },
      "source": [
        ""
      ],
      "execution_count": null,
      "outputs": []
    },
    {
      "cell_type": "markdown",
      "metadata": {
        "id": "Wcbt5K8xIEtd"
      },
      "source": [
        "퍼셉트론 구현하기"
      ]
    },
    {
      "cell_type": "code",
      "metadata": {
        "colab": {
          "base_uri": "https://localhost:8080/"
        },
        "id": "8Tvwi6JlIG0T",
        "outputId": "d9d898a6-da88-458d-9065-55d651589a49"
      },
      "source": [
        "def AND(x1,x2):\n",
        "  w1, w2 ,theta=0.5,0.5,0.7\n",
        "  tmp=x1*w1+x2*w2\n",
        "  if tmp<=theta:\n",
        "    return 0\n",
        "  elif tmp>theta:\n",
        "    return 1\n",
        "\n",
        "print(AND(0,0))\n",
        "print(AND(1,0))\n",
        "print(AND(0,1))\n",
        "print(AND(1,1))"
      ],
      "execution_count": 2,
      "outputs": [
        {
          "output_type": "stream",
          "text": [
            "0\n",
            "0\n",
            "0\n",
            "1\n"
          ],
          "name": "stdout"
        }
      ]
    },
    {
      "cell_type": "code",
      "metadata": {
        "id": "UQuIPe3NIeea"
      },
      "source": [
        ""
      ],
      "execution_count": null,
      "outputs": []
    },
    {
      "cell_type": "markdown",
      "metadata": {
        "id": "PfJ0zbZlIrmt"
      },
      "source": [
        "가중치화 편향 도입 "
      ]
    },
    {
      "cell_type": "code",
      "metadata": {
        "colab": {
          "base_uri": "https://localhost:8080/"
        },
        "id": "HyiGoxhVItFa",
        "outputId": "a3cead11-fccc-449c-b5c6-12993a374745"
      },
      "source": [
        "import numpy as np\n",
        "x=np.array([0,1])\n",
        "#입력\n",
        "w=np.array([0.5,0.5])\n",
        "#가중치\n",
        "b=-0.7\n",
        "#편향\n",
        "\n",
        "print(x*2)\n",
        "\n",
        "print(np.sum(x*w))\n",
        "\n",
        "print(np.sum(w*x)+b)\n"
      ],
      "execution_count": 4,
      "outputs": [
        {
          "output_type": "stream",
          "text": [
            "[0 2]\n",
            "0.5\n",
            "-0.19999999999999996\n"
          ],
          "name": "stdout"
        }
      ]
    },
    {
      "cell_type": "code",
      "metadata": {
        "id": "F94f5upNJAjN"
      },
      "source": [
        ""
      ],
      "execution_count": null,
      "outputs": []
    },
    {
      "cell_type": "markdown",
      "metadata": {
        "id": "n5Y1WUJaJKCw"
      },
      "source": [
        "가중치와 편향구하기\n"
      ]
    },
    {
      "cell_type": "code",
      "metadata": {
        "id": "63fQy5uGJLEZ"
      },
      "source": [
        "def AND(x1,x2):\n",
        "  x=np.array([x1,x2])\n",
        "  w=np.array([0.5,0.5])\n",
        "  b=-0.7\n",
        "  tmp=np.sum(w*x)+b\n",
        "  if tmp<=0:\n",
        "    return 0\n",
        "  else:\n",
        "    return 1"
      ],
      "execution_count": 11,
      "outputs": []
    },
    {
      "cell_type": "code",
      "metadata": {
        "id": "8-dPIXD_JVaR"
      },
      "source": [
        "def NAND(x1,x2):\n",
        "  x=np.array([x1,x2])\n",
        "  w=np.array([-0.5,-0.5])\n",
        "  b=0.7\n",
        "  tmp=np.sum(w*x)+b\n",
        "  if tmp<=0:\n",
        "    return 0\n",
        "  elif tmp>0:\n",
        "    return 1\n",
        "\n",
        "def OR(x1,x2):\n",
        "  x=np.array([x1,x2])\n",
        "  w=np.array([0.5,0.5])\n",
        "  b=-0.2\n",
        "  tmp=np.sum(w*x)+b\n",
        "  if tmp<=0:\n",
        "    return 0\n",
        "  elif tmp>0:\n",
        "    return 1"
      ],
      "execution_count": 14,
      "outputs": []
    },
    {
      "cell_type": "markdown",
      "metadata": {
        "id": "CJz3yzztKBH6"
      },
      "source": [
        "퍼셉트론의 한계\n",
        "\n",
        "배타적 논리합이라는 논리 회로인 XOR게이트를 퍼셉트론으로 구하려면 가중치 매개변수 값을 어떻게 설정하면 될까?\n",
        "\n",
        "지금까지의 퍼셉트론으로는 구현할 수 없음.\n",
        "XOR을 구현하려면 비선형의 직선(경계선)을 만들어야함 ㅠㅠ\n",
        "\n",
        "\n",
        "이를 해결하기 위해 다층 퍼셉트론을 만들 수 있다. "
      ]
    },
    {
      "cell_type": "code",
      "metadata": {
        "id": "_vanZeTFKZs9"
      },
      "source": [
        ""
      ],
      "execution_count": null,
      "outputs": []
    },
    {
      "cell_type": "code",
      "metadata": {
        "colab": {
          "base_uri": "https://localhost:8080/"
        },
        "id": "EImSnYo4Ke_A",
        "outputId": "55f33c22-ef56-4ba1-e056-68031b150491"
      },
      "source": [
        "#기존 게이트의 조합으로 XOR 게이트 만들기\n",
        "#NAND와 OR게이트에 입력하고 출력된 두개의 값을 AND 게이트에 넣는다.\n",
        "\n",
        "def XOR(x1,x2):\n",
        "  s1=NAND(x1,x2)\n",
        "  s2=OR(x1,x2)\n",
        "  result=AND(s1,s2)\n",
        "  return result\n",
        "\n",
        "print(XOR(0,0))\n",
        "print(XOR(0,1))\n",
        "print(XOR(1,0))\n",
        "print(XOR(1,1))"
      ],
      "execution_count": 15,
      "outputs": [
        {
          "output_type": "stream",
          "text": [
            "0\n",
            "1\n",
            "1\n",
            "0\n"
          ],
          "name": "stdout"
        }
      ]
    },
    {
      "cell_type": "code",
      "metadata": {
        "id": "JKXw7yCeLqRz"
      },
      "source": [
        ""
      ],
      "execution_count": null,
      "outputs": []
    },
    {
      "cell_type": "markdown",
      "metadata": {
        "id": "mRxjfiBEMOv4"
      },
      "source": [
        "XOR은 다충구조의네트워크이다. 2층 퍼셉트론인데 이처럼 층이 여러개인 퍼셉트론을 다층 퍼셉트론이라한다. \n",
        "단층 퍼셉트론으로는 표현하지 못한 것을 층을 하나 늘려 구현할 수 있따.\n",
        "\n",
        "퍼셉트론으로 회로를 만들수도 있고 컴퓨터마저 표현할 수 있따. \n",
        "\n",
        "\"이론상 2층 퍼셉트론이면 컴퓨터를 만들 수 있다.\" 정확히는 비선형인 시그모이드 함수를 활성화 함수로 이용하면 임의의 함수를 표현하 ㄹ수 있다. \n",
        " 근데 가중치를 적절히 설정하는 것이 어렵ㄷ다. \n",
        "\n",
        " "
      ]
    },
    {
      "cell_type": "code",
      "metadata": {
        "id": "HMaE_raRLbKm"
      },
      "source": [
        ""
      ],
      "execution_count": null,
      "outputs": []
    }
  ]
}