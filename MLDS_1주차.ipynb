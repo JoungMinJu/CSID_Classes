{
 "cells": [
  {
   "cell_type": "code",
   "execution_count": 3,
   "metadata": {},
   "outputs": [
    {
     "name": "stdout",
     "output_type": "stream",
     "text": [
      "[1 2 3]\n"
     ]
    }
   ],
   "source": [
    "import numpy as np\n",
    "a=np.array([1,2,3])\n",
    "print(a)\n",
    "\n",
    "#걍 연습"
   ]
  },
  {
   "cell_type": "code",
   "execution_count": 8,
   "metadata": {},
   "outputs": [
    {
     "name": "stdout",
     "output_type": "stream",
     "text": [
      "[3 4 5]\n"
     ]
    }
   ],
   "source": [
    "b=np.array([3,4,5])\n",
    "print(b)"
   ]
  },
  {
   "cell_type": "code",
   "execution_count": 10,
   "metadata": {},
   "outputs": [],
   "source": [
    "c=np.array([1,2])"
   ]
  },
  {
   "cell_type": "code",
   "execution_count": 13,
   "metadata": {},
   "outputs": [
    {
     "name": "stdout",
     "output_type": "stream",
     "text": [
      "[1 2 3]\n",
      "[[1 2 3]\n",
      " [4 5 6]\n",
      " [5 6 7]]\n",
      "[[1 2]\n",
      " [2 3]]\n"
     ]
    }
   ],
   "source": [
    "import numpy as np\n",
    "print(a)\n",
    "#벡터\n",
    "b=np.array([[1,2,3],[4,5,6],[5,6,7]])#행렬 3*3\n",
    "print(b)\n",
    "c=np.array([[1,2],[2,3]]) #행렬 2*2\n",
    "print(c)"
   ]
  },
  {
   "cell_type": "code",
   "execution_count": 16,
   "metadata": {},
   "outputs": [
    {
     "name": "stdout",
     "output_type": "stream",
     "text": [
      "[[0. 0.]\n",
      " [0. 0.]\n",
      " [0. 0.]]\n",
      "[[1. 1. 1. 1.]\n",
      " [1. 1. 1. 1.]\n",
      " [1. 1. 1. 1.]]\n",
      "[[5 5 5]\n",
      " [5 5 5]]\n"
     ]
    }
   ],
   "source": [
    "x=np.zeros((3,2)) #0으로r 가득찬 3*2 행렬 (데이터 타입이 실수)\n",
    "y=np.ones((3,4)) #1로 가득찬 3*4행렬\n",
    "z=np.full((2,3),5) #5로 가득찬 2*3 행렬\n",
    "print(x)\n",
    "print(y)\n",
    "print(z)\n"
   ]
  },
  {
   "cell_type": "code",
   "execution_count": 25,
   "metadata": {},
   "outputs": [
    {
     "name": "stdout",
     "output_type": "stream",
     "text": [
      "[0 1 2 3 4 5 6 7 8 9]\n",
      "[ 0.   2.5  5.   7.5 10. ]\n",
      "[0. 2. 4. 6. 8.]\n"
     ]
    }
   ],
   "source": [
    "#np.arrange(시작하는 값, 끝나는 값(디폴트=포함x),증가량(디폴트=1))\n",
    "x=np.arange(0,10)\n",
    "print(x)\n",
    "\n",
    "#np.linspace(시작하는 값, 끝나는 값(디폴트=포함o),개수)\n",
    "y=np.linspace(0,10,5)\n",
    "print(y) #0부터 10까지 5개로 쪼개달라\n",
    "y=np.linspace(0,10,5,endpoint=False)\n",
    "#포함 안하는 경우\n",
    "print(y)"
   ]
  },
  {
   "cell_type": "code",
   "execution_count": 28,
   "metadata": {},
   "outputs": [
    {
     "name": "stdout",
     "output_type": "stream",
     "text": [
      "1\n",
      "(3,)\n",
      "3\n"
     ]
    }
   ],
   "source": [
    "#ndarray라는 형식의 변수\n",
    "print(a.ndim) #차원, 차원이 1==벡터/2==행렬/\n",
    "print(a.shape)\n",
    "print(a.size) #스칼라가 몇 개 들어있나"
   ]
  },
  {
   "cell_type": "code",
   "execution_count": 33,
   "metadata": {},
   "outputs": [
    {
     "name": "stdout",
     "output_type": "stream",
     "text": [
      "[[0 1 2 3 4]\n",
      " [5 6 7 8 9]]\n",
      "[[0 1]\n",
      " [2 3]\n",
      " [4 5]\n",
      " [6 7]\n",
      " [8 9]]\n"
     ]
    }
   ],
   "source": [
    "a=np.arange(0,10)\n",
    "#10열짜리 벡터\n",
    "\n",
    "b=a.reshape(2,5)\n",
    "print(b)\n",
    "#순서가 행부터 채웠음을 확인할 수 있음! 이게 중요\n",
    "\n",
    "b=b.reshape(5,2)\n",
    "print(b)"
   ]
  },
  {
   "cell_type": "code",
   "execution_count": 39,
   "metadata": {},
   "outputs": [
    {
     "name": "stdout",
     "output_type": "stream",
     "text": [
      "0\n",
      "\n",
      "[[  0   1]\n",
      " [  2   3]\n",
      " [  4 100]\n",
      " [  6   7]\n",
      " [  8   9]]\n",
      "\n",
      "[0 1]\n",
      "\n",
      "[0 2 4 6 8]\n"
     ]
    }
   ],
   "source": [
    "print(b[0,0]) #b행렬 0행 0열 출력\n",
    "print()\n",
    "\n",
    "b[2,1]=100\n",
    "print(b)\n",
    "print()\n",
    "\n",
    "print(b[0,:]) \n",
    "print()\n",
    "\n",
    "print(b[:,0])"
   ]
  },
  {
   "cell_type": "code",
   "execution_count": 49,
   "metadata": {},
   "outputs": [
    {
     "name": "stdout",
     "output_type": "stream",
     "text": [
      "[[ 0  1  2]\n",
      " [ 3  4  5]\n",
      " [ 6  7  8]\n",
      " [ 9 10 11]]\n",
      "\n",
      "[1 2]\n",
      "\n",
      "[8]\n",
      "\n",
      "[1 4]\n",
      "\n",
      "[[5]\n",
      " [8]]\n",
      "\n",
      "11\n",
      "7\n",
      "4\n",
      "\n",
      "[[4]\n",
      " [7]]\n",
      "[2 5]\n"
     ]
    }
   ],
   "source": [
    "c=np.arange(0,12)\n",
    "c=c.reshape(4,3)\n",
    "print(c)\n",
    "\n",
    "#c[:,:]는 행 전부다, 열 전부다\n",
    "#c[시작지점:끝지점(포함x) , 시작지점:끝지점(포함x)]\n",
    "\n",
    "#:=맨처음부터 맨 끝까지(포함)\n",
    "#(시작지점):(끝지점, 포함x)\n",
    "\n",
    "\n",
    "print()\n",
    "print(c[0,1:])\n",
    "\n",
    "print()\n",
    "print(c[2,2:])\n",
    "\n",
    "print()\n",
    "print(c[:2,1])\n",
    "\n",
    "print()\n",
    "print(c[1:3,2:])\n",
    "\n",
    "print()\n",
    "print(c[-1,-1])\n",
    "print(c[-2,-2])\n",
    "print(c[-3,-2])\n",
    "\n",
    "print()\n",
    "print(c[1:-1,1:-1]) #두번쨰 행, 마지막행까지(포함x) 두번쨰 열부터 마지막열까지(포함x)\n",
    "print(c[0:-2,2])"
   ]
  },
  {
   "cell_type": "code",
   "execution_count": null,
   "metadata": {},
   "outputs": [],
   "source": []
  }
 ],
 "metadata": {
  "kernelspec": {
   "display_name": "Python 3",
   "language": "python",
   "name": "python3"
  },
  "language_info": {
   "codemirror_mode": {
    "name": "ipython",
    "version": 3
   },
   "file_extension": ".py",
   "mimetype": "text/x-python",
   "name": "python",
   "nbconvert_exporter": "python",
   "pygments_lexer": "ipython3",
   "version": "3.8.5"
  }
 },
 "nbformat": 4,
 "nbformat_minor": 4
}
