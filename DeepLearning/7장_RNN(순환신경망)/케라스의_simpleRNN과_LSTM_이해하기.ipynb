{
  "nbformat": 4,
  "nbformat_minor": 0,
  "metadata": {
    "colab": {
      "name": "케라스의 simpleRNN과 LSTM 이해하기.ipynb",
      "provenance": [],
      "collapsed_sections": [],
      "authorship_tag": "ABX9TyOtoC2VayJsgh9V3o4dasWP",
      "include_colab_link": true
    },
    "kernelspec": {
      "name": "python3",
      "display_name": "Python 3"
    },
    "language_info": {
      "name": "python"
    }
  },
  "cells": [
    {
      "cell_type": "markdown",
      "metadata": {
        "id": "view-in-github",
        "colab_type": "text"
      },
      "source": [
        "<a href=\"https://colab.research.google.com/github/JoungMinJu/lab_study/blob/main/%EC%BC%80%EB%9D%BC%EC%8A%A4%EC%9D%98_simpleRNN%EA%B3%BC_LSTM_%EC%9D%B4%ED%95%B4%ED%95%98%EA%B8%B0.ipynb\" target=\"_parent\"><img src=\"https://colab.research.google.com/assets/colab-badge.svg\" alt=\"Open In Colab\"/></a>"
      ]
    },
    {
      "cell_type": "code",
      "metadata": {
        "id": "g5dUihl1KSh4"
      },
      "source": [
        "#임의의 입력 생성\n",
        "import numpy as np\n",
        "import tensorflow as tf\n",
        "from tensorflow.keras.layers import SimpleRNN, LSTM, Bidirectional"
      ],
      "execution_count": 3,
      "outputs": []
    },
    {
      "cell_type": "code",
      "metadata": {
        "colab": {
          "base_uri": "https://localhost:8080/"
        },
        "id": "uJONRDveKnLy",
        "outputId": "59464883-23b7-4db8-a875-156887fff457"
      },
      "source": [
        "train_x=[[0.1,4.2,1.5,1.1,2.8],[1.0,3.1,2.5,0.7,1.1],[0.3,2.1,1.5,2.1,0.1],[2.2,1.4,0.5,0.9,1.1]]\n",
        "print(np.shape(train_x))\n",
        "\n",
        "\n",
        "#단어벡터의 차원은 5, 문장의 길이는 4\n",
        "#=== 4번의 시점(timesteps) 가 존재하고 각 시점마다 5차원의 단어벡터가 입력으로 사용됨\n",
        "\n",
        "#근데 RNN은 3D 텐서를 입력으로 받으니 배치크기 1을 추가해주기로 함."
      ],
      "execution_count": 2,
      "outputs": [
        {
          "output_type": "stream",
          "text": [
            "(4, 5)\n"
          ],
          "name": "stdout"
        }
      ]
    },
    {
      "cell_type": "code",
      "metadata": {
        "colab": {
          "base_uri": "https://localhost:8080/"
        },
        "id": "mWcRRSbFK6tC",
        "outputId": "27bc6d1d-2000-4624-f45a-db5d2b2fc056"
      },
      "source": [
        "train_X = [[[0.1, 4.2, 1.5, 1.1, 2.8], [1.0, 3.1, 2.5, 0.7, 1.1], [0.3, 2.1, 1.5, 2.1, 0.1], [2.2, 1.4, 0.5, 0.9, 1.1]]]\n",
        "train_X = np.array(train_X, dtype=np.float32)\n",
        "print(train_X.shape)"
      ],
      "execution_count": 4,
      "outputs": [
        {
          "output_type": "stream",
          "text": [
            "(1, 4, 5)\n"
          ],
          "name": "stdout"
        }
      ]
    },
    {
      "cell_type": "markdown",
      "metadata": {
        "id": "oxaG_SkwLLDP"
      },
      "source": [
        "simpleRNN 이해하기\n",
        "\n",
        "return _sequences랑 return_state는 둘 다 기본값이 False\n"
      ]
    },
    {
      "cell_type": "code",
      "metadata": {
        "colab": {
          "base_uri": "https://localhost:8080/"
        },
        "id": "eoCsfck0LRQh",
        "outputId": "7c69a06b-7d00-4ef1-e27c-b09716107ac5"
      },
      "source": [
        "rnn = SimpleRNN(3)\n",
        "# rnn = SimpleRNN(3, return_sequences=False, return_state=False)와 동일.\n",
        "hidden_state = rnn(train_X)\n",
        "\n",
        "print('hidden state : {}, shape: {}'.format(hidden_state, hidden_state.shape))\n",
        "\n",
        "#(1,3)크기의 텐서가 출력되는데 이는 마지막 시점의 은닉 상태\n",
        "#return_sequences가 False면 SimpleRNN은 마지막 시점의 은닉상태만 출력한다."
      ],
      "execution_count": 5,
      "outputs": [
        {
          "output_type": "stream",
          "text": [
            "hidden state : [[ 0.57115287  0.1982617  -0.7583325 ]], shape: (1, 3)\n"
          ],
          "name": "stdout"
        }
      ]
    },
    {
      "cell_type": "code",
      "metadata": {
        "colab": {
          "base_uri": "https://localhost:8080/"
        },
        "id": "URBhLbLZLdd8",
        "outputId": "707097c2-1ec0-426b-eaa9-578994895ccb"
      },
      "source": [
        "rnn = SimpleRNN(3, return_sequences=True)\n",
        "hidden_states = rnn(train_X)\n",
        "\n",
        "print('hidden states : {}, shape: {}'.format(hidden_states, hidden_states.shape))\n",
        "\n",
        "#모든 시점의 은닉상태를 출력"
      ],
      "execution_count": 6,
      "outputs": [
        {
          "output_type": "stream",
          "text": [
            "hidden states : [[[-0.9977512  -0.87980455  0.9997654 ]\n",
            "  [-0.9988548  -0.9584737   0.7130008 ]\n",
            "  [-0.9593922  -0.6364547   0.886513  ]\n",
            "  [-0.93032634 -0.89243186 -0.07543024]]], shape: (1, 4, 3)\n"
          ],
          "name": "stdout"
        }
      ]
    },
    {
      "cell_type": "code",
      "metadata": {
        "colab": {
          "base_uri": "https://localhost:8080/"
        },
        "id": "vEXDg3bqLkB8",
        "outputId": "ea13f6c1-54cd-41ea-94e8-80675946288e"
      },
      "source": [
        "#return_state가 True면 마지막 시점의 은닉상태를 출력한다!! return_sequences와는 연관없이\n",
        "\n",
        "rnn = SimpleRNN(3, return_sequences=True, return_state=True)\n",
        "hidden_states, last_state = rnn(train_X)\n",
        "\n",
        "print('hidden states : {}, shape: {}'.format(hidden_states, hidden_states.shape))\n",
        "print('last hidden state : {}, shape: {}'.format(last_state, last_state.shape))"
      ],
      "execution_count": 7,
      "outputs": [
        {
          "output_type": "stream",
          "text": [
            "hidden states : [[[ 0.999984   -0.6691228   0.9729525 ]\n",
            "  [ 0.9999742  -0.9889648   0.5011535 ]\n",
            "  [ 0.988636   -0.8049336   0.7405179 ]\n",
            "  [ 0.99021876 -0.22474496  0.20397964]]], shape: (1, 4, 3)\n",
            "last hidden state : [[ 0.99021876 -0.22474496  0.20397964]], shape: (1, 3)\n"
          ],
          "name": "stdout"
        }
      ]
    },
    {
      "cell_type": "markdown",
      "metadata": {
        "id": "tH6ZAdwhL5TQ"
      },
      "source": [
        "LSTM 이해하기\n",
        "\n"
      ]
    },
    {
      "cell_type": "code",
      "metadata": {
        "colab": {
          "base_uri": "https://localhost:8080/"
        },
        "id": "z1iPjchSL8Xv",
        "outputId": "a3282d50-1732-40b2-a5e1-b828760c54d0"
      },
      "source": [
        "lstm = LSTM(3, return_sequences=False, return_state=True)\n",
        "hidden_state, last_state, last_cell_state = lstm(train_X)\n",
        "\n",
        "#세개의 결과를 반환한다. 첫 번째 결과는 마지막 시점의 은닉상태\n",
        "#return_state=True로 두면 마지막 시점의 은닉상태+++ 셀 상태까지 반환한다.\n",
        "\n",
        "print('hidden state : {}, shape: {}'.format(hidden_state, hidden_state.shape))\n",
        "print('last hidden state : {}, shape: {}'.format(last_state, last_state.shape))\n",
        "print('last cell state : {}, shape: {}'.format(last_cell_state, last_cell_state.shape))\n",
        "\n"
      ],
      "execution_count": 8,
      "outputs": [
        {
          "output_type": "stream",
          "text": [
            "hidden state : [[-0.14705572 -0.62191796  0.20174392]], shape: (1, 3)\n",
            "last hidden state : [[-0.14705572 -0.62191796  0.20174392]], shape: (1, 3)\n",
            "last cell state : [[-0.25057414 -1.2320595   0.30725116]], shape: (1, 3)\n"
          ],
          "name": "stdout"
        }
      ]
    },
    {
      "cell_type": "code",
      "metadata": {
        "colab": {
          "base_uri": "https://localhost:8080/"
        },
        "id": "ZYEa5ploMGdm",
        "outputId": "227d8141-eb94-4d5d-b955-50118e32293f"
      },
      "source": [
        "lstm = LSTM(3, return_sequences=True, return_state=True)\n",
        "hidden_states, last_hidden_state, last_cell_state = lstm(train_X)\n",
        "\n",
        "print('hidden states : {}, shape: {}'.format(hidden_states, hidden_states.shape))\n",
        "print('last hidden state : {}, shape: {}'.format(last_hidden_state, last_hidden_state.shape))\n",
        "print('last cell state : {}, shape: {}'.format(last_cell_state, last_cell_state.shape))\n"
      ],
      "execution_count": 9,
      "outputs": [
        {
          "output_type": "stream",
          "text": [
            "hidden states : [[[ 0.0174267   0.17490199  0.40668735]\n",
            "  [ 0.06974394  0.513146    0.2585876 ]\n",
            "  [ 0.14396068  0.50222975  0.08823335]\n",
            "  [ 0.27955917  0.4176643  -0.24818362]]], shape: (1, 4, 3)\n",
            "last hidden state : [[ 0.27955917  0.4176643  -0.24818362]], shape: (1, 3)\n",
            "last cell state : [[ 1.412346   1.7055229 -0.3999371]], shape: (1, 3)\n"
          ],
          "name": "stdout"
        }
      ]
    },
    {
      "cell_type": "code",
      "metadata": {
        "id": "u-sm30MZMJG3"
      },
      "source": [
        ""
      ],
      "execution_count": null,
      "outputs": []
    },
    {
      "cell_type": "markdown",
      "metadata": {
        "id": "VVfBi5e8MKEV"
      },
      "source": [
        "Bidirectional(LSTM)이해하기\n",
        "=양방향 LSTM"
      ]
    },
    {
      "cell_type": "code",
      "metadata": {
        "id": "4_ttDoQYMNat"
      },
      "source": [
        "k_init = tf.keras.initializers.Constant(value=0.1)\n",
        "b_init = tf.keras.initializers.Constant(value=0)\n",
        "r_init = tf.keras.initializers.Constant(value=0.1)\n",
        "\n",
        "#retrn_sequences가 True인 경우와 False인 경우에 대해 은닉상태의 값이 어떻게 바뀌는지 비교하기 위해\n",
        "#출력되는 은닉상태의 값을 고정시켜줌\n",
        "\n"
      ],
      "execution_count": 10,
      "outputs": []
    },
    {
      "cell_type": "code",
      "metadata": {
        "colab": {
          "base_uri": "https://localhost:8080/"
        },
        "id": "A6WpoM8tMNnW",
        "outputId": "1614ebad-cd63-47df-a604-9e7ecaf1a552"
      },
      "source": [
        "bilstm = Bidirectional(LSTM(3, return_sequences=False, return_state=True, \\\n",
        "                            kernel_initializer=k_init, bias_initializer=b_init, recurrent_initializer=r_init))\n",
        "hidden_states, forward_h, forward_c, backward_h, backward_c = bilstm(train_X)\n",
        "\n",
        "#return_state가 True인 경우에는 정방향 LSTM의 은닉상태와 셀상태, 역방향 LSTM의 은닉상태와 셀상태 4가지를 바환\n",
        "#forward_h와 backward_h는 각각 정방향 LSTM의 마지막 시점의 은닉상태와, 역방향 LSTM의 첫번째 시점의 은닉상태 값이다. \n",
        "#그리고 이 두 값을 연결한 값이 hidden_states에 출력되는 값이다.\n",
        "\n",
        "print('hidden states : {}, shape: {}'.format(hidden_states, hidden_states.shape))\n",
        "#return_sequences가 False인 경우 정방향 LSTM의 마지막 시점의 은닉 상태와 역방향 LSTM의 첫번째 시점의 은닉상태가 연결된 채 반환된다. 그래서(1,6)\n",
        "print('forward state : {}, shape: {}'.format(forward_h, forward_h.shape))\n",
        "print('backward state : {}, shape: {}'.format(backward_h, backward_h.shape))"
      ],
      "execution_count": 11,
      "outputs": [
        {
          "output_type": "stream",
          "text": [
            "hidden states : [[0.63031393 0.63031393 0.63031393 0.7038734  0.7038734  0.7038734 ]], shape: (1, 6)\n",
            "forward state : [[0.63031393 0.63031393 0.63031393]], shape: (1, 3)\n",
            "backward state : [[0.7038734 0.7038734 0.7038734]], shape: (1, 3)\n"
          ],
          "name": "stdout"
        }
      ]
    },
    {
      "cell_type": "code",
      "metadata": {
        "id": "wfnmWcVKNZnW"
      },
      "source": [
        "bilstm = Bidirectional(LSTM(3, return_sequences=True, return_state=True, \\\n",
        "                            kernel_initializer=k_init, bias_initializer=b_init, recurrent_initializer=r_init))\n",
        "hidden_states, forward_h, forward_c, backward_h, backward_c = bilstm(train_X)\n",
        "\n",
        "#hidden_sates에서 모든 시점의 은닉상태가 출력된다. \n",
        "\n",
        "#역방향 LSTM의 첫 번째 시점의 은닉상태는 더이상 정방향 LSTM의 마지막 시점의 은닉상태와 연결되는 것이 아니라\n",
        "#정방향 LSTM의 첫 번째 시점의 은닉상태와 연결된다.\n"
      ],
      "execution_count": 12,
      "outputs": []
    },
    {
      "cell_type": "code",
      "metadata": {
        "colab": {
          "base_uri": "https://localhost:8080/"
        },
        "id": "iQiafR6rNbDh",
        "outputId": "12f40853-9ea9-4ef5-faa8-7b77c5e7aa8e"
      },
      "source": [
        "print('hidden states : {}, shape: {}'.format(hidden_states, hidden_states.shape))\n",
        "print('forward state : {}, shape: {}'.format(forward_h, forward_h.shape))\n",
        "print('backward state : {}, shape: {}'.format(backward_h, backward_h.shape))"
      ],
      "execution_count": 13,
      "outputs": [
        {
          "output_type": "stream",
          "text": [
            "hidden states : [[[0.35906473 0.35906473 0.35906473 0.7038734  0.7038734  0.7038734 ]\n",
            "  [0.5511133  0.5511133  0.5511133  0.58863586 0.58863586 0.58863586]\n",
            "  [0.59115744 0.59115744 0.59115744 0.3951699  0.3951699  0.3951699 ]\n",
            "  [0.63031393 0.63031393 0.63031393 0.21942244 0.21942244 0.21942244]]], shape: (1, 4, 6)\n",
            "forward state : [[0.63031393 0.63031393 0.63031393]], shape: (1, 3)\n",
            "backward state : [[0.7038734 0.7038734 0.7038734]], shape: (1, 3)\n"
          ],
          "name": "stdout"
        }
      ]
    }
  ]
}
