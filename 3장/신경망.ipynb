{
  "nbformat": 4,
  "nbformat_minor": 0,
  "metadata": {
    "colab": {
      "name": "신경망.ipynb",
      "provenance": [],
      "collapsed_sections": [],
      "authorship_tag": "ABX9TyMao3vWgbNwUbcVGbb8OpGz",
      "include_colab_link": true
    },
    "kernelspec": {
      "name": "python3",
      "display_name": "Python 3"
    },
    "language_info": {
      "name": "python"
    }
  },
  "cells": [
    {
      "cell_type": "markdown",
      "metadata": {
        "id": "view-in-github",
        "colab_type": "text"
      },
      "source": [
        "<a href=\"https://colab.research.google.com/github/JoungMinJu/lab_study/blob/main/3%EC%9E%A5/%EC%8B%A0%EA%B2%BD%EB%A7%9D.ipynb\" target=\"_parent\"><img src=\"https://colab.research.google.com/assets/colab-badge.svg\" alt=\"Open In Colab\"/></a>"
      ]
    },
    {
      "cell_type": "code",
      "metadata": {
        "id": "WC6AnaZ7Mvxp"
      },
      "source": [
        ""
      ],
      "execution_count": 1,
      "outputs": []
    },
    {
      "cell_type": "markdown",
      "metadata": {
        "id": "ZDXkT9SYMyD2"
      },
      "source": [
        "퍼셉트론의 어려운 점은 적절한 가중치를 찾는 것.\n",
        "신경망은 가중치 매개변수의 적절한 값을 데이터로부터 자동으로 학습하는 능력을 갖고 있따.\n",
        "\n",
        "\n",
        "입력신호의 총합을 출력신호로 변환하는 함수를 일반적으로 활성화함수라 한다.\n",
        "\n",
        "임계값을 경계로 출력이 바뀌는 함수를 계단함수라한다.\n",
        "\n",
        "그래서 \"퍼셉트론에서는 활성화함수로 계단 함수를 이용한다\" 라고 함."
      ]
    },
    {
      "cell_type": "code",
      "metadata": {
        "id": "_QvSMq8DNmJf"
      },
      "source": [
        "#계단함수 구현하기\n",
        "def step_function(x):\n",
        "  if x>0:\n",
        "    return 1\n",
        "  else:\n",
        "    return 0\n",
        "\n",
        "#x가 실수(부동소수점만 받아들인다. 그래서 넘파이 배열을 니수로 넣을 수 없음"
      ],
      "execution_count": 2,
      "outputs": []
    },
    {
      "cell_type": "code",
      "metadata": {
        "id": "pqNrhHZ9N0wF"
      },
      "source": [
        "#따라서 수정\n",
        "def step_function(x):\n",
        "  y=x>0\n",
        "  return y.astype(np.int)\n",
        "\n",
        "  #y=x>0 하면 y값은 [False, True, True..]이런식의 배열이 저장됨\n",
        "  #이것을 y.astype(np.int)라고하면 y는 [0,1,1...]이런 배열이 된다."
      ],
      "execution_count": 3,
      "outputs": []
    },
    {
      "cell_type": "code",
      "metadata": {
        "colab": {
          "base_uri": "https://localhost:8080/",
          "height": 265
        },
        "id": "iuGGUtuFN_Mc",
        "outputId": "5b1a9ba8-ee16-40f7-aeef-508515d1ba1f"
      },
      "source": [
        "#계단함수의 그래프\n",
        "\n",
        "import numpy as np\n",
        "import matplotlib.pyplot as plt\n",
        "\n",
        "def step_function(x):\n",
        "  return np.array(x>0, dtype=np.int)\n",
        "x=np.arange(-5.0,5.0,0.1)\n",
        "y=step_function(x)\n",
        "plt.plot(x,y)\n",
        "plt.ylim(-0.1,1.1)\n",
        "plt.show()\n"
      ],
      "execution_count": 4,
      "outputs": [
        {
          "output_type": "display_data",
          "data": {
            "image/png": "[encoded data removed]",
            "text/plain": [
              "<Figure size 432x288 with 1 Axes>"
            ]
          },
          "metadata": {
            "tags": [],
            "needs_background": "light"
          }
        }
      ]
    },
    {
      "cell_type": "code",
      "metadata": {
        "id": "gCYXQjeaO2tm"
      },
      "source": [
        "#시그모이드 함수 구현\n",
        "def sigmoid(x):\n",
        "  return 1/(1+np.exp(-x))"
      ],
      "execution_count": 5,
      "outputs": []
    },
    {
      "cell_type": "code",
      "metadata": {
        "colab": {
          "base_uri": "https://localhost:8080/",
          "height": 265
        },
        "id": "ENRReiM4PLKe",
        "outputId": "3ac494d5-580e-42ff-ef98-bbcff92c6848"
      },
      "source": [
        "#얘가 넘파이 배열도 처리할 수 있는 이유는 넘파이 브로드캐스트 때문 \n",
        "#브로드캐스트란 넘파이 배열과 스칼라값의 연산을 넘파이 배열원소 각각과 스칼라 값의 연산으로 바꿔 수행하는 것\n",
        "\n",
        "x=np.arange(-5.0,5.0,0.1)\n",
        "y=sigmoid(x)\n",
        "plt.plot(x,y)\n",
        "plt.ylim(-0.1,1.1)\n",
        "plt.show()"
      ],
      "execution_count": 6,
      "outputs": [
        {
          "output_type": "display_data",
          "data": {
            "image/png": "[encoded data removed]",
            "text/plain": [
              "<Figure size 432x288 with 1 Axes>"
            ]
          },
          "metadata": {
            "tags": [],
            "needs_background": "light"
          }
        }
      ]
    },
    {
      "cell_type": "code",
      "metadata": {
        "id": "hAtmM6xaPbEN"
      },
      "source": [
        "#계단함수와 시그모이드는 모두 비선형\n",
        "#신경망에서는 활성화 함수로 선형함수 사용하면 안된다. 층을 깊게 하는 의미가 없어지기 때문\n",
        "#선형함수는 층을 아무리 깊게 해도 은닉층이 없는 네트워크로도 똑같은 기능을 수행할 수 있다.\n",
        "\n"
      ],
      "execution_count": 7,
      "outputs": []
    },
    {
      "cell_type": "code",
      "metadata": {
        "id": "-UjxwlvvP0ET"
      },
      "source": [
        "#relu함수\n",
        "#입력이 0을 넘으면 그 입력을 그대로 출력하고 0 이하이면 0을 출력하는 함수\n",
        "def relu(x):\n",
        "  return np.maximum(0,x)"
      ],
      "execution_count": 8,
      "outputs": []
    },
    {
      "cell_type": "code",
      "metadata": {
        "id": "xhUFR6W6P7j3"
      },
      "source": [
        ""
      ],
      "execution_count": 8,
      "outputs": []
    },
    {
      "cell_type": "markdown",
      "metadata": {
        "id": "708Ike_7QO7O"
      },
      "source": [
        "신경망에서의 행렬곱\n"
      ]
    },
    {
      "cell_type": "code",
      "metadata": {
        "id": "hjAUmpm5QRbM"
      },
      "source": [
        "#np.dot으로 행렬곱 수행가능\n",
        "#넘파이의 다차원 배열을 사용해서 입력층에서 1층으로 신호전달하는 것 구현\n",
        "X=np.array([1.0,0.5])\n",
        "W1=np.array([[0.1,0.3,0.5],[0.2,0.4,0.6]])\n",
        "B1=np.array([0.1,0.2,0.3])\n",
        "\n",
        "A1=np.dot(X,W1)+B1"
      ],
      "execution_count": 9,
      "outputs": []
    },
    {
      "cell_type": "code",
      "metadata": {
        "colab": {
          "base_uri": "https://localhost:8080/"
        },
        "id": "DS2lQLxzRqmU",
        "outputId": "d881bb37-e848-4586-c21f-4c7bd21e5874"
      },
      "source": [
        "#은닉층에서의 가중치합을 함수로 처리하는 과정\n",
        "Z1=sigmoid(A1)\n",
        "print(A1)\n",
        "print(Z1)"
      ],
      "execution_count": 10,
      "outputs": [
        {
          "output_type": "stream",
          "text": [
            "[0.3 0.7 1.1]\n",
            "[0.57444252 0.66818777 0.75026011]\n"
          ],
          "name": "stdout"
        }
      ]
    },
    {
      "cell_type": "code",
      "metadata": {
        "id": "5zKy4s4aRU1d",
        "colab": {
          "base_uri": "https://localhost:8080/"
        },
        "outputId": "a7d2c172-446b-4960-8b67-783755770615"
      },
      "source": [
        "#1층에서 2층으로 가는 과정\n",
        "W2=np.array([[0.1,0.4],[0.2,0.5],[0.3,0.6]])\n",
        "B2=np.array([0.1,0.2])\n",
        "\n",
        "print(Z1.shape)\n",
        "print(W2.shape)\n",
        "print(B2.shape)\n",
        "\n",
        "A2=np.dot(Z1,W2)+B2\n",
        "Z2=sigmoid(A2)"
      ],
      "execution_count": 11,
      "outputs": [
        {
          "output_type": "stream",
          "text": [
            "(3,)\n",
            "(3, 2)\n",
            "(2,)\n"
          ],
          "name": "stdout"
        }
      ]
    },
    {
      "cell_type": "code",
      "metadata": {
        "id": "_Y0sWDWiNqYu"
      },
      "source": [
        "#2층에서 출력층으로 신호 전달\n",
        "\n",
        "#항등함수 정의. 굳이 정의할 필요없지만 흐름과 통일하기 위해\n",
        "#출력층의 활성화 함수는 문제의 성질에 맞게정한다\n",
        "#회귀에는 항등함수, 이진분류에는 시그모이드 함수, 다중클래스분류는 소프트맥스 함수를 사용\n",
        "def identify_function(x):\n",
        "  return x\n",
        "\n",
        "W3=np.array([[0.1,0.3],[0.2,0.4]])\n",
        "B3=np.array([0.1,0.2])\n",
        "\n",
        "A3=np.dot(Z2, W3)+B3\n",
        "Y=identify_function(A3)\n",
        "\n"
      ],
      "execution_count": 12,
      "outputs": []
    },
    {
      "cell_type": "code",
      "metadata": {
        "colab": {
          "base_uri": "https://localhost:8080/"
        },
        "id": "sP_45yMSOMop",
        "outputId": "2f1d0031-5cab-4fee-e728-a69b9e09fa5a"
      },
      "source": [
        "#3층 신경망에 대한 구현을 정리. 가중치만 대문자로 쓰고 편향과 중간결과등은 소문자\n",
        "\n",
        "def init_network():\n",
        "  network={}\n",
        "  network['W1']=np.array([[0.1,0.3,0.5],[0.2,0.4,0.6]])\n",
        "  network['b1']=np.array([0.1,0.2,0.3])\n",
        "  network['W2']=np.array([[0.1,0.4],[0.2,0.5],[0.3,0.6]])\n",
        "  network['b2']=np.array([0.1,0.2])\n",
        "  network['W3']=np.array([[0.1,0.3],[0.2,0.4]])\n",
        "  network['b3']=np.array([0.1,0.2])\n",
        "  return network\n",
        "\n",
        "def forward(network, x):\n",
        "  W1,W2,W3=network['W1'], network['W2'], network['W3']\n",
        "  b1,b2,b3=network['b1'], network['b2'], network['b3']\n",
        "  a1=np.dot(x, W1)+b1\n",
        "  z1=sigmoid(a1)\n",
        "  a2=np.dot(z1,W2)+b2\n",
        "  z2=sigmoid(a2)\n",
        "  a3=np.dot(z2, W3)+b3\n",
        "  y=identify_function(a3)\n",
        "  return y\n",
        "#입력신호를 출력으로 변환하는 처리 과정을 모두 구현한 함수\n",
        "#순방향 전달이라 forward를 함수명으로 썼다.\n",
        "\n",
        "\n",
        "network=init_network()\n",
        "x=np.array([1.0,0.5])\n",
        "y=forward(network, x)\n",
        "print(y)"
      ],
      "execution_count": 13,
      "outputs": [
        {
          "output_type": "stream",
          "text": [
            "[0.31682708 0.69627909]\n"
          ],
          "name": "stdout"
        }
      ]
    },
    {
      "cell_type": "code",
      "metadata": {
        "id": "cbfSrpLWOdOw"
      },
      "source": [
        "#출력층 설계하기\n",
        "\n",
        "#일반적으로 회귀에는 항등함수, 분류에는 소프트맥스!"
      ],
      "execution_count": 14,
      "outputs": []
    },
    {
      "cell_type": "code",
      "metadata": {
        "colab": {
          "base_uri": "https://localhost:8080/"
        },
        "id": "jMbI6-ARQOGI",
        "outputId": "375f6cb9-9a76-42ca-f69e-69184853726a"
      },
      "source": [
        "#소프트맥스 함수 구현\n",
        "\n",
        "a=np.array([0.3,2.9,4.0])\n",
        "exp_a=np.exp(a)\n",
        "print(exp_a)\n",
        "\n",
        "sum_exp_a=np.sum(exp_a)\n",
        "print(sum_exp_a)\n",
        "\n",
        "y=exp_a/sum_exp_a\n",
        "print(y)"
      ],
      "execution_count": 15,
      "outputs": [
        {
          "output_type": "stream",
          "text": [
            "[ 1.34985881 18.17414537 54.59815003]\n",
            "74.1221542101633\n",
            "[0.01821127 0.24519181 0.73659691]\n"
          ],
          "name": "stdout"
        }
      ]
    },
    {
      "cell_type": "code",
      "metadata": {
        "id": "TqI0SENkQcfi"
      },
      "source": [
        "def sofmax(a):\n",
        "  exp_a=np.exp(a)\n",
        "  sum_exp_a=np.sum(exp_a)\n",
        "  y=exp_a/sum_exp_a\n",
        "  return y"
      ],
      "execution_count": 16,
      "outputs": []
    },
    {
      "cell_type": "markdown",
      "metadata": {
        "id": "REZ4_kW8QomR"
      },
      "source": [
        "소프트맥스 함수 구현의 주의점은 바로 오버플로우의 문제. 소프트맥스 함수는 지수 함수를 사용하는데 지수함수란 것이 쉽게 아주 큰 값을 내뱉는다. e^1000은 무한대를 뜻하는 inf값이 된다. 이렇게 큰 값 끼리 나눗셈을 하면 결과 수치가 불안정해진다.\n",
        "\n",
        "그래서 소프트맥스 함수를 개선했음.\n",
        "즉, 소프트맥수의 지수함수를 게산할 때 어떤 정수를 더하거나 빼도 결과는 바뀌지 않는 다는 것을 이용한다. 어떤 값을 대입해도 좋지만 오버플로를 막을 목적으로는 입력신호 중 최댓값을 이용한다.\n"
      ]
    },
    {
      "cell_type": "code",
      "metadata": {
        "id": "-igkdyB4RS7t"
      },
      "source": [
        "def softmax(a):\n",
        "  c=np.max(a) #입력신호 중 최댓값\n",
        "  exp_a=np.exp(a-c)\n",
        "  sum_exp_a=np.sum(exp_a)\n",
        "  y=exp_a/sum_exp_a\n",
        "  return y"
      ],
      "execution_count": 17,
      "outputs": []
    },
    {
      "cell_type": "code",
      "metadata": {
        "id": "MSP4B-h7Ql4b"
      },
      "source": [
        "#소프트맥스 함수의 출력은 0에서 1사이의 실수이고. 소프트맥스 함수 출력의 총합은 1이다.\n",
        "#이 성질 덕분에 소프트맥스 함수의 출력을 확률로 해석할 수 있따.\n",
        "\n",
        "#소프트맥스 함수를 적용해도 각 원소의 대소 관계는 변하지 않는다. 지수함수 y=exp(x)가 단조 증가함수이기 때문에!\n",
        "#신경망을 ㅣ용한 분류에서는 일반적으로 가장 큰 출력을 내는 뉴런에 해당하는 클래스로만 인식한다. 그리고 소프트맥스 함수를 적용해도 출력이 가장 큰 뉴런의 위치는 달라지지 않는다.\n",
        "#결과적으로 신경망으로 분류할때는 출력층의 소프트맥스 함수를 생략해도 된다. \n"
      ],
      "execution_count": 18,
      "outputs": []
    },
    {
      "cell_type": "markdown",
      "metadata": {
        "id": "ORxCQsuVSYkX"
      },
      "source": [
        "출력층의 뉴런 수는 ㄴ문제에 맞게 적절히 정해야함. 보통 분류하고 싶은 클래스의 수로 정한다.\n"
      ]
    },
    {
      "cell_type": "code",
      "metadata": {
        "id": "OYQNabCVQVNU"
      },
      "source": [
        "#손글씨 숫자 분류 예시\n",
        "#이미 학습된 매개변수를 사용하여 학습과정은 생략하고(머신러닝은 학습과 추론으로 나뉜다. 학습은 모델을 학습하고 추론은 학습한 모델로 미지의 데이터에서 추론을 수행하는 것)\n",
        "#추론 과정만 구현할 것 ! 이 추론 과정을 신경망의 순전파라고도 한다.\n",
        "\n"
      ],
      "execution_count": 19,
      "outputs": []
    },
    {
      "cell_type": "code",
      "metadata": {
        "id": "ayKDaWKUSzNo"
      },
      "source": [
        "#MNIST는 28*28 크기의 회색조 이미지(1채널)이며 각 픽셀은 0~255까지의 값을 취한다. 각 이미지에는 그 이미지가 실제 의미하는 숫자가 레이블로 붙어있따.\n"
      ],
      "execution_count": 20,
      "outputs": []
    },
    {
      "cell_type": "code",
      "metadata": {
        "colab": {
          "base_uri": "https://localhost:8080/"
        },
        "id": "TCmtasemVIJk",
        "outputId": "f88bb3ed-4d73-465a-ad11-a8d7466d6326"
      },
      "source": [
        "! ls"
      ],
      "execution_count": 21,
      "outputs": [
        {
          "output_type": "stream",
          "text": [
            "sample_data\n"
          ],
          "name": "stdout"
        }
      ]
    },
    {
      "cell_type": "code",
      "metadata": {
        "id": "lOLFCGn3VOwA"
      },
      "source": [
        "! cd ..\n"
      ],
      "execution_count": 22,
      "outputs": []
    },
    {
      "cell_type": "code",
      "metadata": {
        "colab": {
          "base_uri": "https://localhost:8080/"
        },
        "id": "Xo39axUWS-rK",
        "outputId": "8902c502-92b2-49c6-9cd5-6f5800f25c12"
      },
      "source": [
        "from tensorflow.keras.datasets import mnist  \n",
        "(x_train, t_train),(x_test, t_test)=mnist.load_data()\n",
        "print(x_train.shape)\n",
        "x_train=x_train.reshape(-1,28*28)\n",
        "print(x_train.shape)\n",
        "\n",
        "print(t_train.shape)\n",
        "print(x_test.shape)\n",
        "x_test=x_test.reshape(-1,28*28)\n",
        "print(x_test.shape)\n",
        "\n",
        "print(t_test.shape)\n",
        "\n",
        "#입력 이미지를 1차원 배열로 만들었다.\n"
      ],
      "execution_count": 23,
      "outputs": [
        {
          "output_type": "stream",
          "text": [
            "Downloading data from https://storage.googleapis.com/tensorflow/tf-keras-datasets/mnist.npz\n",
            "11493376/11490434 [==============================] - 0s 0us/step\n",
            "(60000, 28, 28)\n",
            "(60000, 784)\n",
            "(60000,)\n",
            "(10000, 28, 28)\n",
            "(10000, 784)\n",
            "(10000,)\n"
          ],
          "name": "stdout"
        }
      ]
    },
    {
      "cell_type": "code",
      "metadata": {
        "id": "ifSKXFZlTak3",
        "colab": {
          "base_uri": "https://localhost:8080/"
        },
        "outputId": "e7464a42-4574-4f30-bfe3-2112a3b53b14"
      },
      "source": [
        "from PIL import Image\n",
        "\n",
        "def img_show(img):\n",
        "  pil_img=Image.fromarray(np.uint8(img))\n",
        "  pil_img.show()\n",
        "  #넘파이로 저장된 이미지를 PIL용 데이터 객체로 변환해야하는데 이를 .fromarray()가 수행한다.\n",
        "\n",
        "img=x_train[0]\n",
        "label=t_train[0]\n",
        "print(label)\n",
        "\n",
        "print(img.shape)\n",
        "img=img.reshape(28,28) #원래의 모양으로 변형\n",
        "print(img.shape)\n",
        "\n",
        "img_show(img)\n"
      ],
      "execution_count": 25,
      "outputs": [
        {
          "output_type": "stream",
          "text": [
            "5\n",
            "(784,)\n",
            "(28, 28)\n"
          ],
          "name": "stdout"
        }
      ]
    },
    {
      "cell_type": "markdown",
      "metadata": {
        "id": "Ca5MaUwHveI_"
      },
      "source": [
        "신경망의 추론 처리"
      ]
    },
    {
      "cell_type": "code",
      "metadata": {
        "id": "s20bqCIavfnU"
      },
      "source": [
        "#해당 신경망은 입력층을 784개, 출력층을 10개로구성한다. 입력층 뉴런이 784개인 이유는 이미지 크기가 28*28-784개이기 때문이고 출력층 뉴런이 10개인건 문제가 0에서 9까지를 구분하는 문제이기 떄문이다.\n",
        "#은닉층은 총 두 개\n",
        "#첫 번쨰 은닉층에서는 50개의 뉴런을, 두 번쨰 은닉층에서는 100개의 뉴런을 배치할 것\n",
        "#50과 100은 임의로 정한 값\n",
        "def get_data():\n",
        "  (x_train, t_train),(x_test, t_test)=load_mnist(normalize=True, flatten=True, one_hot_label=Flase)\n",
        "  #normailize=True는 정규화했다는 뜻임. (전처리)\n",
        "  return x_test, t_test\n",
        "\n",
        "def init_network():\n",
        "  with open('sample_weight.pkl','rb') as f:\n",
        "    network=pickle.load(f)\n",
        "  return network\n",
        "\n",
        "def predict(network, x):\n",
        "  W1,W2,W3=network['W1'], network['W2'], network['W3']\n",
        "  b1,b2,b3=network['b1'], network['b2'], network['b3']\n",
        "\n",
        "  a1=np.dot(x,W1)+b1\n",
        "  z1=sigmoid(a1)\n",
        "  a2=np.dot(z1,W2)+b2\n",
        "  z2=sigmoid(a2)\n",
        "  a3=np.dot(z2,W3)+b3\n",
        "  y=softmax(a3)\n",
        "\n",
        "  return y\n",
        "\n",
        "#init_networ()에서는 pickle파일인sample_weight에 저장된 학습된 가중치 매개변수를 읽는다.\n",
        "#이 파일에는 가중치와 편향 매개변수가 딕셔너리 변수로 저장되어있따.\n",
        "\n"
      ],
      "execution_count": 28,
      "outputs": []
    },
    {
      "cell_type": "code",
      "metadata": {
        "id": "Fras65Z-wZtP"
      },
      "source": [
        "x,t=get_data()\n",
        "network=init_network()\n",
        "\n",
        "accuracy_cnt=0\n",
        "#정확도로 평가\n",
        "\n",
        "for i in range(len(x)):\n",
        "  y=predict(network, x[i])\n",
        "  p=np.argmax(y) #확률이 가장 높은 원소의 인덱스를 얻는다\n",
        "  if p==t[i]:\n",
        "    accuracy_cnt+=1\n",
        "print(\"Accuracy:\"+ str(float(accuracy_cnt)/len(x)))\n",
        "\n",
        "#for문을 이용해 이미지 데이터를 한장씩 꺼내 분류한다.\n",
        "#predict()함수는 각 레이블의 확률을 넘파이배열로 반환한다. 그것을 np.argmax()로 배열에서 값이 가장 큰 원소의 인덱스를 구하는 것(예측 결과)\n",
        "#마지막으로 정답레이블을 비교하여 맞힌 숫자를 구하고 이를 전체 이미지 숫자로 나눠서 정확도를 구한다."
      ],
      "execution_count": null,
      "outputs": []
    },
    {
      "cell_type": "code",
      "metadata": {
        "id": "WLRK4c_FvQg3"
      },
      "source": [
        "#하나로 묶은 입력 데이터 = 배치\n",
        "\n",
        "#배치 처리를 구현\n",
        "x,t=get_data()\n",
        "network=init_network()\n",
        "\n",
        "batch_size=100\n",
        "accuracy_cnt=0\n",
        "\n",
        "for i in range(0, len(x), batch_size):\n",
        "  x_batch=x[i:i+batch_size]\n",
        "  y_batch=predict(network, x_batch)\n",
        "  p=np.argmax(y_batch, axis=1)\n",
        "  accuracy_cnt+=np.sum(p==t[i:i+batch_size])\n",
        "print(\"Accuracy:\", str(float(accuracy_ctn)/len(x)))\n",
        "\n",
        "\n",
        "#입력데이터를 batch_size만큼 묶어서 배치를 만드는 것.\n",
        "#axis=1은 첫번쨰 차원을 축으로 최댓값으 ㅣ인덱스를 찾도록 한 것입니도( 0번쨰가 첫번쨰 차원임)"
      ],
      "execution_count": null,
      "outputs": []
    },
    {
      "cell_type": "code",
      "metadata": {
        "colab": {
          "base_uri": "https://localhost:8080/"
        },
        "id": "IPeufoAqzFGl",
        "outputId": "61b78f60-dc23-4c1c-adcd-f1506071ca38"
      },
      "source": [
        "#axis=1을 위한 예시\n",
        "x=np.array([[0.1,0.8,0.1],[0.3,0.1,0.6],[0.2,0.5,0.3],[0.8,0.1,0.1]])\n",
        "y=np.argmax(x, axis=1)\n",
        "print(y)\n",
        "\n",
        "#긍까 각 행에서 최댓값을 추출했는데 이 뜻이 두 번쨰 차원인 열을 축으로 구했다는 것"
      ],
      "execution_count": 32,
      "outputs": [
        {
          "output_type": "stream",
          "text": [
            "[1 2 1 0]\n"
          ],
          "name": "stdout"
        }
      ]
    },
    {
      "cell_type": "code",
      "metadata": {
        "id": "-7XP2kPUzhbt"
      },
      "source": [
        ""
      ],
      "execution_count": null,
      "outputs": []
    }
  ]
}