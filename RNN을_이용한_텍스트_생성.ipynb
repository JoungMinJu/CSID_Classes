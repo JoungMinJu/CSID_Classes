{
  "nbformat": 4,
  "nbformat_minor": 0,
  "metadata": {
    "colab": {
      "name": "RNN을 이용한 텍스트 생성.ipynb",
      "provenance": [],
      "collapsed_sections": [],
      "authorship_tag": "ABX9TyOhdI+j4X6PV90iMzYxS9w1",
      "include_colab_link": true
    },
    "kernelspec": {
      "name": "python3",
      "display_name": "Python 3"
    },
    "language_info": {
      "name": "python"
    }
  },
  "cells": [
    {
      "cell_type": "markdown",
      "metadata": {
        "id": "view-in-github",
        "colab_type": "text"
      },
      "source": [
        "<a href=\"https://colab.research.google.com/github/JoungMinJu/lab_study/blob/main/RNN%EC%9D%84_%EC%9D%B4%EC%9A%A9%ED%95%9C_%ED%85%8D%EC%8A%A4%ED%8A%B8_%EC%83%9D%EC%84%B1.ipynb\" target=\"_parent\"><img src=\"https://colab.research.google.com/assets/colab-badge.svg\" alt=\"Open In Colab\"/></a>"
      ]
    },
    {
      "cell_type": "code",
      "metadata": {
        "id": "jkt4YL7cPYO9"
      },
      "source": [
        ""
      ],
      "execution_count": null,
      "outputs": []
    },
    {
      "cell_type": "markdown",
      "metadata": {
        "id": "WR8vs6qqPZUP"
      },
      "source": [
        "다대일 구조의 RNN을 사용해 문맥 반영해서 텍스트 생성하는 모델을 만들기\n"
      ]
    },
    {
      "cell_type": "code",
      "metadata": {
        "id": "B8VJk9ytPdCy"
      },
      "source": [
        "#데이터에 대한 이해와 전처리\n",
        "from tensorflow.keras.preprocessing.text import Tokenizer\n",
        "from tensorflow.keras.preprocessing.sequence import pad_sequences\n",
        "import numpy as np\n",
        "from tensorflow.keras.utils import to_categorical"
      ],
      "execution_count": 1,
      "outputs": []
    },
    {
      "cell_type": "code",
      "metadata": {
        "id": "3QGR8USbPq3n"
      },
      "source": [
        "text=\"\"\"경마장에 있는 말이 뛰고 있다\\n\n",
        "그의 말이 법이다\\n\n",
        "가는 말이 고와야 오는 말이 곱다\\n\"\"\"\n",
        "#3개의 한국어 문장 저장\n"
      ],
      "execution_count": 2,
      "outputs": []
    },
    {
      "cell_type": "code",
      "metadata": {
        "colab": {
          "base_uri": "https://localhost:8080/"
        },
        "id": "5UOYFIzoPtjy",
        "outputId": "2c75ef0c-1c1f-43ac-8449-6db025713b53"
      },
      "source": [
        "#단어 집합을 생성하고 크기를 확인해보겠습니다.\n",
        "\n",
        "t = Tokenizer()\n",
        "t.fit_on_texts([text])\n",
        "vocab_size = len(t.word_index) + 1\n",
        "\n",
        "# 케라스 토크나이저의 정수 인코딩은 인덱스가 1부터 시작하지만,\n",
        "# 케라스 원-핫 인코딩에서 배열의 인덱스가 0부터 시작하기 때문에\n",
        "# 배열의 크기를 실제 단어 집합의 크기보다 +1로 생성해야하므로 미리 +1 선언 \n",
        "print('단어 집합의 크기 : %d' % vocab_size)"
      ],
      "execution_count": 3,
      "outputs": [
        {
          "output_type": "stream",
          "text": [
            "단어 집합의 크기 : 12\n"
          ],
          "name": "stdout"
        }
      ]
    },
    {
      "cell_type": "code",
      "metadata": {
        "colab": {
          "base_uri": "https://localhost:8080/"
        },
        "id": "AYHX03qLP3mi",
        "outputId": "c1c7e87b-b17c-467d-89e7-e7bf90c5da53"
      },
      "source": [
        "#각 단어와 단어에 부여된 정수 인덱스 출력\n",
        "print(t.word_index)"
      ],
      "execution_count": 4,
      "outputs": [
        {
          "output_type": "stream",
          "text": [
            "{'말이': 1, '경마장에': 2, '있는': 3, '뛰고': 4, '있다': 5, '그의': 6, '법이다': 7, '가는': 8, '고와야': 9, '오는': 10, '곱다': 11}\n"
          ],
          "name": "stdout"
        }
      ]
    },
    {
      "cell_type": "code",
      "metadata": {
        "colab": {
          "base_uri": "https://localhost:8080/"
        },
        "id": "z2754v4SP7JB",
        "outputId": "34ca0344-b1cc-4e4f-f340-f449987f7b77"
      },
      "source": [
        "#훈련 데이터 만들기\n",
        "sequences = list()\n",
        "for line in text.split('\\n'): # Wn을 기준으로 문장 토큰화\n",
        "    #내가 궁금해서\n",
        "    print(\"line:\",line)\n",
        "    encoded = t.texts_to_sequences([line])[0]\n",
        "    #내가 궁금해서\n",
        "    print(\"encoded:\",encoded)\n",
        "    for i in range(1, len(encoded)):\n",
        "        sequence = encoded[:i+1]\n",
        "        #내가 궁금해서\n",
        "        print(\"sequences:\",sequence)\n",
        "        sequences.append(sequence)\n",
        "\n",
        "print('학습에 사용할 샘플의 개수: %d' % len(sequences))"
      ],
      "execution_count": 8,
      "outputs": [
        {
          "output_type": "stream",
          "text": [
            "line: 경마장에 있는 말이 뛰고 있다\n",
            "encoded: [2, 3, 1, 4, 5]\n",
            "sequences: [2, 3]\n",
            "sequences: [2, 3, 1]\n",
            "sequences: [2, 3, 1, 4]\n",
            "sequences: [2, 3, 1, 4, 5]\n",
            "line: \n",
            "encoded: []\n",
            "line: 그의 말이 법이다\n",
            "encoded: [6, 1, 7]\n",
            "sequences: [6, 1]\n",
            "sequences: [6, 1, 7]\n",
            "line: \n",
            "encoded: []\n",
            "line: 가는 말이 고와야 오는 말이 곱다\n",
            "encoded: [8, 1, 9, 10, 1, 11]\n",
            "sequences: [8, 1]\n",
            "sequences: [8, 1, 9]\n",
            "sequences: [8, 1, 9, 10]\n",
            "sequences: [8, 1, 9, 10, 1]\n",
            "sequences: [8, 1, 9, 10, 1, 11]\n",
            "line: \n",
            "encoded: []\n",
            "학습에 사용할 샘플의 개수: 11\n"
          ],
          "name": "stdout"
        }
      ]
    },
    {
      "cell_type": "code",
      "metadata": {
        "colab": {
          "base_uri": "https://localhost:8080/"
        },
        "id": "cWhyGleQQEWi",
        "outputId": "05b1804c-d779-4447-d0db-5da25466727e"
      },
      "source": [
        "print(sequences)\n",
        "\n",
        "#아직 레이블로 사용될 단어를 분리하지 않은 훈련 데이터\n",
        "#[2,3]=[경마장에, 있는]\n",
        "#[2,3,1]=[경마장에, 있는,말이]\n",
        "\n",
        "#전체 훈련 데이터에 대해서 맨 우측에 있는 단어에 대해서만 레이블로 분리해야한다.\n",
        "\n"
      ],
      "execution_count": 6,
      "outputs": [
        {
          "output_type": "stream",
          "text": [
            "[[2, 3], [2, 3, 1], [2, 3, 1, 4], [2, 3, 1, 4, 5], [6, 1], [6, 1, 7], [8, 1], [8, 1, 9], [8, 1, 9, 10], [8, 1, 9, 10, 1], [8, 1, 9, 10, 1, 11]]\n"
          ],
          "name": "stdout"
        }
      ]
    },
    {
      "cell_type": "code",
      "metadata": {
        "colab": {
          "base_uri": "https://localhost:8080/"
        },
        "id": "3aIT_APBQrCf",
        "outputId": "9160a8df-d974-473d-a5fb-82416bcc4444"
      },
      "source": [
        "#전체 샘플에 대해서 길이를 일치시켜준다. 가장 긴 샘플의 길이 기준\n",
        "max_len=max(len(l) for l in sequences) # 모든 샘플에서 길이가 가장 긴 샘플의 길이 출력\n",
        "print('샘플의 최대 길이 : {}'.format(max_len))\n",
        "\n",
        "sequences = pad_sequences(sequences, maxlen=max_len, padding='pre')\n",
        "print(sequences)"
      ],
      "execution_count": 9,
      "outputs": [
        {
          "output_type": "stream",
          "text": [
            "샘플의 최대 길이 : 6\n",
            "[[ 0  0  0  0  2  3]\n",
            " [ 0  0  0  2  3  1]\n",
            " [ 0  0  2  3  1  4]\n",
            " [ 0  2  3  1  4  5]\n",
            " [ 0  0  0  0  6  1]\n",
            " [ 0  0  0  6  1  7]\n",
            " [ 0  0  0  0  8  1]\n",
            " [ 0  0  0  8  1  9]\n",
            " [ 0  0  8  1  9 10]\n",
            " [ 0  8  1  9 10  1]\n",
            " [ 8  1  9 10  1 11]]\n"
          ],
          "name": "stdout"
        }
      ]
    },
    {
      "cell_type": "code",
      "metadata": {
        "id": "1DqHmb7JQz-S"
      },
      "source": [
        "sequences = np.array(sequences)\n",
        "X = sequences[:,:-1]\n",
        "y = sequences[:,-1]\n",
        "# 리스트의 마지막 값을 제외하고 저장한 것은 X\n",
        "# 리스트의 마지막 값만 저장한 것은 y. 이는 레이블에 해당됨."
      ],
      "execution_count": 10,
      "outputs": []
    },
    {
      "cell_type": "code",
      "metadata": {
        "colab": {
          "base_uri": "https://localhost:8080/"
        },
        "id": "ie16IiBQQ30y",
        "outputId": "9d916554-46b8-4e99-cd91-a500142e76a5"
      },
      "source": [
        "print(X)\n",
        "print(y)"
      ],
      "execution_count": 11,
      "outputs": [
        {
          "output_type": "stream",
          "text": [
            "[[ 0  0  0  0  2]\n",
            " [ 0  0  0  2  3]\n",
            " [ 0  0  2  3  1]\n",
            " [ 0  2  3  1  4]\n",
            " [ 0  0  0  0  6]\n",
            " [ 0  0  0  6  1]\n",
            " [ 0  0  0  0  8]\n",
            " [ 0  0  0  8  1]\n",
            " [ 0  0  8  1  9]\n",
            " [ 0  8  1  9 10]\n",
            " [ 8  1  9 10  1]]\n",
            "[ 3  1  4  5  1  7  1  9 10  1 11]\n"
          ],
          "name": "stdout"
        }
      ]
    },
    {
      "cell_type": "code",
      "metadata": {
        "colab": {
          "base_uri": "https://localhost:8080/"
        },
        "id": "G1aiCgQNQ6Sy",
        "outputId": "2dbb8840-f65a-4f89-e28e-48143e138b3f"
      },
      "source": [
        "#데이터 훈련시키기 전에 레이블에 대해서 원-핫 인코딩을 수행\n",
        "y = to_categorical(y, num_classes=vocab_size)\n",
        "print(y)"
      ],
      "execution_count": 12,
      "outputs": [
        {
          "output_type": "stream",
          "text": [
            "[[0. 0. 0. 1. 0. 0. 0. 0. 0. 0. 0. 0.]\n",
            " [0. 1. 0. 0. 0. 0. 0. 0. 0. 0. 0. 0.]\n",
            " [0. 0. 0. 0. 1. 0. 0. 0. 0. 0. 0. 0.]\n",
            " [0. 0. 0. 0. 0. 1. 0. 0. 0. 0. 0. 0.]\n",
            " [0. 1. 0. 0. 0. 0. 0. 0. 0. 0. 0. 0.]\n",
            " [0. 0. 0. 0. 0. 0. 0. 1. 0. 0. 0. 0.]\n",
            " [0. 1. 0. 0. 0. 0. 0. 0. 0. 0. 0. 0.]\n",
            " [0. 0. 0. 0. 0. 0. 0. 0. 0. 1. 0. 0.]\n",
            " [0. 0. 0. 0. 0. 0. 0. 0. 0. 0. 1. 0.]\n",
            " [0. 1. 0. 0. 0. 0. 0. 0. 0. 0. 0. 0.]\n",
            " [0. 0. 0. 0. 0. 0. 0. 0. 0. 0. 0. 1.]]\n"
          ],
          "name": "stdout"
        }
      ]
    },
    {
      "cell_type": "code",
      "metadata": {
        "id": "vMZC5BNbRGIA"
      },
      "source": [
        "#모델 설계하기\n",
        "\n",
        "from tensorflow.keras.models import Sequential\n",
        "from tensorflow.keras.layers import Embedding, Dense, SimpleRNN"
      ],
      "execution_count": 14,
      "outputs": []
    },
    {
      "cell_type": "code",
      "metadata": {
        "id": "F9kUJ0kFRPNx"
      },
      "source": [
        "model=Sequential()"
      ],
      "execution_count": 15,
      "outputs": []
    },
    {
      "cell_type": "code",
      "metadata": {
        "colab": {
          "base_uri": "https://localhost:8080/"
        },
        "id": "x36sT55RRUhS",
        "outputId": "7699cf7d-1e6d-47db-c81a-74cf34430755"
      },
      "source": [
        "model.add(Embedding(vocab_size, 10, input_length=max_len-1))#레이블을 분리하였으므로1 빼준다.\n",
        "model.add(SimpleRNN(32))\n",
        "model.add(Dense(vocab_size, activation='softmax'))\n",
        "model.compile(loss='categorical_crossentropy', optimizer='adam', metrics=['accuracy'])\n",
        "model.fit(X, y, epochs=200, verbose=2)\n",
        "\n",
        "\n",
        "#각 단어의 임베딩 벡터는 10차원을 가지고, 32의 은닉상태크기를 가지는  바닐라 RNN을 사용"
      ],
      "execution_count": 16,
      "outputs": [
        {
          "output_type": "stream",
          "text": [
            "Epoch 1/200\n",
            "1/1 - 1s - loss: 2.5036 - accuracy: 0.0909\n",
            "Epoch 2/200\n",
            "1/1 - 0s - loss: 2.4885 - accuracy: 0.0909\n",
            "Epoch 3/200\n",
            "1/1 - 0s - loss: 2.4739 - accuracy: 0.0909\n",
            "Epoch 4/200\n",
            "1/1 - 0s - loss: 2.4597 - accuracy: 0.0909\n",
            "Epoch 5/200\n",
            "1/1 - 0s - loss: 2.4457 - accuracy: 0.0909\n",
            "Epoch 6/200\n",
            "1/1 - 0s - loss: 2.4317 - accuracy: 0.1818\n",
            "Epoch 7/200\n",
            "1/1 - 0s - loss: 2.4176 - accuracy: 0.1818\n",
            "Epoch 8/200\n",
            "1/1 - 0s - loss: 2.4034 - accuracy: 0.3636\n",
            "Epoch 9/200\n",
            "1/1 - 0s - loss: 2.3888 - accuracy: 0.3636\n",
            "Epoch 10/200\n",
            "1/1 - 0s - loss: 2.3738 - accuracy: 0.4545\n",
            "Epoch 11/200\n",
            "1/1 - 0s - loss: 2.3583 - accuracy: 0.5455\n",
            "Epoch 12/200\n",
            "1/1 - 0s - loss: 2.3422 - accuracy: 0.3636\n",
            "Epoch 13/200\n",
            "1/1 - 0s - loss: 2.3254 - accuracy: 0.3636\n",
            "Epoch 14/200\n",
            "1/1 - 0s - loss: 2.3078 - accuracy: 0.3636\n",
            "Epoch 15/200\n",
            "1/1 - 0s - loss: 2.2894 - accuracy: 0.3636\n",
            "Epoch 16/200\n",
            "1/1 - 0s - loss: 2.2700 - accuracy: 0.3636\n",
            "Epoch 17/200\n",
            "1/1 - 0s - loss: 2.2497 - accuracy: 0.3636\n",
            "Epoch 18/200\n",
            "1/1 - 0s - loss: 2.2284 - accuracy: 0.3636\n",
            "Epoch 19/200\n",
            "1/1 - 0s - loss: 2.2062 - accuracy: 0.3636\n",
            "Epoch 20/200\n",
            "1/1 - 0s - loss: 2.1830 - accuracy: 0.3636\n",
            "Epoch 21/200\n",
            "1/1 - 0s - loss: 2.1590 - accuracy: 0.3636\n",
            "Epoch 22/200\n",
            "1/1 - 0s - loss: 2.1342 - accuracy: 0.3636\n",
            "Epoch 23/200\n",
            "1/1 - 0s - loss: 2.1089 - accuracy: 0.3636\n",
            "Epoch 24/200\n",
            "1/1 - 0s - loss: 2.0833 - accuracy: 0.3636\n",
            "Epoch 25/200\n",
            "1/1 - 0s - loss: 2.0576 - accuracy: 0.3636\n",
            "Epoch 26/200\n",
            "1/1 - 0s - loss: 2.0323 - accuracy: 0.3636\n",
            "Epoch 27/200\n",
            "1/1 - 0s - loss: 2.0076 - accuracy: 0.3636\n",
            "Epoch 28/200\n",
            "1/1 - 0s - loss: 1.9840 - accuracy: 0.3636\n",
            "Epoch 29/200\n",
            "1/1 - 0s - loss: 1.9617 - accuracy: 0.3636\n",
            "Epoch 30/200\n",
            "1/1 - 0s - loss: 1.9412 - accuracy: 0.3636\n",
            "Epoch 31/200\n",
            "1/1 - 0s - loss: 1.9223 - accuracy: 0.3636\n",
            "Epoch 32/200\n",
            "1/1 - 0s - loss: 1.9052 - accuracy: 0.3636\n",
            "Epoch 33/200\n",
            "1/1 - 0s - loss: 1.8895 - accuracy: 0.3636\n",
            "Epoch 34/200\n",
            "1/1 - 0s - loss: 1.8749 - accuracy: 0.3636\n",
            "Epoch 35/200\n",
            "1/1 - 0s - loss: 1.8608 - accuracy: 0.3636\n",
            "Epoch 36/200\n",
            "1/1 - 0s - loss: 1.8469 - accuracy: 0.3636\n",
            "Epoch 37/200\n",
            "1/1 - 0s - loss: 1.8328 - accuracy: 0.3636\n",
            "Epoch 38/200\n",
            "1/1 - 0s - loss: 1.8183 - accuracy: 0.3636\n",
            "Epoch 39/200\n",
            "1/1 - 0s - loss: 1.8032 - accuracy: 0.3636\n",
            "Epoch 40/200\n",
            "1/1 - 0s - loss: 1.7875 - accuracy: 0.3636\n",
            "Epoch 41/200\n",
            "1/1 - 0s - loss: 1.7714 - accuracy: 0.3636\n",
            "Epoch 42/200\n",
            "1/1 - 0s - loss: 1.7551 - accuracy: 0.3636\n",
            "Epoch 43/200\n",
            "1/1 - 0s - loss: 1.7387 - accuracy: 0.3636\n",
            "Epoch 44/200\n",
            "1/1 - 0s - loss: 1.7224 - accuracy: 0.3636\n",
            "Epoch 45/200\n",
            "1/1 - 0s - loss: 1.7064 - accuracy: 0.3636\n",
            "Epoch 46/200\n",
            "1/1 - 0s - loss: 1.6906 - accuracy: 0.3636\n",
            "Epoch 47/200\n",
            "1/1 - 0s - loss: 1.6749 - accuracy: 0.3636\n",
            "Epoch 48/200\n",
            "1/1 - 0s - loss: 1.6594 - accuracy: 0.4545\n",
            "Epoch 49/200\n",
            "1/1 - 0s - loss: 1.6438 - accuracy: 0.4545\n",
            "Epoch 50/200\n",
            "1/1 - 0s - loss: 1.6280 - accuracy: 0.4545\n",
            "Epoch 51/200\n",
            "1/1 - 0s - loss: 1.6119 - accuracy: 0.5455\n",
            "Epoch 52/200\n",
            "1/1 - 0s - loss: 1.5954 - accuracy: 0.5455\n",
            "Epoch 53/200\n",
            "1/1 - 0s - loss: 1.5784 - accuracy: 0.5455\n",
            "Epoch 54/200\n",
            "1/1 - 0s - loss: 1.5609 - accuracy: 0.5455\n",
            "Epoch 55/200\n",
            "1/1 - 0s - loss: 1.5431 - accuracy: 0.5455\n",
            "Epoch 56/200\n",
            "1/1 - 0s - loss: 1.5249 - accuracy: 0.5455\n",
            "Epoch 57/200\n",
            "1/1 - 0s - loss: 1.5065 - accuracy: 0.5455\n",
            "Epoch 58/200\n",
            "1/1 - 0s - loss: 1.4878 - accuracy: 0.5455\n",
            "Epoch 59/200\n",
            "1/1 - 0s - loss: 1.4691 - accuracy: 0.5455\n",
            "Epoch 60/200\n",
            "1/1 - 0s - loss: 1.4502 - accuracy: 0.5455\n",
            "Epoch 61/200\n",
            "1/1 - 0s - loss: 1.4312 - accuracy: 0.5455\n",
            "Epoch 62/200\n",
            "1/1 - 0s - loss: 1.4121 - accuracy: 0.5455\n",
            "Epoch 63/200\n",
            "1/1 - 0s - loss: 1.3929 - accuracy: 0.5455\n",
            "Epoch 64/200\n",
            "1/1 - 0s - loss: 1.3735 - accuracy: 0.5455\n",
            "Epoch 65/200\n",
            "1/1 - 0s - loss: 1.3539 - accuracy: 0.5455\n",
            "Epoch 66/200\n",
            "1/1 - 0s - loss: 1.3342 - accuracy: 0.5455\n",
            "Epoch 67/200\n",
            "1/1 - 0s - loss: 1.3143 - accuracy: 0.5455\n",
            "Epoch 68/200\n",
            "1/1 - 0s - loss: 1.2942 - accuracy: 0.5455\n",
            "Epoch 69/200\n",
            "1/1 - 0s - loss: 1.2740 - accuracy: 0.5455\n",
            "Epoch 70/200\n",
            "1/1 - 0s - loss: 1.2537 - accuracy: 0.5455\n",
            "Epoch 71/200\n",
            "1/1 - 0s - loss: 1.2334 - accuracy: 0.5455\n",
            "Epoch 72/200\n",
            "1/1 - 0s - loss: 1.2132 - accuracy: 0.5455\n",
            "Epoch 73/200\n",
            "1/1 - 0s - loss: 1.1929 - accuracy: 0.6364\n",
            "Epoch 74/200\n",
            "1/1 - 0s - loss: 1.1727 - accuracy: 0.6364\n",
            "Epoch 75/200\n",
            "1/1 - 0s - loss: 1.1527 - accuracy: 0.6364\n",
            "Epoch 76/200\n",
            "1/1 - 0s - loss: 1.1327 - accuracy: 0.6364\n",
            "Epoch 77/200\n",
            "1/1 - 0s - loss: 1.1128 - accuracy: 0.6364\n",
            "Epoch 78/200\n",
            "1/1 - 0s - loss: 1.0931 - accuracy: 0.6364\n",
            "Epoch 79/200\n",
            "1/1 - 0s - loss: 1.0735 - accuracy: 0.6364\n",
            "Epoch 80/200\n",
            "1/1 - 0s - loss: 1.0541 - accuracy: 0.7273\n",
            "Epoch 81/200\n",
            "1/1 - 0s - loss: 1.0349 - accuracy: 0.7273\n",
            "Epoch 82/200\n",
            "1/1 - 0s - loss: 1.0160 - accuracy: 0.7273\n",
            "Epoch 83/200\n",
            "1/1 - 0s - loss: 0.9973 - accuracy: 0.7273\n",
            "Epoch 84/200\n",
            "1/1 - 0s - loss: 0.9789 - accuracy: 0.7273\n",
            "Epoch 85/200\n",
            "1/1 - 0s - loss: 0.9608 - accuracy: 0.7273\n",
            "Epoch 86/200\n",
            "1/1 - 0s - loss: 0.9430 - accuracy: 0.7273\n",
            "Epoch 87/200\n",
            "1/1 - 0s - loss: 0.9255 - accuracy: 0.7273\n",
            "Epoch 88/200\n",
            "1/1 - 0s - loss: 0.9083 - accuracy: 0.7273\n",
            "Epoch 89/200\n",
            "1/1 - 0s - loss: 0.8913 - accuracy: 0.7273\n",
            "Epoch 90/200\n",
            "1/1 - 0s - loss: 0.8747 - accuracy: 0.7273\n",
            "Epoch 91/200\n",
            "1/1 - 0s - loss: 0.8583 - accuracy: 0.7273\n",
            "Epoch 92/200\n",
            "1/1 - 0s - loss: 0.8422 - accuracy: 0.7273\n",
            "Epoch 93/200\n",
            "1/1 - 0s - loss: 0.8264 - accuracy: 0.7273\n",
            "Epoch 94/200\n",
            "1/1 - 0s - loss: 0.8108 - accuracy: 0.7273\n",
            "Epoch 95/200\n",
            "1/1 - 0s - loss: 0.7954 - accuracy: 0.7273\n",
            "Epoch 96/200\n",
            "1/1 - 0s - loss: 0.7804 - accuracy: 0.7273\n",
            "Epoch 97/200\n",
            "1/1 - 0s - loss: 0.7656 - accuracy: 0.7273\n",
            "Epoch 98/200\n",
            "1/1 - 0s - loss: 0.7510 - accuracy: 0.7273\n",
            "Epoch 99/200\n",
            "1/1 - 0s - loss: 0.7366 - accuracy: 0.8182\n",
            "Epoch 100/200\n",
            "1/1 - 0s - loss: 0.7225 - accuracy: 0.8182\n",
            "Epoch 101/200\n",
            "1/1 - 0s - loss: 0.7086 - accuracy: 0.8182\n",
            "Epoch 102/200\n",
            "1/1 - 0s - loss: 0.6949 - accuracy: 0.8182\n",
            "Epoch 103/200\n",
            "1/1 - 0s - loss: 0.6815 - accuracy: 0.9091\n",
            "Epoch 104/200\n",
            "1/1 - 0s - loss: 0.6683 - accuracy: 0.9091\n",
            "Epoch 105/200\n",
            "1/1 - 0s - loss: 0.6552 - accuracy: 0.9091\n",
            "Epoch 106/200\n",
            "1/1 - 0s - loss: 0.6424 - accuracy: 0.9091\n",
            "Epoch 107/200\n",
            "1/1 - 0s - loss: 0.6298 - accuracy: 0.9091\n",
            "Epoch 108/200\n",
            "1/1 - 0s - loss: 0.6173 - accuracy: 0.9091\n",
            "Epoch 109/200\n",
            "1/1 - 0s - loss: 0.6051 - accuracy: 0.9091\n",
            "Epoch 110/200\n",
            "1/1 - 0s - loss: 0.5930 - accuracy: 0.9091\n",
            "Epoch 111/200\n",
            "1/1 - 0s - loss: 0.5812 - accuracy: 0.9091\n",
            "Epoch 112/200\n",
            "1/1 - 0s - loss: 0.5695 - accuracy: 0.9091\n",
            "Epoch 113/200\n",
            "1/1 - 0s - loss: 0.5580 - accuracy: 0.9091\n",
            "Epoch 114/200\n",
            "1/1 - 0s - loss: 0.5467 - accuracy: 0.9091\n",
            "Epoch 115/200\n",
            "1/1 - 0s - loss: 0.5356 - accuracy: 0.9091\n",
            "Epoch 116/200\n",
            "1/1 - 0s - loss: 0.5246 - accuracy: 0.9091\n",
            "Epoch 117/200\n",
            "1/1 - 0s - loss: 0.5138 - accuracy: 0.9091\n",
            "Epoch 118/200\n",
            "1/1 - 0s - loss: 0.5032 - accuracy: 0.9091\n",
            "Epoch 119/200\n",
            "1/1 - 0s - loss: 0.4927 - accuracy: 0.9091\n",
            "Epoch 120/200\n",
            "1/1 - 0s - loss: 0.4825 - accuracy: 0.9091\n",
            "Epoch 121/200\n",
            "1/1 - 0s - loss: 0.4724 - accuracy: 0.9091\n",
            "Epoch 122/200\n",
            "1/1 - 0s - loss: 0.4624 - accuracy: 0.9091\n",
            "Epoch 123/200\n",
            "1/1 - 0s - loss: 0.4527 - accuracy: 0.9091\n",
            "Epoch 124/200\n",
            "1/1 - 0s - loss: 0.4431 - accuracy: 1.0000\n",
            "Epoch 125/200\n",
            "1/1 - 0s - loss: 0.4337 - accuracy: 1.0000\n",
            "Epoch 126/200\n",
            "1/1 - 0s - loss: 0.4244 - accuracy: 1.0000\n",
            "Epoch 127/200\n",
            "1/1 - 0s - loss: 0.4153 - accuracy: 1.0000\n",
            "Epoch 128/200\n",
            "1/1 - 0s - loss: 0.4064 - accuracy: 1.0000\n",
            "Epoch 129/200\n",
            "1/1 - 0s - loss: 0.3976 - accuracy: 1.0000\n",
            "Epoch 130/200\n",
            "1/1 - 0s - loss: 0.3890 - accuracy: 1.0000\n",
            "Epoch 131/200\n",
            "1/1 - 0s - loss: 0.3805 - accuracy: 1.0000\n",
            "Epoch 132/200\n",
            "1/1 - 0s - loss: 0.3722 - accuracy: 1.0000\n",
            "Epoch 133/200\n",
            "1/1 - 0s - loss: 0.3641 - accuracy: 1.0000\n",
            "Epoch 134/200\n",
            "1/1 - 0s - loss: 0.3561 - accuracy: 1.0000\n",
            "Epoch 135/200\n",
            "1/1 - 0s - loss: 0.3483 - accuracy: 1.0000\n",
            "Epoch 136/200\n",
            "1/1 - 0s - loss: 0.3406 - accuracy: 1.0000\n",
            "Epoch 137/200\n",
            "1/1 - 0s - loss: 0.3331 - accuracy: 1.0000\n",
            "Epoch 138/200\n",
            "1/1 - 0s - loss: 0.3257 - accuracy: 1.0000\n",
            "Epoch 139/200\n",
            "1/1 - 0s - loss: 0.3185 - accuracy: 1.0000\n",
            "Epoch 140/200\n",
            "1/1 - 0s - loss: 0.3114 - accuracy: 1.0000\n",
            "Epoch 141/200\n",
            "1/1 - 0s - loss: 0.3044 - accuracy: 1.0000\n",
            "Epoch 142/200\n",
            "1/1 - 0s - loss: 0.2977 - accuracy: 1.0000\n",
            "Epoch 143/200\n",
            "1/1 - 0s - loss: 0.2910 - accuracy: 1.0000\n",
            "Epoch 144/200\n",
            "1/1 - 0s - loss: 0.2845 - accuracy: 1.0000\n",
            "Epoch 145/200\n",
            "1/1 - 0s - loss: 0.2781 - accuracy: 1.0000\n",
            "Epoch 146/200\n",
            "1/1 - 0s - loss: 0.2719 - accuracy: 1.0000\n",
            "Epoch 147/200\n",
            "1/1 - 0s - loss: 0.2658 - accuracy: 1.0000\n",
            "Epoch 148/200\n",
            "1/1 - 0s - loss: 0.2599 - accuracy: 1.0000\n",
            "Epoch 149/200\n",
            "1/1 - 0s - loss: 0.2540 - accuracy: 1.0000\n",
            "Epoch 150/200\n",
            "1/1 - 0s - loss: 0.2483 - accuracy: 1.0000\n",
            "Epoch 151/200\n",
            "1/1 - 0s - loss: 0.2428 - accuracy: 1.0000\n",
            "Epoch 152/200\n",
            "1/1 - 0s - loss: 0.2373 - accuracy: 1.0000\n",
            "Epoch 153/200\n",
            "1/1 - 0s - loss: 0.2320 - accuracy: 1.0000\n",
            "Epoch 154/200\n",
            "1/1 - 0s - loss: 0.2268 - accuracy: 1.0000\n",
            "Epoch 155/200\n",
            "1/1 - 0s - loss: 0.2217 - accuracy: 1.0000\n",
            "Epoch 156/200\n",
            "1/1 - 0s - loss: 0.2167 - accuracy: 1.0000\n",
            "Epoch 157/200\n",
            "1/1 - 0s - loss: 0.2119 - accuracy: 1.0000\n",
            "Epoch 158/200\n",
            "1/1 - 0s - loss: 0.2072 - accuracy: 1.0000\n",
            "Epoch 159/200\n",
            "1/1 - 0s - loss: 0.2025 - accuracy: 1.0000\n",
            "Epoch 160/200\n",
            "1/1 - 0s - loss: 0.1980 - accuracy: 1.0000\n",
            "Epoch 161/200\n",
            "1/1 - 0s - loss: 0.1936 - accuracy: 1.0000\n",
            "Epoch 162/200\n",
            "1/1 - 0s - loss: 0.1893 - accuracy: 1.0000\n",
            "Epoch 163/200\n",
            "1/1 - 0s - loss: 0.1851 - accuracy: 1.0000\n",
            "Epoch 164/200\n",
            "1/1 - 0s - loss: 0.1810 - accuracy: 1.0000\n",
            "Epoch 165/200\n",
            "1/1 - 0s - loss: 0.1770 - accuracy: 1.0000\n",
            "Epoch 166/200\n",
            "1/1 - 0s - loss: 0.1731 - accuracy: 1.0000\n",
            "Epoch 167/200\n",
            "1/1 - 0s - loss: 0.1693 - accuracy: 1.0000\n",
            "Epoch 168/200\n",
            "1/1 - 0s - loss: 0.1655 - accuracy: 1.0000\n",
            "Epoch 169/200\n",
            "1/1 - 0s - loss: 0.1619 - accuracy: 1.0000\n",
            "Epoch 170/200\n",
            "1/1 - 0s - loss: 0.1584 - accuracy: 1.0000\n",
            "Epoch 171/200\n",
            "1/1 - 0s - loss: 0.1549 - accuracy: 1.0000\n",
            "Epoch 172/200\n",
            "1/1 - 0s - loss: 0.1516 - accuracy: 1.0000\n",
            "Epoch 173/200\n",
            "1/1 - 0s - loss: 0.1483 - accuracy: 1.0000\n",
            "Epoch 174/200\n",
            "1/1 - 0s - loss: 0.1451 - accuracy: 1.0000\n",
            "Epoch 175/200\n",
            "1/1 - 0s - loss: 0.1420 - accuracy: 1.0000\n",
            "Epoch 176/200\n",
            "1/1 - 0s - loss: 0.1389 - accuracy: 1.0000\n",
            "Epoch 177/200\n",
            "1/1 - 0s - loss: 0.1360 - accuracy: 1.0000\n",
            "Epoch 178/200\n",
            "1/1 - 0s - loss: 0.1331 - accuracy: 1.0000\n",
            "Epoch 179/200\n",
            "1/1 - 0s - loss: 0.1303 - accuracy: 1.0000\n",
            "Epoch 180/200\n",
            "1/1 - 0s - loss: 0.1276 - accuracy: 1.0000\n",
            "Epoch 181/200\n",
            "1/1 - 0s - loss: 0.1249 - accuracy: 1.0000\n",
            "Epoch 182/200\n",
            "1/1 - 0s - loss: 0.1223 - accuracy: 1.0000\n",
            "Epoch 183/200\n",
            "1/1 - 0s - loss: 0.1198 - accuracy: 1.0000\n",
            "Epoch 184/200\n",
            "1/1 - 0s - loss: 0.1174 - accuracy: 1.0000\n",
            "Epoch 185/200\n",
            "1/1 - 0s - loss: 0.1150 - accuracy: 1.0000\n",
            "Epoch 186/200\n",
            "1/1 - 0s - loss: 0.1126 - accuracy: 1.0000\n",
            "Epoch 187/200\n",
            "1/1 - 0s - loss: 0.1104 - accuracy: 1.0000\n",
            "Epoch 188/200\n",
            "1/1 - 0s - loss: 0.1082 - accuracy: 1.0000\n",
            "Epoch 189/200\n",
            "1/1 - 0s - loss: 0.1060 - accuracy: 1.0000\n",
            "Epoch 190/200\n",
            "1/1 - 0s - loss: 0.1039 - accuracy: 1.0000\n",
            "Epoch 191/200\n",
            "1/1 - 0s - loss: 0.1019 - accuracy: 1.0000\n",
            "Epoch 192/200\n",
            "1/1 - 0s - loss: 0.0999 - accuracy: 1.0000\n",
            "Epoch 193/200\n",
            "1/1 - 0s - loss: 0.0980 - accuracy: 1.0000\n",
            "Epoch 194/200\n",
            "1/1 - 0s - loss: 0.0961 - accuracy: 1.0000\n",
            "Epoch 195/200\n",
            "1/1 - 0s - loss: 0.0943 - accuracy: 1.0000\n",
            "Epoch 196/200\n",
            "1/1 - 0s - loss: 0.0926 - accuracy: 1.0000\n",
            "Epoch 197/200\n",
            "1/1 - 0s - loss: 0.0908 - accuracy: 1.0000\n",
            "Epoch 198/200\n",
            "1/1 - 0s - loss: 0.0891 - accuracy: 1.0000\n",
            "Epoch 199/200\n",
            "1/1 - 0s - loss: 0.0875 - accuracy: 1.0000\n",
            "Epoch 200/200\n",
            "1/1 - 0s - loss: 0.0859 - accuracy: 1.0000\n"
          ],
          "name": "stdout"
        },
        {
          "output_type": "execute_result",
          "data": {
            "text/plain": [
              "<tensorflow.python.keras.callbacks.History at 0x7f9f648aa090>"
            ]
          },
          "metadata": {
            "tags": []
          },
          "execution_count": 16
        }
      ]
    },
    {
      "cell_type": "code",
      "metadata": {
        "id": "DNtZ6gPTRjy-"
      },
      "source": [
        "#모델이 정확하게 예측하고 있는지 문장을 생성하는 함수를 만들어 출력해보자\n",
        "\n",
        "\n",
        "def sentence_generation(model, t, current_word, n): # 모델, 토크나이저, 현재 단어, 반복할 횟수\n",
        "    init_word = current_word # 처음 들어온 단어도 마지막에 같이 출력하기위해 저장\n",
        "    sentence = ''\n",
        "    for _ in range(n): # n번 반복\n",
        "        encoded = t.texts_to_sequences([current_word])[0] # 현재 단어에 대한 정수 인코딩\n",
        "        encoded = pad_sequences([encoded], maxlen=5, padding='pre') # 데이터에 대한 패딩\n",
        "        result = model.predict_classes(encoded, verbose=0)\n",
        "    # 입력한 X(현재 단어)에 대해서 Y를 예측하고 Y(예측한 단어)를 result에 저장.\n",
        "    \n",
        "        for word, index in t.word_index.items(): \n",
        "            if index == result: # 만약 예측한 단어와 인덱스와 동일한 단어가 있다면\n",
        "                break # 해당 단어가 예측 단어이므로 break\n",
        "        current_word = current_word + ' '  + word # 현재 단어 + ' ' + 예측 단어를 현재 단어로 변경\n",
        "        sentence = sentence + ' ' + word # 예측 단어를 문장에 저장\n",
        "    # for문이므로 이 행동을 다시 반복\n",
        "    sentence = init_word + sentence\n",
        "    return sentence"
      ],
      "execution_count": 17,
      "outputs": []
    },
    {
      "cell_type": "code",
      "metadata": {
        "colab": {
          "base_uri": "https://localhost:8080/"
        },
        "id": "QKIebzXJR5Gz",
        "outputId": "3024fafc-fed8-4f64-f3d9-d544c3ca0ad6"
      },
      "source": [
        "print(sentence_generation(model, t, '경마장에', 4))\n",
        "\n",
        "#경마장에라는 단어 뒤에는 총 네개의 단어가 있으므로 네번 예측"
      ],
      "execution_count": 19,
      "outputs": [
        {
          "output_type": "stream",
          "text": [
            "경마장에 있는 말이 뛰고 있다\n"
          ],
          "name": "stdout"
        },
        {
          "output_type": "stream",
          "text": [
            "/usr/local/lib/python3.7/dist-packages/tensorflow/python/keras/engine/sequential.py:455: UserWarning: `model.predict_classes()` is deprecated and will be removed after 2021-01-01. Please use instead:* `np.argmax(model.predict(x), axis=-1)`,   if your model does multi-class classification   (e.g. if it uses a `softmax` last-layer activation).* `(model.predict(x) > 0.5).astype(\"int32\")`,   if your model does binary classification   (e.g. if it uses a `sigmoid` last-layer activation).\n",
            "  warnings.warn('`model.predict_classes()` is deprecated and '\n"
          ],
          "name": "stderr"
        }
      ]
    },
    {
      "cell_type": "code",
      "metadata": {
        "colab": {
          "base_uri": "https://localhost:8080/"
        },
        "id": "bVayAHIbSCQy",
        "outputId": "0c8abb63-beb6-4f07-85aa-b49dd91d6d41"
      },
      "source": [
        "print(sentence_generation(model, t, '그의', 2)) # 2번 예측"
      ],
      "execution_count": 20,
      "outputs": [
        {
          "output_type": "stream",
          "text": [
            "그의 말이 법이다\n"
          ],
          "name": "stdout"
        },
        {
          "output_type": "stream",
          "text": [
            "/usr/local/lib/python3.7/dist-packages/tensorflow/python/keras/engine/sequential.py:455: UserWarning: `model.predict_classes()` is deprecated and will be removed after 2021-01-01. Please use instead:* `np.argmax(model.predict(x), axis=-1)`,   if your model does multi-class classification   (e.g. if it uses a `softmax` last-layer activation).* `(model.predict(x) > 0.5).astype(\"int32\")`,   if your model does binary classification   (e.g. if it uses a `sigmoid` last-layer activation).\n",
            "  warnings.warn('`model.predict_classes()` is deprecated and '\n"
          ],
          "name": "stderr"
        }
      ]
    },
    {
      "cell_type": "code",
      "metadata": {
        "colab": {
          "base_uri": "https://localhost:8080/"
        },
        "id": "BnAsZF1vSEji",
        "outputId": "fb9bd5f9-f26b-4471-8314-e1a2949e5269"
      },
      "source": [
        "print(sentence_generation(model, t, '가는', 5)) # 5번 예측\n",
        "\n",
        "\n",
        "# 충분한 훈련 데이터가 없으므로 문장의 길이에 맞게 적절하게 예측해야하는 횟수 4,2, 5를 지정해줘야함\n"
      ],
      "execution_count": 21,
      "outputs": [
        {
          "output_type": "stream",
          "text": [
            "가는 말이 고와야 오는 말이 곱다\n"
          ],
          "name": "stdout"
        },
        {
          "output_type": "stream",
          "text": [
            "/usr/local/lib/python3.7/dist-packages/tensorflow/python/keras/engine/sequential.py:455: UserWarning: `model.predict_classes()` is deprecated and will be removed after 2021-01-01. Please use instead:* `np.argmax(model.predict(x), axis=-1)`,   if your model does multi-class classification   (e.g. if it uses a `softmax` last-layer activation).* `(model.predict(x) > 0.5).astype(\"int32\")`,   if your model does binary classification   (e.g. if it uses a `sigmoid` last-layer activation).\n",
            "  warnings.warn('`model.predict_classes()` is deprecated and '\n"
          ],
          "name": "stderr"
        }
      ]
    },
    {
      "cell_type": "code",
      "metadata": {
        "id": "Y8Eku0oSSMxz"
      },
      "source": [
        ""
      ],
      "execution_count": null,
      "outputs": []
    }
  ]
}