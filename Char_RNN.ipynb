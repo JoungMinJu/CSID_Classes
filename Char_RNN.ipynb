{
  "nbformat": 4,
  "nbformat_minor": 0,
  "metadata": {
    "colab": {
      "name": "Char RNN.ipynb",
      "provenance": [],
      "collapsed_sections": [],
      "authorship_tag": "ABX9TyNf6VrmW66u42ALlm4D2tvB",
      "include_colab_link": true
    },
    "kernelspec": {
      "name": "python3",
      "display_name": "Python 3"
    },
    "language_info": {
      "name": "python"
    }
  },
  "cells": [
    {
      "cell_type": "markdown",
      "metadata": {
        "id": "view-in-github",
        "colab_type": "text"
      },
      "source": [
        "<a href=\"https://colab.research.google.com/github/JoungMinJu/lab_study/blob/main/Char_RNN.ipynb\" target=\"_parent\"><img src=\"https://colab.research.google.com/assets/colab-badge.svg\" alt=\"Open In Colab\"/></a>"
      ]
    },
    {
      "cell_type": "code",
      "metadata": {
        "id": "PFkui6JKTcy2"
      },
      "source": [
        "import numpy as np\n",
        "import urllib.request\n",
        "from tensorflow.keras.utils import to_categorical\n"
      ],
      "execution_count": 4,
      "outputs": []
    },
    {
      "cell_type": "code",
      "metadata": {
        "id": "jyx8d_lyTsyI"
      },
      "source": [
        "urllib.request.urlretrieve(\"http://www.gutenberg.org/files/11/11-0.txt\", filename=\"11-0.txt\")\n",
        "f = open('11-0.txt', 'rb')\n",
        "lines=[]\n",
        "for line in f: # 데이터를 한 줄씩 읽는다.\n",
        "    line=line.strip() # strip()을 통해 \\r, \\n을 제거한다.\n",
        "    line=line.lower() # 소문자화.\n",
        "    line=line.decode('ascii', 'ignore') # \\xe2\\x80\\x99 등과 같은 바이트 열 제거\n",
        "    if len(line) > 0:\n",
        "        lines.append(line)\n",
        "f.close()\n",
        "\n",
        "#간단한 전처리가 수행된 결과가 lines라는 리스트에 저장됨\n"
      ],
      "execution_count": 5,
      "outputs": []
    },
    {
      "cell_type": "code",
      "metadata": {
        "colab": {
          "base_uri": "https://localhost:8080/"
        },
        "id": "E_FspejdfH1k",
        "outputId": "ced28245-30f1-4353-fe67-3a53f2d8015c"
      },
      "source": [
        "lines[:5]"
      ],
      "execution_count": 10,
      "outputs": [
        {
          "output_type": "execute_result",
          "data": {
            "text/plain": [
              "['the project gutenberg ebook of alices adventures in wonderland, by lewis carroll',\n",
              " 'this ebook is for the use of anyone anywhere in the united states and',\n",
              " 'most other parts of the world at no cost and with almost no restrictions',\n",
              " 'whatsoever. you may copy it, give it away or re-use it under the terms',\n",
              " 'of the project gutenberg license included with this ebook or online at']"
            ]
          },
          "metadata": {
            "tags": []
          },
          "execution_count": 10
        }
      ]
    },
    {
      "cell_type": "code",
      "metadata": {
        "colab": {
          "base_uri": "https://localhost:8080/"
        },
        "id": "90-41j60fOJ4",
        "outputId": "2c4639ac-3731-4ce8-c708-ce18630e4a40"
      },
      "source": [
        "#하나의 문자열로 통합\n",
        "text=' '.join(lines)\n",
        "print('문자열의 길이 또는 총 글자의 개수 : %d'%len(text))"
      ],
      "execution_count": 11,
      "outputs": [
        {
          "output_type": "stream",
          "text": [
            "문자열의 길이 또는 총 글자의 개수 : 159484\n"
          ],
          "name": "stdout"
        }
      ]
    },
    {
      "cell_type": "code",
      "metadata": {
        "colab": {
          "base_uri": "https://localhost:8080/"
        },
        "id": "EQhgLMhVfWA2",
        "outputId": "3eae219c-e811-432a-af74-91f6842144d9"
      },
      "source": [
        "print(text[:200])"
      ],
      "execution_count": 12,
      "outputs": [
        {
          "output_type": "stream",
          "text": [
            "the project gutenberg ebook of alices adventures in wonderland, by lewis carroll this ebook is for the use of anyone anywhere in the united states and most other parts of the world at no cost and with\n"
          ],
          "name": "stdout"
        }
      ]
    },
    {
      "cell_type": "code",
      "metadata": {
        "colab": {
          "base_uri": "https://localhost:8080/"
        },
        "id": "JJOl0boEfZOZ",
        "outputId": "92572256-7a50-4e5f-847a-f3244cdc767b"
      },
      "source": [
        "#문자열로부터 글자 집합을 만든다.\n",
        "#기존엔 중복을 제거한 단어들의 모음인 단어 집합을 만들었으나 이번에 만들 집합은 글자 집합\n",
        "char_vocab=sorted(list(set(text)))\n",
        "vocab_size=len(char_vocab)\n",
        "print(\"글자 집합의 크기 : {}\".format(vocab_size))\n",
        "\n",
        "#영어가 훈련 데이터일때 대부분의 경우에서 글자 집합의 크기가 단어 집합을 사용했을 경우보다 집합의 크기가 현저히 작다\n",
        "#여어 단어를 표현하기 위해 글자 집합에 포함되는 글자는  26개의 알파벳 뿐이기 때문\n",
        "\n",
        "#따라서 얼마나 양이 많더라도 집합의 크기를 적게 가져갈 수 있고 이는 구현과 테스트를 쉽게 할 수 있도록 한다\n",
        "#따라서 RNN의 동작 메커니즘 이해를 위한 토이 프로젝트로 굉장히 많이 사용된다.\n",
        "\n"
      ],
      "execution_count": 14,
      "outputs": [
        {
          "output_type": "stream",
          "text": [
            "글자 집합의 크기 : 56\n"
          ],
          "name": "stdout"
        }
      ]
    },
    {
      "cell_type": "code",
      "metadata": {
        "colab": {
          "base_uri": "https://localhost:8080/"
        },
        "id": "UF1kyH_FgWos",
        "outputId": "bae52708-ef21-4684-cff3-bb0173656bee"
      },
      "source": [
        "#글자집합에 인덱스를 부여하고 전부 출력해보기\n",
        "char_to_index = dict((c, i) for i, c in enumerate(char_vocab)) # 글자에 고유한 정수 인덱스 부여\n",
        "print(char_to_index)"
      ],
      "execution_count": 15,
      "outputs": [
        {
          "output_type": "stream",
          "text": [
            "{' ': 0, '!': 1, '\"': 2, '#': 3, '$': 4, '%': 5, \"'\": 6, '(': 7, ')': 8, '*': 9, ',': 10, '-': 11, '.': 12, '/': 13, '0': 14, '1': 15, '2': 16, '3': 17, '4': 18, '5': 19, '6': 20, '7': 21, '8': 22, '9': 23, ':': 24, ';': 25, '?': 26, '[': 27, ']': 28, '_': 29, 'a': 30, 'b': 31, 'c': 32, 'd': 33, 'e': 34, 'f': 35, 'g': 36, 'h': 37, 'i': 38, 'j': 39, 'k': 40, 'l': 41, 'm': 42, 'n': 43, 'o': 44, 'p': 45, 'q': 46, 'r': 47, 's': 48, 't': 49, 'u': 50, 'v': 51, 'w': 52, 'x': 53, 'y': 54, 'z': 55}\n"
          ],
          "name": "stdout"
        }
      ]
    },
    {
      "cell_type": "code",
      "metadata": {
        "id": "jJoyQnhAgd2p"
      },
      "source": [
        "#인덱스로부터 글자를 리턴하는\n",
        "index_to_char={}\n",
        "for key, value in char_to_index.items():\n",
        "    index_to_char[value] = key"
      ],
      "execution_count": 16,
      "outputs": []
    },
    {
      "cell_type": "code",
      "metadata": {
        "id": "typjfktZgiRY"
      },
      "source": [
        "#훈련 데이터를 구성\n",
        "#훈련 데이터에 apple이라는 시퀀스가 있고, 입력 시퀀스의 길이 즉 샘플의 길이를 4라고 한다면 \n",
        "#입력시퀀스와 예측해야하는 출력 시퀀스는 다음과 같이 구성된다.\n",
        "\n",
        "# Example) 샘플의 길이가 4라면 4개의 입력 글자 시퀀스로 부터 4개의 출력 글자 시퀀스를 예측. 즉, RNN의 time step은 4번\n",
        "#appl -> pple\n",
        "# appl은 train_X(입력 시퀀스), pple는 train_y(예측해야하는 시퀀스)에 저장한다."
      ],
      "execution_count": null,
      "outputs": []
    },
    {
      "cell_type": "code",
      "metadata": {
        "colab": {
          "base_uri": "https://localhost:8080/"
        },
        "id": "vDuPLsHUgwGY",
        "outputId": "f078b9c1-3a7f-4f7c-cc1e-5f26016e70ca"
      },
      "source": [
        "#text문자열로부터 다수의 문장 샘플들로 분리\n",
        "#분리 == 문장 샘플의 길이를 정하고, 해당 길이만큼 문자열 전체를 등분한다.\n",
        "\n",
        "seq_length = 60 # 문장의 길이를 60으로 한다.\n",
        "n_samples = int(np.floor((len(text) - 1) / seq_length)) # 문자열을 60등분한다. 그러면 즉, 총 샘플의 개수\n",
        "print ('문장 샘플의 수 : {}'.format(n_samples))"
      ],
      "execution_count": 17,
      "outputs": [
        {
          "output_type": "stream",
          "text": [
            "문장 샘플의 수 : 2658\n"
          ],
          "name": "stdout"
        }
      ]
    },
    {
      "cell_type": "code",
      "metadata": {
        "id": "fW64VD0Pg5RG"
      },
      "source": [
        "train_X = []\n",
        "train_y = []\n",
        "\n",
        "for i in range(n_samples): # 2,646번 수행\n",
        "    X_sample = text[i * seq_length: (i + 1) * seq_length]\n",
        "    # 0:60 -> 60:120 -> 120:180로 loop를 돌면서 문장 샘플을 1개씩 가져온다.\n",
        "    X_encoded = [char_to_index[c] for c in X_sample] # 하나의 문장 샘플에 대해서 정수 인코딩\n",
        "    train_X.append(X_encoded)\n",
        "\n",
        "    y_sample = text[i * seq_length + 1: (i + 1) * seq_length + 1] # 오른쪽으로 1칸 쉬프트한다.\n",
        "    y_encoded = [char_to_index[c] for c in y_sample]\n",
        "    train_y.append(y_encoded)"
      ],
      "execution_count": 18,
      "outputs": []
    },
    {
      "cell_type": "code",
      "metadata": {
        "colab": {
          "base_uri": "https://localhost:8080/"
        },
        "id": "zyPvw5QAhFno",
        "outputId": "f68b88b5-fe8b-4a4d-c1f6-98d3561042ad"
      },
      "source": [
        "print(train_X[0])"
      ],
      "execution_count": 19,
      "outputs": [
        {
          "output_type": "stream",
          "text": [
            "[49, 37, 34, 0, 45, 47, 44, 39, 34, 32, 49, 0, 36, 50, 49, 34, 43, 31, 34, 47, 36, 0, 34, 31, 44, 44, 40, 0, 44, 35, 0, 30, 41, 38, 32, 34, 48, 0, 30, 33, 51, 34, 43, 49, 50, 47, 34, 48, 0, 38, 43, 0, 52, 44, 43, 33, 34, 47, 41, 30]\n"
          ],
          "name": "stdout"
        }
      ]
    },
    {
      "cell_type": "code",
      "metadata": {
        "colab": {
          "base_uri": "https://localhost:8080/"
        },
        "id": "dQ3y4zoAhHJZ",
        "outputId": "f4b39c25-39ce-4315-aa7a-d894b18241b6"
      },
      "source": [
        "print(train_y[0])\n",
        "\n",
        "#y가 오른쪽으로 한 칸 쉬프트 됐음을 확인할 수 있다."
      ],
      "execution_count": 20,
      "outputs": [
        {
          "output_type": "stream",
          "text": [
            "[37, 34, 0, 45, 47, 44, 39, 34, 32, 49, 0, 36, 50, 49, 34, 43, 31, 34, 47, 36, 0, 34, 31, 44, 44, 40, 0, 44, 35, 0, 30, 41, 38, 32, 34, 48, 0, 30, 33, 51, 34, 43, 49, 50, 47, 34, 48, 0, 38, 43, 0, 52, 44, 43, 33, 34, 47, 41, 30, 43]\n"
          ],
          "name": "stdout"
        }
      ]
    },
    {
      "cell_type": "code",
      "metadata": {
        "id": "hROgQbZwhNXI"
      },
      "source": [
        "#train_x와 train_y에 대해 원-핫 인코딩 수행\n",
        "#글자단위 RNN에서는 입력 시퀀스에 대해서 워드 임베딩을 하지 않음\n",
        "#긍까 임베딩 층을 사용하지 않을 것이므로 train_x에 대해서도 원-핫 인코딩을 한다.\n"
      ],
      "execution_count": 21,
      "outputs": []
    },
    {
      "cell_type": "code",
      "metadata": {
        "id": "Pvcoaf4Bh3OZ"
      },
      "source": [
        "train_X = to_categorical(train_X)\n",
        "train_y = to_categorical(train_y)"
      ],
      "execution_count": 22,
      "outputs": []
    },
    {
      "cell_type": "code",
      "metadata": {
        "colab": {
          "base_uri": "https://localhost:8080/"
        },
        "id": "XaKMyZGMh425",
        "outputId": "b2805aef-3c55-459c-e934-476f478703d7"
      },
      "source": [
        "print('train_X의 크기(shape) : {}'.format(train_X.shape)) # 원-핫 인코딩\n",
        "print('train_y의 크기(shape) : {}'.format(train_y.shape)) # 원-핫 인코딩\n",
        "\n",
        "#샘플의 수 = 2,658\n",
        "#입력 시퀀스의 길이=60\n",
        "#각 벡터의 차원 =55"
      ],
      "execution_count": 24,
      "outputs": [
        {
          "output_type": "stream",
          "text": [
            "train_X의 크기(shape) : (2658, 60, 56)\n",
            "train_y의 크기(shape) : (2658, 60, 56)\n"
          ],
          "name": "stdout"
        }
      ]
    },
    {
      "cell_type": "markdown",
      "metadata": {
        "id": "Tk50TAHgh7uQ"
      },
      "source": [
        "![image.png](data:image/png;base64,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)"
      ]
    },
    {
      "cell_type": "code",
      "metadata": {
        "id": "i7cess4Uh6G4"
      },
      "source": [
        "#모델 설계하기\n",
        "from tensorflow.keras.models import Sequential\n",
        "from tensorflow.keras.layers import Dense, LSTM, TimeDistributed"
      ],
      "execution_count": 25,
      "outputs": []
    },
    {
      "cell_type": "code",
      "metadata": {
        "id": "vMh7kYHCiKco"
      },
      "source": [
        "model = Sequential()\n",
        "model.add(LSTM(256, input_shape=(None, train_X.shape[2]), return_sequences=True))\n",
        "model.add(LSTM(256, return_sequences=True))\n",
        "model.add(TimeDistributed(Dense(vocab_size, activation='softmax')))"
      ],
      "execution_count": 26,
      "outputs": []
    },
    {
      "cell_type": "code",
      "metadata": {
        "colab": {
          "base_uri": "https://localhost:8080/"
        },
        "id": "DNdYi33fiLea",
        "outputId": "378868bf-e32e-4949-8595-d494d7cb370c"
      },
      "source": [
        "model.compile(loss='categorical_crossentropy', optimizer='adam', metrics=['accuracy'])\n",
        "model.fit(train_X, train_y, epochs=80, verbose=2)"
      ],
      "execution_count": 27,
      "outputs": [
        {
          "output_type": "stream",
          "text": [
            "Epoch 1/80\n",
            "84/84 - 43s - loss: 3.0683 - accuracy: 0.1822\n",
            "Epoch 2/80\n",
            "84/84 - 40s - loss: 2.7029 - accuracy: 0.2571\n",
            "Epoch 3/80\n",
            "84/84 - 39s - loss: 2.3717 - accuracy: 0.3339\n",
            "Epoch 4/80\n",
            "84/84 - 39s - loss: 2.2410 - accuracy: 0.3639\n",
            "Epoch 5/80\n",
            "84/84 - 39s - loss: 2.1442 - accuracy: 0.3872\n",
            "Epoch 6/80\n",
            "84/84 - 39s - loss: 2.0661 - accuracy: 0.4049\n",
            "Epoch 7/80\n",
            "84/84 - 39s - loss: 1.9984 - accuracy: 0.4238\n",
            "Epoch 8/80\n",
            "84/84 - 40s - loss: 1.9387 - accuracy: 0.4394\n",
            "Epoch 9/80\n",
            "84/84 - 39s - loss: 1.8862 - accuracy: 0.4547\n",
            "Epoch 10/80\n",
            "84/84 - 39s - loss: 1.8392 - accuracy: 0.4666\n",
            "Epoch 11/80\n",
            "84/84 - 39s - loss: 1.7920 - accuracy: 0.4808\n",
            "Epoch 12/80\n",
            "84/84 - 40s - loss: 1.7517 - accuracy: 0.4906\n",
            "Epoch 13/80\n",
            "84/84 - 40s - loss: 1.7126 - accuracy: 0.5002\n",
            "Epoch 14/80\n",
            "84/84 - 41s - loss: 1.6777 - accuracy: 0.5102\n",
            "Epoch 15/80\n",
            "84/84 - 41s - loss: 1.6408 - accuracy: 0.5189\n",
            "Epoch 16/80\n",
            "84/84 - 41s - loss: 1.6092 - accuracy: 0.5273\n",
            "Epoch 17/80\n",
            "84/84 - 41s - loss: 1.5802 - accuracy: 0.5349\n",
            "Epoch 18/80\n",
            "84/84 - 41s - loss: 1.5458 - accuracy: 0.5452\n",
            "Epoch 19/80\n",
            "84/84 - 41s - loss: 1.5157 - accuracy: 0.5522\n",
            "Epoch 20/80\n",
            "84/84 - 41s - loss: 1.4877 - accuracy: 0.5597\n",
            "Epoch 21/80\n",
            "84/84 - 41s - loss: 1.4576 - accuracy: 0.5682\n",
            "Epoch 22/80\n",
            "84/84 - 41s - loss: 1.4303 - accuracy: 0.5753\n",
            "Epoch 23/80\n",
            "84/84 - 41s - loss: 1.4039 - accuracy: 0.5825\n",
            "Epoch 24/80\n",
            "84/84 - 41s - loss: 1.3738 - accuracy: 0.5914\n",
            "Epoch 25/80\n",
            "84/84 - 41s - loss: 1.3469 - accuracy: 0.5987\n",
            "Epoch 26/80\n",
            "84/84 - 41s - loss: 1.3211 - accuracy: 0.6060\n",
            "Epoch 27/80\n",
            "84/84 - 41s - loss: 1.2963 - accuracy: 0.6138\n",
            "Epoch 28/80\n",
            "84/84 - 42s - loss: 1.2677 - accuracy: 0.6211\n",
            "Epoch 29/80\n",
            "84/84 - 43s - loss: 1.2421 - accuracy: 0.6293\n",
            "Epoch 30/80\n",
            "84/84 - 43s - loss: 1.2132 - accuracy: 0.6376\n",
            "Epoch 31/80\n",
            "84/84 - 43s - loss: 1.1887 - accuracy: 0.6443\n",
            "Epoch 32/80\n",
            "84/84 - 43s - loss: 1.1566 - accuracy: 0.6547\n",
            "Epoch 33/80\n",
            "84/84 - 43s - loss: 1.1317 - accuracy: 0.6611\n",
            "Epoch 34/80\n",
            "84/84 - 43s - loss: 1.1037 - accuracy: 0.6692\n",
            "Epoch 35/80\n",
            "84/84 - 42s - loss: 1.0763 - accuracy: 0.6782\n",
            "Epoch 36/80\n",
            "84/84 - 42s - loss: 1.0576 - accuracy: 0.6836\n",
            "Epoch 37/80\n",
            "84/84 - 43s - loss: 1.0251 - accuracy: 0.6927\n",
            "Epoch 38/80\n",
            "84/84 - 43s - loss: 0.9976 - accuracy: 0.7013\n",
            "Epoch 39/80\n",
            "84/84 - 43s - loss: 0.9696 - accuracy: 0.7097\n",
            "Epoch 40/80\n",
            "84/84 - 43s - loss: 0.9420 - accuracy: 0.7182\n",
            "Epoch 41/80\n",
            "84/84 - 43s - loss: 0.9228 - accuracy: 0.7242\n",
            "Epoch 42/80\n",
            "84/84 - 42s - loss: 0.8884 - accuracy: 0.7356\n",
            "Epoch 43/80\n",
            "84/84 - 43s - loss: 0.8635 - accuracy: 0.7435\n",
            "Epoch 44/80\n",
            "84/84 - 43s - loss: 0.8337 - accuracy: 0.7531\n",
            "Epoch 45/80\n",
            "84/84 - 43s - loss: 0.8133 - accuracy: 0.7585\n",
            "Epoch 46/80\n",
            "84/84 - 43s - loss: 0.7828 - accuracy: 0.7687\n",
            "Epoch 47/80\n",
            "84/84 - 43s - loss: 0.7649 - accuracy: 0.7738\n",
            "Epoch 48/80\n",
            "84/84 - 43s - loss: 0.7348 - accuracy: 0.7839\n",
            "Epoch 49/80\n",
            "84/84 - 43s - loss: 0.7114 - accuracy: 0.7908\n",
            "Epoch 50/80\n",
            "84/84 - 43s - loss: 0.6875 - accuracy: 0.7992\n",
            "Epoch 51/80\n",
            "84/84 - 42s - loss: 0.6598 - accuracy: 0.8082\n",
            "Epoch 52/80\n",
            "84/84 - 41s - loss: 0.6372 - accuracy: 0.8159\n",
            "Epoch 53/80\n",
            "84/84 - 41s - loss: 0.6152 - accuracy: 0.8220\n",
            "Epoch 54/80\n",
            "84/84 - 40s - loss: 0.5935 - accuracy: 0.8289\n",
            "Epoch 55/80\n",
            "84/84 - 41s - loss: 0.5818 - accuracy: 0.8308\n",
            "Epoch 56/80\n",
            "84/84 - 41s - loss: 0.5550 - accuracy: 0.8414\n",
            "Epoch 57/80\n",
            "84/84 - 40s - loss: 0.5280 - accuracy: 0.8509\n",
            "Epoch 58/80\n",
            "84/84 - 40s - loss: 0.5123 - accuracy: 0.8557\n",
            "Epoch 59/80\n",
            "84/84 - 40s - loss: 0.4919 - accuracy: 0.8624\n",
            "Epoch 60/80\n",
            "84/84 - 41s - loss: 0.4807 - accuracy: 0.8650\n",
            "Epoch 61/80\n",
            "84/84 - 40s - loss: 0.4568 - accuracy: 0.8731\n",
            "Epoch 62/80\n",
            "84/84 - 40s - loss: 0.4478 - accuracy: 0.8749\n",
            "Epoch 63/80\n",
            "84/84 - 40s - loss: 0.4227 - accuracy: 0.8849\n",
            "Epoch 64/80\n",
            "84/84 - 40s - loss: 0.4110 - accuracy: 0.8871\n",
            "Epoch 65/80\n",
            "84/84 - 40s - loss: 0.3860 - accuracy: 0.8978\n",
            "Epoch 66/80\n",
            "84/84 - 41s - loss: 0.3733 - accuracy: 0.9013\n",
            "Epoch 67/80\n",
            "84/84 - 40s - loss: 0.3661 - accuracy: 0.9020\n",
            "Epoch 68/80\n",
            "84/84 - 41s - loss: 0.3525 - accuracy: 0.9068\n",
            "Epoch 69/80\n",
            "84/84 - 40s - loss: 0.3256 - accuracy: 0.9175\n",
            "Epoch 70/80\n",
            "84/84 - 40s - loss: 0.3169 - accuracy: 0.9193\n",
            "Epoch 71/80\n",
            "84/84 - 40s - loss: 0.3095 - accuracy: 0.9212\n",
            "Epoch 72/80\n",
            "84/84 - 41s - loss: 0.2938 - accuracy: 0.9262\n",
            "Epoch 73/80\n",
            "84/84 - 41s - loss: 0.2761 - accuracy: 0.9321\n",
            "Epoch 74/80\n",
            "84/84 - 41s - loss: 0.2719 - accuracy: 0.9335\n",
            "Epoch 75/80\n",
            "84/84 - 41s - loss: 0.2898 - accuracy: 0.9236\n",
            "Epoch 76/80\n",
            "84/84 - 42s - loss: 0.2656 - accuracy: 0.9334\n",
            "Epoch 77/80\n",
            "84/84 - 41s - loss: 0.2447 - accuracy: 0.9409\n",
            "Epoch 78/80\n",
            "84/84 - 41s - loss: 0.2352 - accuracy: 0.9431\n",
            "Epoch 79/80\n",
            "84/84 - 41s - loss: 0.2196 - accuracy: 0.9480\n",
            "Epoch 80/80\n",
            "84/84 - 42s - loss: 0.2099 - accuracy: 0.9505\n"
          ],
          "name": "stdout"
        },
        {
          "output_type": "execute_result",
          "data": {
            "text/plain": [
              "<tensorflow.python.keras.callbacks.History at 0x7f38b597e1d0>"
            ]
          },
          "metadata": {
            "tags": []
          },
          "execution_count": 27
        }
      ]
    },
    {
      "cell_type": "code",
      "metadata": {
        "id": "AZ6oRSG6iMt4"
      },
      "source": [
        "def sentence_generation(model, length):\n",
        "    ix = [np.random.randint(vocab_size)] # 글자에 대한 랜덤 인덱스 생성\n",
        "    y_char = [index_to_char[ix[-1]]] # 랜덤 익덱스로부터 글자 생성\n",
        "    print(ix[-1],'번 글자',y_char[-1],'로 예측을 시작!')\n",
        "    X = np.zeros((1, length, vocab_size)) # (1, length, 55) 크기의 X 생성. 즉, LSTM의 입력 시퀀스 생성\n",
        "\n",
        "    for i in range(length):\n",
        "        X[0][i][ix[-1]] = 1 # X[0][i][예측한 글자의 인덱스] = 1, 즉, 예측 글자를 다음 입력 시퀀스에 추가\n",
        "        print(index_to_char[ix[-1]], end=\"\")\n",
        "        ix = np.argmax(model.predict(X[:, :i+1, :])[0], 1)\n",
        "        y_char.append(index_to_char[ix[-1]])\n",
        "    return ('').join(y_char)"
      ],
      "execution_count": 28,
      "outputs": []
    },
    {
      "cell_type": "code",
      "metadata": {
        "colab": {
          "base_uri": "https://localhost:8080/",
          "height": 71
        },
        "id": "YmEX01R0iOL5",
        "outputId": "496f898f-d5ff-4ae5-8e7a-5c6174389b66"
      },
      "source": [
        "sentence_generation(model, 100)"
      ],
      "execution_count": 29,
      "outputs": [
        {
          "output_type": "stream",
          "text": [
            "26 번 글자 ? 로 예측을 시작!\n",
            "? she asked. yes, thats it, said the cat, alves a looking and under the united states and you are lo"
          ],
          "name": "stdout"
        },
        {
          "output_type": "execute_result",
          "data": {
            "application/vnd.google.colaboratory.intrinsic+json": {
              "type": "string"
            },
            "text/plain": [
              "'? she asked. yes, thats it, said the cat, alves a looking and under the united states and you are loc'"
            ]
          },
          "metadata": {
            "tags": []
          },
          "execution_count": 29
        }
      ]
    },
    {
      "cell_type": "markdown",
      "metadata": {
        "id": "XT4CT82xiU0Q"
      },
      "source": [
        "글자단위 RNN(CharRNN)으로 텍스트 생성하기"
      ]
    },
    {
      "cell_type": "code",
      "metadata": {
        "id": "fWtWTPj9iXTY"
      },
      "source": [
        "import numpy as np\n",
        "from tensorflow.keras.utils import to_categorical\n",
        "\n",
        "text='''\n",
        "I get on with life as a programmer,\n",
        "I like to contemplate beer.\n",
        "But when I start to daydream,\n",
        "My mind turns straight to wine.\n",
        "\n",
        "Do I love wine more than beer?\n",
        "\n",
        "I like to use words about beer.\n",
        "But when I stop my talking,\n",
        "My mind turns straight to wine.\n",
        "\n",
        "I hate bugs and errors.\n",
        "But I just think back to wine,\n",
        "And I'm happy once again.\n",
        "\n",
        "I like to hang out with programming and deep learning.\n",
        "But when left alone,\n",
        "My mind turns straight to wine.\n",
        "'''"
      ],
      "execution_count": 30,
      "outputs": []
    },
    {
      "cell_type": "code",
      "metadata": {
        "colab": {
          "base_uri": "https://localhost:8080/"
        },
        "id": "Suje9WdDici4",
        "outputId": "20353e8c-2503-4bb8-d3df-c2efe6715423"
      },
      "source": [
        "#단락구분 없애고 하나의 문자열로 재저장\n",
        "tokens=text.split()\n",
        "text=' '.join(tokens)\n",
        "print(text)"
      ],
      "execution_count": 32,
      "outputs": [
        {
          "output_type": "stream",
          "text": [
            "I get on with life as a programmer, I like to contemplate beer. But when I start to daydream, My mind turns straight to wine. Do I love wine more than beer? I like to use words about beer. But when I stop my talking, My mind turns straight to wine. I hate bugs and errors. But I just think back to wine, And I'm happy once again. I like to hang out with programming and deep learning. But when left alone, My mind turns straight to wine.\n"
          ],
          "name": "stdout"
        }
      ]
    },
    {
      "cell_type": "code",
      "metadata": {
        "colab": {
          "base_uri": "https://localhost:8080/"
        },
        "id": "6dSogWEwikLp",
        "outputId": "bf970f60-e10a-4aa7-eeff-d0278aaa7546"
      },
      "source": [
        "#글자 집합 만들겠습니다\n",
        "char_vocab=sorted(list(set(text)))\n",
        "print(char_vocab)"
      ],
      "execution_count": 33,
      "outputs": [
        {
          "output_type": "stream",
          "text": [
            "[' ', \"'\", ',', '.', '?', 'A', 'B', 'D', 'I', 'M', 'a', 'b', 'c', 'd', 'e', 'f', 'g', 'h', 'i', 'j', 'k', 'l', 'm', 'n', 'o', 'p', 'r', 's', 't', 'u', 'v', 'w', 'y']\n"
          ],
          "name": "stdout"
        }
      ]
    },
    {
      "cell_type": "code",
      "metadata": {
        "colab": {
          "base_uri": "https://localhost:8080/"
        },
        "id": "47NiSd1dipGH",
        "outputId": "ba1b7d67-c81a-4ce6-eb27-ed613f593f9b"
      },
      "source": [
        "vocab_size=len(char_vocab)\n",
        "print(\"글자 집합의 크기 : {}\".format(vocab_size))"
      ],
      "execution_count": 34,
      "outputs": [
        {
          "output_type": "stream",
          "text": [
            "글자 집합의 크기 : 33\n"
          ],
          "name": "stdout"
        }
      ]
    },
    {
      "cell_type": "code",
      "metadata": {
        "colab": {
          "base_uri": "https://localhost:8080/"
        },
        "id": "27wd4LFIivvI",
        "outputId": "e098c5c3-2208-4de1-ca68-1b1db1c632c0"
      },
      "source": [
        "char_to_index = dict((c, i) for i, c in enumerate(char_vocab)) # 글자에 고유한 정수 인덱스 부여\n",
        "print(char_to_index)\n",
        "\n",
        "\n",
        "#이번에 만든 글자집합은 훈련 데이터에 등장한 알파벳의 대, 소문자를 구분하고 구두점과 공백을 포함\n",
        "\n"
      ],
      "execution_count": 35,
      "outputs": [
        {
          "output_type": "stream",
          "text": [
            "{' ': 0, \"'\": 1, ',': 2, '.': 3, '?': 4, 'A': 5, 'B': 6, 'D': 7, 'I': 8, 'M': 9, 'a': 10, 'b': 11, 'c': 12, 'd': 13, 'e': 14, 'f': 15, 'g': 16, 'h': 17, 'i': 18, 'j': 19, 'k': 20, 'l': 21, 'm': 22, 'n': 23, 'o': 24, 'p': 25, 'r': 26, 's': 27, 't': 28, 'u': 29, 'v': 30, 'w': 31, 'y': 32}\n"
          ],
          "name": "stdout"
        }
      ]
    },
    {
      "cell_type": "code",
      "metadata": {
        "id": "ykm9V5zji6_W"
      },
      "source": [
        "#훈련에 사용할 문장 샘플을 만들것이다.\n",
        "#여기서는 RNN을 이용해 생성한 텍스트 챕터와 유사하게 데이터를 구성하는데 다만, 단위가 글자단위다\n",
        "#ex) 훈련데이터에 student라는 단어가 있고 입력 시퀀스의 길이가 5이면\n",
        "\n",
        "# Example) 5개의 입력 글자 시퀀스로부터 다음 글자 시퀀스를 예측. 즉, RNN의 time step은 5번\n",
        "#stude -> n \n",
        "#tuden -> t"
      ],
      "execution_count": 36,
      "outputs": []
    },
    {
      "cell_type": "code",
      "metadata": {
        "colab": {
          "base_uri": "https://localhost:8080/"
        },
        "id": "TNwNIy2yjnWZ",
        "outputId": "9a9582b7-a4df-4e42-9d63-709a3c31b43f"
      },
      "source": [
        "#모든 샘플 길이가 11이되도록\n",
        "length = 11\n",
        "sequences = []\n",
        "for i in range(length, len(text)):\n",
        "    seq = text[i-length:i] # 길이 11의 문자열을 지속적으로 만든다.\n",
        "    sequences.append(seq)\n",
        "print('총 훈련 샘플의 수: %d' % len(sequences))"
      ],
      "execution_count": 37,
      "outputs": [
        {
          "output_type": "stream",
          "text": [
            "총 훈련 샘플의 수: 426\n"
          ],
          "name": "stdout"
        }
      ]
    },
    {
      "cell_type": "code",
      "metadata": {
        "colab": {
          "base_uri": "https://localhost:8080/"
        },
        "id": "0IwBJDXxjraZ",
        "outputId": "342eccb4-1e5c-4c47-b950-cd12d78760dd"
      },
      "source": [
        "sequences[:10]"
      ],
      "execution_count": 38,
      "outputs": [
        {
          "output_type": "execute_result",
          "data": {
            "text/plain": [
              "['I get on wi',\n",
              " ' get on wit',\n",
              " 'get on with',\n",
              " 'et on with ',\n",
              " 't on with l',\n",
              " ' on with li',\n",
              " 'on with lif',\n",
              " 'n with life',\n",
              " ' with life ',\n",
              " 'with life a']"
            ]
          },
          "metadata": {
            "tags": []
          },
          "execution_count": 38
        }
      ]
    },
    {
      "cell_type": "code",
      "metadata": {
        "id": "KH45yAFZjtRb"
      },
      "source": [
        "#전체 데이터에 대해 정수 인코딩\n",
        "X = []\n",
        "for line in sequences: # 전체 데이터에서 문장 샘플을 1개씩 꺼낸다.\n",
        "    temp_X = [char_to_index[char] for char in line] # 문장 샘플에서 각 글자에 대해서 정수 인코딩을 수행.\n",
        "    X.append(temp_X)"
      ],
      "execution_count": 39,
      "outputs": []
    },
    {
      "cell_type": "code",
      "metadata": {
        "colab": {
          "base_uri": "https://localhost:8080/"
        },
        "id": "_xvZKfIWjwtZ",
        "outputId": "77cfb4ba-b4e2-4027-f299-b218d66cd48b"
      },
      "source": [
        "#정수인코딩 결과\n",
        "for line in X[:5]:\n",
        "    print(line)"
      ],
      "execution_count": 40,
      "outputs": [
        {
          "output_type": "stream",
          "text": [
            "[8, 0, 16, 14, 28, 0, 24, 23, 0, 31, 18]\n",
            "[0, 16, 14, 28, 0, 24, 23, 0, 31, 18, 28]\n",
            "[16, 14, 28, 0, 24, 23, 0, 31, 18, 28, 17]\n",
            "[14, 28, 0, 24, 23, 0, 31, 18, 28, 17, 0]\n",
            "[28, 0, 24, 23, 0, 31, 18, 28, 17, 0, 21]\n"
          ],
          "name": "stdout"
        }
      ]
    },
    {
      "cell_type": "code",
      "metadata": {
        "id": "Ow0ZAQfOjzkn"
      },
      "source": [
        "#모든 샘플 문장에 대해서 맨 마지막 글자 분리\n",
        "sequences = np.array(X)\n",
        "X = sequences[:,:-1]\n",
        "y = sequences[:,-1] # 맨 마지막 위치의 글자를 분리"
      ],
      "execution_count": 41,
      "outputs": []
    },
    {
      "cell_type": "code",
      "metadata": {
        "id": "v-6A28guj4jJ"
      },
      "source": [
        "sequences = [to_categorical(x, num_classes=vocab_size) for x in X] # X에 대한 원-핫 인코딩\n",
        "X = np.array(sequences)\n",
        "y = to_categorical(y, num_classes=vocab_size) # y에 대한 원-핫 인코딩"
      ],
      "execution_count": 42,
      "outputs": []
    },
    {
      "cell_type": "code",
      "metadata": {
        "colab": {
          "base_uri": "https://localhost:8080/"
        },
        "id": "kJPUF155j57X",
        "outputId": "2d7b04a3-7235-42e2-f8f7-c981df4d77dc"
      },
      "source": [
        "print(X.shape)"
      ],
      "execution_count": 43,
      "outputs": [
        {
          "output_type": "stream",
          "text": [
            "(426, 10, 33)\n"
          ],
          "name": "stdout"
        }
      ]
    },
    {
      "cell_type": "markdown",
      "metadata": {
        "id": "tkFybgmEj7oR"
      },
      "source": [
        "![image.png](data:image/png;base64,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)"
      ]
    },
    {
      "cell_type": "code",
      "metadata": {
        "id": "qyuInlssj8o2"
      },
      "source": [
        "#모델 설계하기\n",
        "from tensorflow.keras.models import Sequential\n",
        "from tensorflow.keras.layers import Dense, LSTM\n",
        "from tensorflow.keras.preprocessing.sequence import pad_sequences"
      ],
      "execution_count": 44,
      "outputs": []
    },
    {
      "cell_type": "code",
      "metadata": {
        "id": "297HneR6j_Jq"
      },
      "source": [
        "model = Sequential()\n",
        "model.add(LSTM(80, input_shape=(X.shape[1], X.shape[2])))\n",
        "model.add(Dense(vocab_size, activation='softmax'))"
      ],
      "execution_count": 45,
      "outputs": []
    },
    {
      "cell_type": "code",
      "metadata": {
        "id": "BKeiZyDZkAo_"
      },
      "source": [
        "#LSTM을 사용하고 은닉상태 크기는 80 출ㄹ력층에 단어 집합의 크기만큼 뉴런을 배치하여 모델 설계\n"
      ],
      "execution_count": 46,
      "outputs": []
    },
    {
      "cell_type": "code",
      "metadata": {
        "colab": {
          "base_uri": "https://localhost:8080/"
        },
        "id": "JwXiWsd9kFl2",
        "outputId": "0bd10ecd-13c0-4eff-b294-19eee3bb3379"
      },
      "source": [
        "model.compile(loss='categorical_crossentropy', optimizer='adam', metrics=['accuracy'])\n",
        "model.fit(X, y, epochs=100, verbose=2)"
      ],
      "execution_count": 47,
      "outputs": [
        {
          "output_type": "stream",
          "text": [
            "Epoch 1/100\n",
            "14/14 - 2s - loss: 3.4550 - accuracy: 0.1737\n",
            "Epoch 2/100\n",
            "14/14 - 0s - loss: 3.2677 - accuracy: 0.1972\n",
            "Epoch 3/100\n",
            "14/14 - 0s - loss: 3.0324 - accuracy: 0.1972\n",
            "Epoch 4/100\n",
            "14/14 - 0s - loss: 2.9837 - accuracy: 0.1972\n",
            "Epoch 5/100\n",
            "14/14 - 0s - loss: 2.9568 - accuracy: 0.1972\n",
            "Epoch 6/100\n",
            "14/14 - 0s - loss: 2.9400 - accuracy: 0.1972\n",
            "Epoch 7/100\n",
            "14/14 - 0s - loss: 2.9142 - accuracy: 0.1972\n",
            "Epoch 8/100\n",
            "14/14 - 0s - loss: 2.8969 - accuracy: 0.1972\n",
            "Epoch 9/100\n",
            "14/14 - 0s - loss: 2.8729 - accuracy: 0.1972\n",
            "Epoch 10/100\n",
            "14/14 - 0s - loss: 2.8438 - accuracy: 0.1972\n",
            "Epoch 11/100\n",
            "14/14 - 0s - loss: 2.8074 - accuracy: 0.2066\n",
            "Epoch 12/100\n",
            "14/14 - 0s - loss: 2.7827 - accuracy: 0.2019\n",
            "Epoch 13/100\n",
            "14/14 - 0s - loss: 2.7527 - accuracy: 0.2347\n",
            "Epoch 14/100\n",
            "14/14 - 0s - loss: 2.7125 - accuracy: 0.2277\n",
            "Epoch 15/100\n",
            "14/14 - 0s - loss: 2.6583 - accuracy: 0.2394\n",
            "Epoch 16/100\n",
            "14/14 - 0s - loss: 2.6141 - accuracy: 0.2488\n",
            "Epoch 17/100\n",
            "14/14 - 0s - loss: 2.5718 - accuracy: 0.2723\n",
            "Epoch 18/100\n",
            "14/14 - 0s - loss: 2.5087 - accuracy: 0.2629\n",
            "Epoch 19/100\n",
            "14/14 - 0s - loss: 2.4487 - accuracy: 0.3146\n",
            "Epoch 20/100\n",
            "14/14 - 0s - loss: 2.3917 - accuracy: 0.2981\n",
            "Epoch 21/100\n",
            "14/14 - 0s - loss: 2.3281 - accuracy: 0.3380\n",
            "Epoch 22/100\n",
            "14/14 - 0s - loss: 2.2798 - accuracy: 0.3239\n",
            "Epoch 23/100\n",
            "14/14 - 0s - loss: 2.2193 - accuracy: 0.3615\n",
            "Epoch 24/100\n",
            "14/14 - 0s - loss: 2.1666 - accuracy: 0.3826\n",
            "Epoch 25/100\n",
            "14/14 - 0s - loss: 2.1253 - accuracy: 0.3826\n",
            "Epoch 26/100\n",
            "14/14 - 0s - loss: 2.0653 - accuracy: 0.4272\n",
            "Epoch 27/100\n",
            "14/14 - 0s - loss: 2.0190 - accuracy: 0.4155\n",
            "Epoch 28/100\n",
            "14/14 - 0s - loss: 1.9519 - accuracy: 0.4413\n",
            "Epoch 29/100\n",
            "14/14 - 0s - loss: 1.9031 - accuracy: 0.4695\n",
            "Epoch 30/100\n",
            "14/14 - 0s - loss: 1.8658 - accuracy: 0.4601\n",
            "Epoch 31/100\n",
            "14/14 - 0s - loss: 1.8234 - accuracy: 0.5188\n",
            "Epoch 32/100\n",
            "14/14 - 0s - loss: 1.7602 - accuracy: 0.5141\n",
            "Epoch 33/100\n",
            "14/14 - 0s - loss: 1.6999 - accuracy: 0.5376\n",
            "Epoch 34/100\n",
            "14/14 - 0s - loss: 1.6590 - accuracy: 0.5751\n",
            "Epoch 35/100\n",
            "14/14 - 0s - loss: 1.6176 - accuracy: 0.5704\n",
            "Epoch 36/100\n",
            "14/14 - 0s - loss: 1.5633 - accuracy: 0.5986\n",
            "Epoch 37/100\n",
            "14/14 - 0s - loss: 1.5266 - accuracy: 0.5845\n",
            "Epoch 38/100\n",
            "14/14 - 0s - loss: 1.4749 - accuracy: 0.6291\n",
            "Epoch 39/100\n",
            "14/14 - 0s - loss: 1.4423 - accuracy: 0.6268\n",
            "Epoch 40/100\n",
            "14/14 - 0s - loss: 1.3801 - accuracy: 0.6549\n",
            "Epoch 41/100\n",
            "14/14 - 0s - loss: 1.3372 - accuracy: 0.6714\n",
            "Epoch 42/100\n",
            "14/14 - 0s - loss: 1.2914 - accuracy: 0.6737\n",
            "Epoch 43/100\n",
            "14/14 - 0s - loss: 1.2529 - accuracy: 0.6784\n",
            "Epoch 44/100\n",
            "14/14 - 0s - loss: 1.2179 - accuracy: 0.6854\n",
            "Epoch 45/100\n",
            "14/14 - 0s - loss: 1.2040 - accuracy: 0.7160\n",
            "Epoch 46/100\n",
            "14/14 - 0s - loss: 1.1373 - accuracy: 0.7183\n",
            "Epoch 47/100\n",
            "14/14 - 0s - loss: 1.0936 - accuracy: 0.7300\n",
            "Epoch 48/100\n",
            "14/14 - 0s - loss: 1.0494 - accuracy: 0.7418\n",
            "Epoch 49/100\n",
            "14/14 - 0s - loss: 1.0157 - accuracy: 0.7465\n",
            "Epoch 50/100\n",
            "14/14 - 0s - loss: 0.9931 - accuracy: 0.7840\n",
            "Epoch 51/100\n",
            "14/14 - 0s - loss: 0.9484 - accuracy: 0.7840\n",
            "Epoch 52/100\n",
            "14/14 - 0s - loss: 0.9161 - accuracy: 0.8005\n",
            "Epoch 53/100\n",
            "14/14 - 0s - loss: 0.8763 - accuracy: 0.8099\n",
            "Epoch 54/100\n",
            "14/14 - 0s - loss: 0.8513 - accuracy: 0.8075\n",
            "Epoch 55/100\n",
            "14/14 - 0s - loss: 0.8271 - accuracy: 0.8216\n",
            "Epoch 56/100\n",
            "14/14 - 0s - loss: 0.7801 - accuracy: 0.8216\n",
            "Epoch 57/100\n",
            "14/14 - 0s - loss: 0.7561 - accuracy: 0.8427\n",
            "Epoch 58/100\n",
            "14/14 - 0s - loss: 0.7352 - accuracy: 0.8521\n",
            "Epoch 59/100\n",
            "14/14 - 0s - loss: 0.7164 - accuracy: 0.8638\n",
            "Epoch 60/100\n",
            "14/14 - 0s - loss: 0.6835 - accuracy: 0.8732\n",
            "Epoch 61/100\n",
            "14/14 - 0s - loss: 0.6534 - accuracy: 0.8709\n",
            "Epoch 62/100\n",
            "14/14 - 0s - loss: 0.6101 - accuracy: 0.8897\n",
            "Epoch 63/100\n",
            "14/14 - 0s - loss: 0.5942 - accuracy: 0.8991\n",
            "Epoch 64/100\n",
            "14/14 - 0s - loss: 0.5811 - accuracy: 0.8967\n",
            "Epoch 65/100\n",
            "14/14 - 0s - loss: 0.5466 - accuracy: 0.9155\n",
            "Epoch 66/100\n",
            "14/14 - 0s - loss: 0.5223 - accuracy: 0.9225\n",
            "Epoch 67/100\n",
            "14/14 - 0s - loss: 0.5005 - accuracy: 0.9272\n",
            "Epoch 68/100\n",
            "14/14 - 0s - loss: 0.4823 - accuracy: 0.9390\n",
            "Epoch 69/100\n",
            "14/14 - 0s - loss: 0.4573 - accuracy: 0.9437\n",
            "Epoch 70/100\n",
            "14/14 - 0s - loss: 0.4557 - accuracy: 0.9437\n",
            "Epoch 71/100\n",
            "14/14 - 0s - loss: 0.4298 - accuracy: 0.9531\n",
            "Epoch 72/100\n",
            "14/14 - 0s - loss: 0.4185 - accuracy: 0.9460\n",
            "Epoch 73/100\n",
            "14/14 - 0s - loss: 0.3954 - accuracy: 0.9554\n",
            "Epoch 74/100\n",
            "14/14 - 0s - loss: 0.3854 - accuracy: 0.9507\n",
            "Epoch 75/100\n",
            "14/14 - 0s - loss: 0.3652 - accuracy: 0.9624\n",
            "Epoch 76/100\n",
            "14/14 - 0s - loss: 0.3443 - accuracy: 0.9601\n",
            "Epoch 77/100\n",
            "14/14 - 0s - loss: 0.3249 - accuracy: 0.9718\n",
            "Epoch 78/100\n",
            "14/14 - 0s - loss: 0.3117 - accuracy: 0.9671\n",
            "Epoch 79/100\n",
            "14/14 - 0s - loss: 0.2992 - accuracy: 0.9695\n",
            "Epoch 80/100\n",
            "14/14 - 0s - loss: 0.2870 - accuracy: 0.9718\n",
            "Epoch 81/100\n",
            "14/14 - 0s - loss: 0.2811 - accuracy: 0.9765\n",
            "Epoch 82/100\n",
            "14/14 - 0s - loss: 0.2709 - accuracy: 0.9765\n",
            "Epoch 83/100\n",
            "14/14 - 0s - loss: 0.2646 - accuracy: 0.9789\n",
            "Epoch 84/100\n",
            "14/14 - 0s - loss: 0.2690 - accuracy: 0.9789\n",
            "Epoch 85/100\n",
            "14/14 - 0s - loss: 0.2707 - accuracy: 0.9789\n",
            "Epoch 86/100\n",
            "14/14 - 0s - loss: 0.2538 - accuracy: 0.9765\n",
            "Epoch 87/100\n",
            "14/14 - 0s - loss: 0.2273 - accuracy: 0.9836\n",
            "Epoch 88/100\n",
            "14/14 - 0s - loss: 0.2162 - accuracy: 0.9836\n",
            "Epoch 89/100\n",
            "14/14 - 0s - loss: 0.2102 - accuracy: 0.9836\n",
            "Epoch 90/100\n",
            "14/14 - 0s - loss: 0.1970 - accuracy: 0.9836\n",
            "Epoch 91/100\n",
            "14/14 - 0s - loss: 0.1918 - accuracy: 0.9836\n",
            "Epoch 92/100\n",
            "14/14 - 0s - loss: 0.1878 - accuracy: 0.9859\n",
            "Epoch 93/100\n",
            "14/14 - 0s - loss: 0.1876 - accuracy: 0.9836\n",
            "Epoch 94/100\n",
            "14/14 - 0s - loss: 0.1881 - accuracy: 0.9789\n",
            "Epoch 95/100\n",
            "14/14 - 0s - loss: 0.1942 - accuracy: 0.9742\n",
            "Epoch 96/100\n",
            "14/14 - 0s - loss: 0.1873 - accuracy: 0.9695\n",
            "Epoch 97/100\n",
            "14/14 - 0s - loss: 0.1738 - accuracy: 0.9765\n",
            "Epoch 98/100\n",
            "14/14 - 0s - loss: 0.1609 - accuracy: 0.9789\n",
            "Epoch 99/100\n",
            "14/14 - 0s - loss: 0.1531 - accuracy: 0.9859\n",
            "Epoch 100/100\n",
            "14/14 - 0s - loss: 0.1462 - accuracy: 0.9836\n"
          ],
          "name": "stdout"
        },
        {
          "output_type": "execute_result",
          "data": {
            "text/plain": [
              "<tensorflow.python.keras.callbacks.History at 0x7f38b1301ad0>"
            ]
          },
          "metadata": {
            "tags": []
          },
          "execution_count": 47
        }
      ]
    },
    {
      "cell_type": "code",
      "metadata": {
        "id": "uNE0GOVXkG0o"
      },
      "source": [
        "def sentence_generation(model, char_to_index, seq_length, seed_text, n):\n",
        "# 모델, 인덱스 정보, 문장 길이, 초기 시퀀스, 반복 횟수\n",
        "    init_text = seed_text # 문장 생성에 사용할 초기 시퀀스\n",
        "    sentence = ''\n",
        "\n",
        "    for _ in range(n): # n번 반복\n",
        "        encoded = [char_to_index[char] for char in seed_text] # 현재 시퀀스에 대한 정수 인코딩\n",
        "        encoded = pad_sequences([encoded], maxlen=seq_length, padding='pre') # 데이터에 대한 패딩\n",
        "        encoded = to_categorical(encoded, num_classes=len(char_to_index))\n",
        "        result = model.predict_classes(encoded, verbose=0)\n",
        "        # 입력한 X(현재 시퀀스)에 대해서 y를 예측하고 y(예측한 글자)를 result에 저장.\n",
        "        for char, index in char_to_index.items(): # 만약 예측한 글자와 인덱스와 동일한 글자가 있다면\n",
        "            if index == result: # 해당 글자가 예측 글자이므로 break\n",
        "                break\n",
        "        seed_text=seed_text + char # 현재 시퀀스 + 예측 글자를 현재 시퀀스로 변경\n",
        "        sentence=sentence + char # 예측 글자를 문장에 저장\n",
        "        # for문이므로 이 작업을 다시 반복\n",
        "\n",
        "    sentence = init_text + sentence\n",
        "    return sentence\n",
        "  \n",
        "  #문장을 생성하는 함수\n",
        "  "
      ],
      "execution_count": 48,
      "outputs": []
    },
    {
      "cell_type": "code",
      "metadata": {
        "colab": {
          "base_uri": "https://localhost:8080/"
        },
        "id": "MvCgnKyUkKJY",
        "outputId": "9dfe1888-ee0c-4418-fc98-120afb23fe6e"
      },
      "source": [
        "print(sentence_generation(model, char_to_index, 10, 'I get on w', 80))"
      ],
      "execution_count": 49,
      "outputs": [
        {
          "output_type": "stream",
          "text": [
            "/usr/local/lib/python3.7/dist-packages/tensorflow/python/keras/engine/sequential.py:455: UserWarning: `model.predict_classes()` is deprecated and will be removed after 2021-01-01. Please use instead:* `np.argmax(model.predict(x), axis=-1)`,   if your model does multi-class classification   (e.g. if it uses a `softmax` last-layer activation).* `(model.predict(x) > 0.5).astype(\"int32\")`,   if your model does binary classification   (e.g. if it uses a `sigmoid` last-layer activation).\n",
            "  warnings.warn('`model.predict_classes()` is deprecated and '\n"
          ],
          "name": "stderr"
        },
        {
          "output_type": "stream",
          "text": [
            "I get on with life as a programmer, I like to contemplate beer. But when I stop my talking\n"
          ],
          "name": "stdout"
        }
      ]
    }
  ]
}