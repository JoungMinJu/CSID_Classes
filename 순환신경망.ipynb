{
  "nbformat": 4,
  "nbformat_minor": 0,
  "metadata": {
    "colab": {
      "name": "순환신경망.ipynb",
      "provenance": [],
      "authorship_tag": "ABX9TyO6vy0py74nLmv/iEX6/xrG",
      "include_colab_link": true
    },
    "kernelspec": {
      "name": "python3",
      "display_name": "Python 3"
    },
    "language_info": {
      "name": "python"
    }
  },
  "cells": [
    {
      "cell_type": "markdown",
      "metadata": {
        "id": "view-in-github",
        "colab_type": "text"
      },
      "source": [
        "<a href=\"https://colab.research.google.com/github/JoungMinJu/lab_study/blob/main/%EC%88%9C%ED%99%98%EC%8B%A0%EA%B2%BD%EB%A7%9D.ipynb\" target=\"_parent\"><img src=\"https://colab.research.google.com/assets/colab-badge.svg\" alt=\"Open In Colab\"/></a>"
      ]
    },
    {
      "cell_type": "code",
      "metadata": {
        "id": "ckFEfZzk8Fuy"
      },
      "source": [
        "from keras.models import Sequential\n",
        "from keras.layers import SimpleRNN\n"
      ],
      "execution_count": 1,
      "outputs": []
    },
    {
      "cell_type": "code",
      "metadata": {
        "colab": {
          "base_uri": "https://localhost:8080/"
        },
        "id": "M0joVlRa8Olg",
        "outputId": "dd49d4c5-6585-4abb-88eb-f8aa4361d265"
      },
      "source": [
        "model=Sequential()\n",
        "model.add(SimpleRNN(3, input_shape=(2,10)))\n",
        "#hidden size, timesteps(=input_length), input_dim\n",
        "\n",
        "model.summary()\n",
        "\n",
        "#출력값은 (batch_size, output_dim)의 2D 텐서인데 현 상태에서 배치사이즈 알 수 없으므로 None, 3이 된다."
      ],
      "execution_count": 3,
      "outputs": [
        {
          "output_type": "stream",
          "text": [
            "Model: \"sequential_1\"\n",
            "_________________________________________________________________\n",
            "Layer (type)                 Output Shape              Param #   \n",
            "=================================================================\n",
            "simple_rnn (SimpleRNN)       (None, 3)                 42        \n",
            "=================================================================\n",
            "Total params: 42\n",
            "Trainable params: 42\n",
            "Non-trainable params: 0\n",
            "_________________________________________________________________\n"
          ],
          "name": "stdout"
        }
      ]
    },
    {
      "cell_type": "code",
      "metadata": {
        "colab": {
          "base_uri": "https://localhost:8080/"
        },
        "id": "Kfk6Vf_Y8pGf",
        "outputId": "e31a50de-c7db-4552-e95c-f18328ee525a"
      },
      "source": [
        "# 배치사이즈 미리 정의\n",
        "model=Sequential()\n",
        "model.add(SimpleRNN(3, batch_input_shape=(8,2,10)))\n",
        "model.summary()"
      ],
      "execution_count": 4,
      "outputs": [
        {
          "output_type": "stream",
          "text": [
            "Model: \"sequential_2\"\n",
            "_________________________________________________________________\n",
            "Layer (type)                 Output Shape              Param #   \n",
            "=================================================================\n",
            "simple_rnn_1 (SimpleRNN)     (8, 3)                    42        \n",
            "=================================================================\n",
            "Total params: 42\n",
            "Trainable params: 42\n",
            "Non-trainable params: 0\n",
            "_________________________________________________________________\n"
          ],
          "name": "stdout"
        }
      ]
    },
    {
      "cell_type": "code",
      "metadata": {
        "colab": {
          "base_uri": "https://localhost:8080/"
        },
        "id": "AzIlIQj48wiN",
        "outputId": "74f1929e-6adf-4391-e788-60dafa12e88f"
      },
      "source": [
        "#출력값으로 batch_size,timesteps,output_dim의 3D 텐서를 리턴하게 하겠다.\n",
        "model=Sequential()\n",
        "model.add(SimpleRNN(3, batch_input_shape=(8,2,10), return_sequences=True))\n",
        "model.summary()"
      ],
      "execution_count": 5,
      "outputs": [
        {
          "output_type": "stream",
          "text": [
            "Model: \"sequential_3\"\n",
            "_________________________________________________________________\n",
            "Layer (type)                 Output Shape              Param #   \n",
            "=================================================================\n",
            "simple_rnn_2 (SimpleRNN)     (8, 2, 3)                 42        \n",
            "=================================================================\n",
            "Total params: 42\n",
            "Trainable params: 42\n",
            "Non-trainable params: 0\n",
            "_________________________________________________________________\n"
          ],
          "name": "stdout"
        }
      ]
    },
    {
      "cell_type": "code",
      "metadata": {
        "id": "TAruNTsS9D2Q"
      },
      "source": [
        ""
      ],
      "execution_count": null,
      "outputs": []
    },
    {
      "cell_type": "markdown",
      "metadata": {
        "id": "sYaTOJKP9GMV"
      },
      "source": [
        "직접 파이썬으로 RNN 구현해보기\n",
        "\n",
        "촉 은닉상태를 0벡터로 초기화하고 각 시점마다 입력을 받으면서 각 시점에 대해 입려과 은닉상태를 가지고 연산하고 계산 결과는 현재 시점의 은닉상태가 되도록 구현하면 된다.\n",
        "\n",
        "t시점의 은닉상태는 hidden_state_t이고 입력데이터의 길이는 input_length, 이 경우 입력 데이터의 길이는 곧 총 시점의 수 timesteps가 된다. 그리고 t시점의 입력값을 input_t 로 선언.\n",
        "\n",
        "각 메모리 셀은 각 시점마다 input_t와 hidden_state_t(이전 상태의 은닉상태)를 입력으로 활성화함수인 하이퍼볼릭탄젠트 함수를 ㅌㅇ해 현 시점의 hidden_state_t를 계산한다.\n",
        "\n"
      ]
    },
    {
      "cell_type": "code",
      "metadata": {
        "id": "CRRpzgsH-Ok5"
      },
      "source": [
        "import numpy as np \n",
        "#쉽게하려고 (timesteps, input_dim)으로 받았는데 실제 케라스에서는 (batch_size, timesteps, input_dim)으로 받는다\n",
        "\n",
        "timesteps=10 #시점의 수, NLP에서는 보통 문장의 길이\n",
        "input_dim=4 #입력의 차원, NLP에서는 보통 단어 벡터의 차원\n",
        "hidden_size=8 # 은닉상태의 크기, 메모리 셀의 용량\n",
        "\n",
        "inputs=np.random.random((timesteps, input_dim))#입력에 해당되는 2D 텐서\n",
        "#0~1보다 작은 값의 범주에서 사이즈만큼 return gksek. ((3,2))면 ((3,2))사이즈로 return\n",
        "\n",
        "hidden_state_t=np.zeros((hidden_size,)) #초기 은닉상태는 0벡터로 초기화 \n",
        "#은닉상태의 크기로 은닉상태를 만듬\n"
      ],
      "execution_count": 7,
      "outputs": []
    },
    {
      "cell_type": "code",
      "metadata": {
        "colab": {
          "base_uri": "https://localhost:8080/"
        },
        "id": "wvS8WljfBC6L",
        "outputId": "2f15d476-cef6-4712-9cd3-db09669d3a08"
      },
      "source": [
        "print(hidden_state_t)"
      ],
      "execution_count": 8,
      "outputs": [
        {
          "output_type": "stream",
          "text": [
            "[0. 0. 0. 0. 0. 0. 0. 0.]\n"
          ],
          "name": "stdout"
        }
      ]
    },
    {
      "cell_type": "code",
      "metadata": {
        "id": "kW42LyaKBH4g"
      },
      "source": [
        "#가중치와 편향 정의\n",
        "Wx=np.random.random((hidden_size, input_dim))\n",
        "Wh=np.random.random((hidden_size, hidden_size))\n",
        "b=np.random.random((hidden_size,))"
      ],
      "execution_count": 9,
      "outputs": []
    },
    {
      "cell_type": "code",
      "metadata": {
        "colab": {
          "base_uri": "https://localhost:8080/"
        },
        "id": "I_5E1BPDBSyN",
        "outputId": "8ca334eb-bf5f-4110-bc42-460c7a1b984a"
      },
      "source": [
        "print(np.shape(Wx)) #은닉상태의 크기 * 입력의 차원\n",
        "print(np.shape(Wh)) #은닉상태의 크기 * 은닉상태의 크기\n",
        "print(np.shape(b)) #은닉상태의 크기"
      ],
      "execution_count": 11,
      "outputs": [
        {
          "output_type": "stream",
          "text": [
            "(8, 4)\n",
            "(8, 8)\n",
            "(8,)\n"
          ],
          "name": "stdout"
        }
      ]
    },
    {
      "cell_type": "code",
      "metadata": {
        "colab": {
          "base_uri": "https://localhost:8080/"
        },
        "id": "3IE8a3zt8b-9",
        "outputId": "754e4b9e-67e4-4603-c952-356c7a09e48a"
      },
      "source": [
        "#모든 시점의 은닉상태 출력한다고 가정하고 RNN 층을 동작시킴\n",
        "total_hidden_states=[]\n",
        "#메모리 셀 동작\n",
        "for input_t in inputs: #각 시점에 따라서 입력값이 입력됨\n",
        "  output_t=np.tanh(np.dot(Wx, input_t)+np.dot(Wh, hidden_state_t)+b)\n",
        "  total_hidden_states.append(list(output_t)) #각 시점의 은닉상태값을 계속해서 축적\n",
        "  print(np.shape(total_hidden_states))#각 시점 t별 메모리 셀의 출력 크기는 (timesteps output_dim)\n",
        "  hidden_state_t=output_t\n",
        "total_hidden_states=np.stack(total_hidden_states,axis=0) #출력 좀 깔끔히\n",
        "print(total_hidden_states)"
      ],
      "execution_count": 15,
      "outputs": [
        {
          "output_type": "stream",
          "text": [
            "(1, 8)\n",
            "(2, 8)\n",
            "(3, 8)\n",
            "(4, 8)\n",
            "(5, 8)\n",
            "(6, 8)\n",
            "(7, 8)\n",
            "(8, 8)\n",
            "(9, 8)\n",
            "(10, 8)\n",
            "[[0.99998618 0.99993596 0.99999858 0.99999093 0.99994482 0.99999766\n",
            "  0.99999062 0.99997908]\n",
            " [0.99995974 0.99978326 0.99999474 0.99997315 0.99980126 0.99999176\n",
            "  0.99999105 0.99996299]\n",
            " [0.99995791 0.99986733 0.99999662 0.99998377 0.9998741  0.99999385\n",
            "  0.99999408 0.99997958]\n",
            " [0.99990771 0.99968959 0.99999309 0.99996949 0.99978724 0.99998801\n",
            "  0.99997931 0.99991945]\n",
            " [0.99997949 0.99991698 0.99999801 0.99998864 0.99992207 0.9999966\n",
            "  0.99999337 0.99998196]\n",
            " [0.99995226 0.99970127 0.99999485 0.9999676  0.9998203  0.99999291\n",
            "  0.9999713  0.99989561]\n",
            " [0.99995609 0.99988856 0.99999753 0.99998712 0.99991109 0.99999542\n",
            "  0.99999214 0.99997731]\n",
            " [0.9998301  0.99965673 0.99999311 0.99997103 0.99980437 0.99998698\n",
            "  0.99997541 0.99990802]\n",
            " [0.99991912 0.9997048  0.9999947  0.99997225 0.99984247 0.99999144\n",
            "  0.99995956 0.99986967]\n",
            " [0.999979   0.99990687 0.99999759 0.99998695 0.99990381 0.99999589\n",
            "  0.99999441 0.99998306]]\n"
          ],
          "name": "stdout"
        }
      ]
    }
  ]
}